{
  "cells": [
    {
      "cell_type": "markdown",
      "metadata": {
        "id": "3aQSXyC7dMop"
      },
      "source": [
        "Avaliação de escoliose utilizando um baropodometro e aprendizado de máquina - IA1s2024\n",
        "\n",
        "Éric Fadul Cunha Yoshida - RA 148143\n",
        "\n",
        "Luiz Eduardo Casella - RA 156702\n"
      ]
    },
    {
      "cell_type": "code",
      "execution_count": null,
      "metadata": {
        "colab": {
          "base_uri": "https://localhost:8080/"
        },
        "id": "5HNC4TAVegQ7",
        "outputId": "084dd461-d2fe-44f0-d60a-9f1dd95323ae"
      },
      "outputs": [
        {
          "name": "stdout",
          "output_type": "stream",
          "text": [
            "Mounted at /content/drive\n"
          ]
        }
      ],
      "source": [
        "from google.colab import drive\n",
        "drive.mount('/content/drive')\n",
        "\n",
        "#Carregando as bibliotecas\n",
        "\n",
        "import pandas as pd\n",
        "import numpy as np\n",
        "from sklearn.model_selection import train_test_split\n",
        "from sklearn.preprocessing import StandardScaler, MinMaxScaler\n",
        "from sklearn.linear_model import Perceptron\n",
        "from sklearn.metrics import classification_report, accuracy_score, balanced_accuracy_score, confusion_matrix\n",
        "import matplotlib.pyplot as plt\n",
        "from sklearn.neural_network import MLPClassifier\n",
        "import matplotlib.pyplot as plt\n",
        "import tensorflow as tf\n",
        "import torch\n",
        "from sklearn.model_selection import KFold\n",
        "from tqdm import tqdm\n",
        "from sklearn.linear_model import Perceptron\n",
        "from sklearn.model_selection import train_test_split\n",
        "from sklearn.metrics import accuracy_score\n",
        "from sklearn.model_selection import GroupKFold, StratifiedGroupKFold\n",
        "from sklearn import svm"
      ]
    },
    {
      "cell_type": "markdown",
      "metadata": {
        "id": "wAqaPsbR4AF7"
      },
      "source": [
        "# Estudo sobre os dados"
      ]
    },
    {
      "cell_type": "markdown",
      "metadata": {
        "id": "6Jj3Xs8Vr1pt"
      },
      "source": [
        "Nessa célula, buscamos plotar alguns gráficos a partir dos dados fornecidos pelo dataset para que possamos extrair algumas informações do comportamento do nosso banco de dados e entender as informações nele pertencentes."
      ]
    },
    {
      "cell_type": "code",
      "execution_count": null,
      "metadata": {
        "colab": {
          "base_uri": "https://localhost:8080/"
        },
        "id": "BwMD-6xn4GDk",
        "outputId": "7e4a4f5e-76bf-4baf-e93d-2677c8cf83ff"
      },
      "outputs": [
        {
          "name": "stdout",
          "output_type": "stream",
          "text": [
            "     Age  Mass  Height  Sex  Scolio\n",
            "0     59  67.0    1.60    1       1\n",
            "1     59  67.0    1.60    1       1\n",
            "2     59  67.0    1.60    1       1\n",
            "3     11  45.0    1.55    1       1\n",
            "4     17  49.9    1.57    1       1\n",
            "..   ...   ...     ...  ...     ...\n",
            "144   14  80.7    1.62    1       0\n",
            "145   13  66.7    1.57    0       0\n",
            "146   12  51.0    1.65    1       0\n",
            "147   72  38.0    1.50    1       1\n",
            "148   50  71.0    1.60    1       1\n",
            "\n",
            "[149 rows x 5 columns]\n"
          ]
        }
      ],
      "source": [
        "#Manipulando os dados\n",
        "\n",
        "# Carregar os dados da planilha com cabeçalhos\n",
        "file_path = '/content/drive/MyDrive/tab_features_LIM.xlsx'\n",
        "#file_path = r'C:\\Users\\Cabas\\Desktop\\trabalho_ia\\tab_features_LIM.xlsx'\n",
        "df = pd.read_excel(file_path, header=0)\n",
        "df = df.drop(axis='columns', labels=['Name', 'L_Handed', 'Male'])\n",
        "df = df.rename(columns={'Female': 'Sex', 'R_Handed':'Handness'})\n",
        "verdade = df.iloc[:, -1]\n",
        "df = df.iloc[:, 1:5]\n",
        "\n",
        "\n",
        "df = pd.concat([df, verdade], axis=1)\n",
        "df.iloc[:, -1] = df.iloc[:, -1].apply(lambda y: 0 if y < 10 else 1)\n",
        "\n",
        "print(df)"
      ]
    },
    {
      "cell_type": "code",
      "execution_count": null,
      "metadata": {
        "colab": {
          "base_uri": "https://localhost:8080/",
          "height": 565
        },
        "id": "v8NBoCCH9tD9",
        "outputId": "3dfc98b4-7a31-449b-983f-b3f93b8f5956"
      },
      "outputs": [
        {
          "data": {
            "image/png": "[encoded data removed]",
            "text/plain": [
              "<Figure size 800x600 with 1 Axes>"
            ]
          },
          "metadata": {},
          "output_type": "display_data"
        }
      ],
      "source": [
        "import pandas as pd\n",
        "import matplotlib.pyplot as plt\n",
        "\n",
        "# Supondo que você já tenha seu DataFrame chamado df\n",
        "\n",
        "# Média das idades totais\n",
        "media_idades_total = df['Age'].mean()\n",
        "\n",
        "# Média das idades das pessoas com verdade 0\n",
        "media_c1 = df[df['Scolio'] == 0]['Age'].mean()\n",
        "\n",
        "# Média das idades das pessoas com verdade 1\n",
        "media_c2 = df[df['Scolio'] == 1]['Age'].mean()\n",
        "\n",
        "# Dados para o gráfico\n",
        "labels = ['Média Total', 'C1', 'C2']\n",
        "medias = [media_idades_total, media_c1, media_c2]\n",
        "\n",
        "# Plotando o gráfico de barras\n",
        "plt.figure(figsize=(8, 6))\n",
        "plt.bar(labels, medias, color=['blue', 'green', 'orange'])\n",
        "plt.xlabel('Categorias')\n",
        "plt.ylabel('Média das Idades')\n",
        "plt.title('Média das Idades por Classes')\n",
        "plt.show()\n"
      ]
    },
    {
      "cell_type": "code",
      "execution_count": null,
      "metadata": {
        "colab": {
          "base_uri": "https://localhost:8080/",
          "height": 565
        },
        "id": "25jWAiq9-SZw",
        "outputId": "1d3e95cd-00af-4439-97c3-41e9ab7974bb"
      },
      "outputs": [
        {
          "data": {
            "image/png": "[encoded data removed]",
            "text/plain": [
              "<Figure size 800x600 with 1 Axes>"
            ]
          },
          "metadata": {},
          "output_type": "display_data"
        }
      ],
      "source": [
        "import pandas as pd\n",
        "import matplotlib.pyplot as plt\n",
        "\n",
        "# Supondo que você já tenha seu DataFrame chamado df\n",
        "\n",
        "# Média dos pesos totais\n",
        "media_pesos_total = df['Mass'].mean()\n",
        "\n",
        "# Média dos pesos das pessoas com verdade 0\n",
        "media_c1 = df[df['Scolio'] == 0]['Mass'].mean()\n",
        "\n",
        "# Média dos pesos das pessoas com verdade 1\n",
        "media_c2 = df[df['Scolio'] == 1]['Mass'].mean()\n",
        "\n",
        "# Dados para o gráfico\n",
        "labels = ['Média Total', 'C1', 'C2']\n",
        "medias = [media_pesos_total, media_c1, media_c2]\n",
        "\n",
        "# Plotando o gráfico de barras\n",
        "plt.figure(figsize=(8, 6))\n",
        "plt.bar(labels, medias, color=['blue', 'green', 'orange'])\n",
        "plt.xlabel('Categorias')\n",
        "plt.ylabel('Média dos pesos')\n",
        "plt.title('Média dos pesos por Classes')\n",
        "plt.show()\n"
      ]
    },
    {
      "cell_type": "code",
      "execution_count": null,
      "metadata": {
        "colab": {
          "base_uri": "https://localhost:8080/",
          "height": 565
        },
        "id": "FftZ3ufw-zbh",
        "outputId": "8ed854ee-3498-4a9c-8d5d-e6ce8da0ea64"
      },
      "outputs": [
        {
          "data": {
            "image/png": "[encoded data removed]",
            "text/plain": [
              "<Figure size 800x600 with 1 Axes>"
            ]
          },
          "metadata": {},
          "output_type": "display_data"
        }
      ],
      "source": [
        "import pandas as pd\n",
        "import matplotlib.pyplot as plt\n",
        "\n",
        "# Supondo que você já tenha seu DataFrame chamado df\n",
        "\n",
        "# Média das Alturas totais\n",
        "media_idades_total = df['Height'].mean()\n",
        "\n",
        "# Média das Alturas das pessoas com verdade 0\n",
        "media_c1 = df[df['Scolio'] == 0]['Height'].mean()\n",
        "\n",
        "# Média das Alturas das pessoas com verdade 1\n",
        "media_c2 = df[df['Scolio'] == 1]['Height'].mean()\n",
        "\n",
        "# Dados para o gráfico\n",
        "labels = ['Média Total', 'C1', 'C2']\n",
        "medias = [media_idades_total, media_c1, media_c2]\n",
        "\n",
        "# Plotando o gráfico de barras\n",
        "plt.figure(figsize=(8, 6))\n",
        "plt.bar(labels, medias, color=['blue', 'green', 'orange'])\n",
        "plt.xlabel('Categorias')\n",
        "plt.ylabel('Média das Alturas')\n",
        "plt.title('Média das Idades por Classes')\n",
        "plt.show()\n"
      ]
    },
    {
      "cell_type": "code",
      "execution_count": null,
      "metadata": {
        "colab": {
          "base_uri": "https://localhost:8080/",
          "height": 545
        },
        "id": "udNvGm7b_vkq",
        "outputId": "56f9dc1b-b94d-4615-d9a8-9aacfbf5965a"
      },
      "outputs": [
        {
          "data": {
            "image/png": "[encoded data removed]",
            "text/plain": [
              "<Figure size 800x600 with 1 Axes>"
            ]
          },
          "metadata": {},
          "output_type": "display_data"
        }
      ],
      "source": [
        "import pandas as pd\n",
        "import matplotlib.pyplot as plt\n",
        "\n",
        "# Supondo que você já tenha seu DataFrame chamado df\n",
        "\n",
        "# Calculando a distribuição de Sex em porcentagem\n",
        "distribuicao_sex = df['Sex'].value_counts(normalize=True) * 100\n",
        "\n",
        "# Mapear os valores binários para rótulos\n",
        "distribuicao_sex.index = ['0 (Feminino)', '1 (Masculino)']  # Ajuste conforme necessário\n",
        "\n",
        "# Plotando o gráfico de barras\n",
        "plt.figure(figsize=(8, 6))\n",
        "distribuicao_sex.plot(kind='bar', color=['skyblue', 'lightcoral'])\n",
        "plt.ylabel('Porcentagem (%)')\n",
        "plt.title('Distribuição da Coluna Sex em Porcentagem')\n",
        "plt.xticks(rotation=0)\n",
        "plt.show()"
      ]
    },
    {
      "cell_type": "code",
      "execution_count": null,
      "metadata": {
        "colab": {
          "base_uri": "https://localhost:8080/",
          "height": 470
        },
        "id": "iT7e4TTn_XjN",
        "outputId": "002553b4-dfa8-4fd8-d05f-11385489ac49"
      },
      "outputs": [
        {
          "data": {
            "text/plain": [
              "<Figure size 1000x600 with 0 Axes>"
            ]
          },
          "metadata": {},
          "output_type": "display_data"
        },
        {
          "data": {
            "image/png": "[encoded data removed]",
            "text/plain": [
              "<Figure size 640x480 with 1 Axes>"
            ]
          },
          "metadata": {},
          "output_type": "display_data"
        }
      ],
      "source": [
        "\n",
        "# Calculando a distribuição de Sex em relação a Scolio\n",
        "distribuicao_sex_scolio = df.groupby(['Scolio', 'Sex']).size().unstack(fill_value=0)\n",
        "\n",
        "# Convertendo para porcentagem\n",
        "distribuicao_sex_scolio_perc = distribuicao_sex_scolio.div(distribuicao_sex_scolio.sum(axis=1), axis=0) * 100\n",
        "\n",
        "# Mapear os valores binários para rótulos\n",
        "distribuicao_sex_scolio_perc.index = ['0 (Scolio)', '1 (Scolio)']\n",
        "distribuicao_sex_scolio_perc.columns = ['0 (Masculino)', '1 (Feminino)']  # Ajuste conforme necessário\n",
        "\n",
        "# Plotando o gráfico de barras empilhadas para a distribuição de Sex dentro de cada valor de Scolio\n",
        "plt.figure(figsize=(10, 6))\n",
        "distribuicao_sex_scolio_perc.plot(kind='bar', stacked=True, color=['skyblue', 'lightcoral'])\n",
        "plt.ylabel('Porcentagem (%)')\n",
        "plt.title('Distribuição da Coluna Sex em Relação à Coluna Scolio')\n",
        "plt.legend(title='Sex')\n",
        "plt.xticks(rotation=0)\n",
        "plt.show()\n",
        "\n"
      ]
    },
    {
      "cell_type": "markdown",
      "metadata": {
        "id": "aJp4yHsUcNG4"
      },
      "source": [
        "\n",
        "# Replicação da tese do professor Fabian\n",
        "\n",
        "\n",
        "\n"
      ]
    },
    {
      "cell_type": "markdown",
      "metadata": {
        "id": "-xQb3yrUcNG_"
      },
      "source": [
        "Nossa linha de atividades antes da replicação incluiu o processo de anonimização dos dados brutos das amostragens de cada paciente, dados os quais nao foram utilizados ainda, tambem foi testado a normalização desses dados ao transforma-los em imagens para identificar a maneira a qual não se perde informações e ainda esta indefinida.\n",
        "\n",
        "Para realização da entrega, tentamos replicar os parâmetros e métodos utilizados na tese do professor Fabian Rodrigo Castro Forero (disponivel em: https://repositorio.unesp.br/items/153798ea-a515-4313-8302-a8f59bf1e127)\n",
        "\n",
        "O trabalho buscou replicar os resultados já existentes na bibliografia.\n",
        "\n",
        "Na tese utilizou-se calculos de certa complexidade para encontrar os melhores metodos e hiperparamentros, ao tentar replicar interpretamos que foi utilizado uma RNA MLP de topologia [30-44-1] utilizando trainscg com otimizador e com relação aos dados, entendeu-se que foi utilizado apenas os primeiros 70 atributos do dataset que continha 147 atributos, para separação dos dados pra treino utilizou-se o metodo de Kfold com K = 5.\n",
        "\n",
        "Para replicar, utilizamos o ScikitLearn, e ajustamos os parametros da MLPClassifier com a topologia (30,44,1) e utilizou-se o solver SGD, tambem foi utilizado o Kfold com K=5.\n",
        "\n",
        "Nesse processo foi tentado utilizar um modelo na biblioteca do tensorflow porem apos algumas verificaçoes optou-se por adotar o modelo no sklearn. Para proximos passos pretendemos tentar aplicar o metodo de group kfold visto que muitos dados tem similaridade por serem de um mesmo paciente, assim planeja-se agrupar de acordo com o paciente e separar os dados levando isso em conta para evitar enviesamento. Tambem será explorado outros metodos para analise e aprendizado utilizando os dados brutos.\n",
        "\n",
        "Acreditamos que é sim possível entregar o que foi prometido no documento da proposta, que foi de melhorar a acurácia do trabalho base."
      ]
    },
    {
      "cell_type": "code",
      "execution_count": null,
      "metadata": {
        "colab": {
          "base_uri": "https://localhost:8080/"
        },
        "id": "W5nW_CUQcNHA",
        "outputId": "1f572c67-2aca-4f34-be4d-dbc177865da1"
      },
      "outputs": [],
      "source": [
        "#Manipulando os dados\n",
        "\n",
        "# Carregar os dados da planilha com cabeçalhos\n",
        "#file_path = '/content/drive/MyDrive/tab_features_LIM.xlsx'\n",
        "file_path = r'C:\\Users\\Cabas\\Desktop\\trabalho_ia\\tab_features_LIM.xlsx'\n",
        "df = pd.read_excel(file_path, header=0)\n",
        "df = df.drop(axis='columns', labels=['Name', 'L_Handed', 'Male'])\n",
        "df = df.rename(columns={'Female': 'Sex', 'R_Handed':'Handness'})\n",
        "df = df.iloc[:, 1:]\n",
        "print(df)"
      ]
    },
    {
      "cell_type": "code",
      "execution_count": null,
      "metadata": {
        "colab": {
          "base_uri": "https://localhost:8080/"
        },
        "id": "XKg347_5cNHA",
        "outputId": "cb3c0b23-1ecf-4d4e-9d7d-09963b577499"
      },
      "outputs": [
        {
          "name": "stdout",
          "output_type": "stream",
          "text": [
            "<bound method DataFrame.info of      Age  Mass  Height  Sex  Handness   CoP_ML    CoP_AP  OE_T_Disp  \\\n",
            "0     59  67.0    1.60    1         1 -16.0122  185.1922   244.1792   \n",
            "1     59  67.0    1.60    1         1  -7.9472  187.3671   196.1783   \n",
            "2     59  67.0    1.60    1         1  -6.2638  191.7445   146.3464   \n",
            "3     11  45.0    1.55    1         1  12.3376  200.9589   164.7609   \n",
            "4     17  49.9    1.57    1         1   7.5364  187.0647   177.5941   \n",
            "..   ...   ...     ...  ...       ...      ...       ...        ...   \n",
            "144   14  80.7    1.62    1         1   3.4477  218.3915   126.4907   \n",
            "145   13  66.7    1.57    0         1  -3.8503  185.0278    78.8369   \n",
            "146   12  51.0    1.65    1         1  -2.6673  191.2708   180.8285   \n",
            "147   72  38.0    1.50    1         1 -11.4396  209.2997   207.6702   \n",
            "148   50  71.0    1.60    1         1  -9.9823  193.3489   347.2491   \n",
            "\n",
            "     OE_Disp_ML  OE_Disp_AP  ...  s111  s112  s113  s114  s115  s116  s117  \\\n",
            "0      143.6967    170.9334  ...     0   0.0   0.0   0.0     0     0     0   \n",
            "1      135.3815    117.8008  ...     0   0.0   0.0   0.0     0     0     0   \n",
            "2       85.8344    103.4913  ...     0   0.0   0.0   0.0     0     0     0   \n",
            "3       91.6894    123.7450  ...     0   0.0   0.0   0.0     0     0     0   \n",
            "4      103.4699    124.5703  ...     0   0.0   0.0   0.0     0     0     0   \n",
            "..          ...         ...  ...   ...   ...   ...   ...   ...   ...   ...   \n",
            "144     76.7264     87.4917  ...     0   0.0   0.0   0.0     0     0     0   \n",
            "145     57.4253     46.0859  ...     0   0.0   0.0   0.0     0     0     0   \n",
            "146     89.6837    136.6060  ...     0   0.0   0.0   0.0     0     0     0   \n",
            "147    131.9775    135.2371  ...     0   0.0   0.0   0.0     0     0     0   \n",
            "148    254.5254    199.8160  ...     0   0.0   0.0   0.0     0     0     0   \n",
            "\n",
            "     s118  s119  Scolio  \n",
            "0       0     0      20  \n",
            "1       0     0      20  \n",
            "2       0     0      20  \n",
            "3       0     0      20  \n",
            "4       0     0      16  \n",
            "..    ...   ...     ...  \n",
            "144     0     0       5  \n",
            "145     0     0       3  \n",
            "146     0     0       2  \n",
            "147     0     0      12  \n",
            "148     0     0      10  \n",
            "\n",
            "[149 rows x 148 columns]>\n",
            "[[59.    67.     1.6   ...  0.     0.    13.038]\n",
            " [59.    67.     1.6   ...  0.     9.532 17.744]\n",
            " [59.    67.     1.6   ...  0.     5.683 19.179]\n",
            " ...\n",
            " [12.    51.     1.65  ...  0.     0.     6.073]\n",
            " [72.    38.     1.5   ...  0.     0.     7.141]\n",
            " [50.    71.     1.6   ...  0.     0.     0.   ]]\n",
            "[1 1 1 1 1 1 1 1 1 1 1 1 1 1 1 1 1 1 1 1 1 1 1 1 1 1 1 1 1 1 1 1 1 1 1 1 1\n",
            " 1 1 1 1 1 1 1 1 1 1 1 1 1 1 1 1 1 1 1 1 1 1 1 1 1 1 1 1 1 1 1 1 1 1 1 1 1\n",
            " 1 1 1 1 1 1 1 1 1 1 1 1 1 1 1 1 1 0 0 0 0 0 0 0 0 0 0 0 0 0 0 0 0 0 0 0 0\n",
            " 0 0 0 0 0 0 0 0 0 0 0 0 0 0 0 0 0 0 0 0 0 0 0 0 0 0 0 1 1 1 1 1 1 0 0 0 1\n",
            " 1]\n"
          ]
        }
      ],
      "source": [
        "print(df.info)\n",
        "\n",
        "# Separar as features 70 primeiros atributos e o label\n",
        "X = df.iloc[:, :70].values\n",
        "y = df.iloc[:, -1].values\n",
        "\n",
        "# Converter labels para c1 e c2\n",
        "y = np.where(y < 10, 0, 1)  # c1 = 0, c2 = 1\n",
        "print(X)\n",
        "print(y)"
      ]
    },
    {
      "cell_type": "code",
      "execution_count": null,
      "metadata": {
        "id": "otuXEtrFcNHA"
      },
      "outputs": [],
      "source": [
        "# Padronizar os dados\n",
        "scaler = StandardScaler()\n",
        "X = scaler.fit_transform(X)"
      ]
    },
    {
      "cell_type": "code",
      "execution_count": null,
      "metadata": {
        "colab": {
          "base_uri": "https://localhost:8080/"
        },
        "id": "ecBiq0zkcNHB",
        "outputId": "a7417db8-7dc2-4f91-aded-e1e32471b11b"
      },
      "outputs": [
        {
          "name": "stderr",
          "output_type": "stream",
          "text": [
            "Training fold: 100%|██████████| 3000/3000 [00:28<00:00, 104.44it/s]\n"
          ]
        },
        {
          "name": "stdout",
          "output_type": "stream",
          "text": [
            "Fold Train Accuracy: 0.9748, Fold Test Accuracy: 0.6667\n",
            "Fold Balanced Train Accuracy: 0.9808, Fold Balanced Test Accuracy: 0.4762\n",
            "Confusion Matrix for Fold 1:\n",
            "[[ 0  9]\n",
            " [ 1 20]]\n",
            "\n"
          ]
        },
        {
          "name": "stderr",
          "output_type": "stream",
          "text": [
            "Training fold: 100%|██████████| 3000/3000 [00:34<00:00, 86.00it/s] \n"
          ]
        },
        {
          "name": "stdout",
          "output_type": "stream",
          "text": [
            "Fold Train Accuracy: 0.9832, Fold Test Accuracy: 0.7333\n",
            "Fold Balanced Train Accuracy: 0.9878, Fold Balanced Test Accuracy: 0.7014\n",
            "Confusion Matrix for Fold 2:\n",
            "[[ 6  7]\n",
            " [ 1 16]]\n",
            "\n"
          ]
        },
        {
          "name": "stderr",
          "output_type": "stream",
          "text": [
            "Training fold: 100%|██████████| 3000/3000 [00:30<00:00, 98.48it/s] \n"
          ]
        },
        {
          "name": "stdout",
          "output_type": "stream",
          "text": [
            "Fold Train Accuracy: 0.9664, Fold Test Accuracy: 0.7667\n",
            "Fold Balanced Train Accuracy: 0.9759, Fold Balanced Test Accuracy: 0.7545\n",
            "Confusion Matrix for Fold 3:\n",
            "[[ 8  6]\n",
            " [ 1 15]]\n",
            "\n"
          ]
        },
        {
          "name": "stderr",
          "output_type": "stream",
          "text": [
            "Training fold: 100%|██████████| 3000/3000 [00:32<00:00, 92.83it/s] \n"
          ]
        },
        {
          "name": "stdout",
          "output_type": "stream",
          "text": [
            "Fold Train Accuracy: 0.6387, Fold Test Accuracy: 0.7667\n",
            "Fold Balanced Train Accuracy: 0.5000, Fold Balanced Test Accuracy: 0.5000\n",
            "Confusion Matrix for Fold 4:\n",
            "[[ 0  7]\n",
            " [ 0 23]]\n",
            "\n"
          ]
        },
        {
          "name": "stderr",
          "output_type": "stream",
          "text": [
            "Training fold: 100%|██████████| 3000/3000 [00:27<00:00, 107.69it/s]"
          ]
        },
        {
          "name": "stdout",
          "output_type": "stream",
          "text": [
            "Fold Train Accuracy: 0.9583, Fold Test Accuracy: 0.8621\n",
            "Fold Balanced Train Accuracy: 0.9675, Fold Balanced Test Accuracy: 0.8604\n",
            "Confusion Matrix for Fold 5:\n",
            "[[ 6  1]\n",
            " [ 3 19]]\n",
            "\n",
            "\n",
            "Mean Train Accuracy: 0.9043 ± 0.1331\n",
            "Mean Test Accuracy: 0.7591 ± 0.0631\n",
            "Mean Balanced Train Accuracy: 0.8824 ± 0.1913\n",
            "Mean Balanced Test Accuracy: 0.6585 ± 0.1484\n",
            "Aggregated Confusion Matrix:\n",
            "[[ 4.   6. ]\n",
            " [ 1.2 18.6]]\n"
          ]
        },
        {
          "name": "stderr",
          "output_type": "stream",
          "text": [
            "\n"
          ]
        }
      ],
      "source": [
        "# Listas para armazenar as acurácias de cada fold\n",
        "train_accuracies = []\n",
        "test_accuracies = []\n",
        "balanced_train_accuracies = []\n",
        "balanced_test_accuracies = []\n",
        "confusion_matrices = []\n",
        "\n",
        "# Definir o K-Fold Cross-Validation\n",
        "kf = KFold(n_splits=5, shuffle=True, random_state=0)\n",
        "\n",
        "# Definir o número de épocas\n",
        "n_epochs = 3000\n",
        "\n",
        "# Loop sobre os folds\n",
        "for train_index, test_index in kf.split(X):\n",
        "    X_train, X_test = X[train_index], X[test_index]\n",
        "    y_train, y_test = y[train_index], y[test_index]\n",
        "\n",
        "    # Definir o modelo MLP para cada fold\n",
        "    model = MLPClassifier(hidden_layer_sizes=(30,44,1), activation='relu', solver='sgd', max_iter=n_epochs, warm_start=True, random_state=0)\n",
        "\n",
        "    fold_train_accuracies = []\n",
        "    fold_test_accuracies = []\n",
        "    fold_balanced_train_accuracies = []\n",
        "    fold_balanced_test_accuracies = []\n",
        "\n",
        "    for epoch in tqdm(range(n_epochs), desc=f\"Training fold\"):\n",
        "        model.fit(X_train, y_train)\n",
        "        train_accuracy = accuracy_score(y_train, model.predict(X_train))\n",
        "        test_accuracy = accuracy_score(y_test, model.predict(X_test))\n",
        "        balanced_train_accuracy = balanced_accuracy_score(y_train, model.predict(X_train))\n",
        "        balanced_test_accuracy = balanced_accuracy_score(y_test, model.predict(X_test))\n",
        "\n",
        "        fold_train_accuracies.append(train_accuracy)\n",
        "        fold_test_accuracies.append(test_accuracy)\n",
        "        fold_balanced_train_accuracies.append(balanced_train_accuracy)\n",
        "        fold_balanced_test_accuracies.append(balanced_test_accuracy)\n",
        "\n",
        "    train_accuracies.append(fold_train_accuracies)\n",
        "    test_accuracies.append(fold_test_accuracies)\n",
        "    balanced_train_accuracies.append(fold_balanced_train_accuracies)\n",
        "    balanced_test_accuracies.append(fold_balanced_test_accuracies)\n",
        "\n",
        "    y_pred = model.predict(X_test)\n",
        "    conf_matrix = confusion_matrix(y_test, y_pred)\n",
        "    confusion_matrices.append(conf_matrix)\n",
        "\n",
        "    print(f'Fold Train Accuracy: {fold_train_accuracies[-1]:.4f}, Fold Test Accuracy: {fold_test_accuracies[-1]:.4f}')\n",
        "    print(f'Fold Balanced Train Accuracy: {fold_balanced_train_accuracies[-1]:.4f}, Fold Balanced Test Accuracy: {fold_balanced_test_accuracies[-1]:.4f}')\n",
        "    print(f'Confusion Matrix for Fold {len(confusion_matrices)}:\\n{conf_matrix}\\n')\n",
        "\n",
        "# Calcular a acurácia média e desvio padrão na última época\n",
        "final_train_accuracies = [acc[-1] for acc in train_accuracies]\n",
        "final_test_accuracies = [acc[-1] for acc in test_accuracies]\n",
        "final_balanced_train_accuracies = [acc[-1] for acc in balanced_train_accuracies]\n",
        "final_balanced_test_accuracies = [acc[-1] for acc in balanced_test_accuracies]\n",
        "\n",
        "mean_train_accuracy = np.mean(final_train_accuracies)\n",
        "std_train_accuracy = np.std(final_train_accuracies)\n",
        "mean_test_accuracy = np.mean(final_test_accuracies)\n",
        "std_test_accuracy = np.std(final_test_accuracies)\n",
        "\n",
        "mean_balanced_train_accuracy = np.mean(final_balanced_train_accuracies)\n",
        "std_balanced_train_accuracy = np.std(final_balanced_train_accuracies)\n",
        "mean_balanced_test_accuracy = np.mean(final_balanced_test_accuracies)\n",
        "std_balanced_test_accuracy = np.std(final_balanced_test_accuracies)\n",
        "\n",
        "print(f'\\nMean Train Accuracy: {mean_train_accuracy:.4f} ± {std_train_accuracy:.4f}')\n",
        "print(f'Mean Test Accuracy: {mean_test_accuracy:.4f} ± {std_test_accuracy:.4f}')\n",
        "print(f'Mean Balanced Train Accuracy: {mean_balanced_train_accuracy:.4f} ± {std_balanced_train_accuracy:.4f}')\n",
        "print(f'Mean Balanced Test Accuracy: {mean_balanced_test_accuracy:.4f} ± {std_balanced_test_accuracy:.4f}')\n",
        "\n",
        "aggregated_conf_matrix = np.mean(confusion_matrices, axis=0)\n",
        "print(f'Aggregated Confusion Matrix:\\n{aggregated_conf_matrix}')"
      ]
    },
    {
      "cell_type": "markdown",
      "metadata": {
        "id": "4eX4_yDybfsC"
      },
      "source": [
        "\n",
        "# Replicação da tese do professor Fabian (Utilizando RandomUnderSampler)\n",
        "\n",
        "\n",
        "\n"
      ]
    },
    {
      "cell_type": "markdown",
      "metadata": {
        "id": "ktUKHMXUizxm"
      },
      "source": [
        "Nessa célula, tentamos replicar os parâmetros e metodos utilizados na tese do professor Fabian Rodrigo Castro Forero (disponivel em: https://repositorio.unesp.br/items/153798ea-a515-4313-8302-a8f59bf1e127). Com a adição da função RandomUnderSampler, da biblioteca sklearn. Essa função balanceia os treinos de acordo com a classe de menor tamanho, mantendo uma proporção de igualdade dentro dos treinamentos do modelo. Mesmo com a adição da função RandomUnderSampler, não houve melhora na acurácia."
      ]
    },
    {
      "cell_type": "code",
      "execution_count": null,
      "metadata": {
        "colab": {
          "base_uri": "https://localhost:8080/"
        },
        "id": "2WTlK2c20STt",
        "outputId": "c8aedc10-15b6-425a-c595-a21ccbeadc36"
      },
      "outputs": [],
      "source": [
        "#Manipulando os dados\n",
        "\n",
        "# Carregar os dados da planilha com cabeçalhos\n",
        "file_path = '/content/drive/MyDrive/tab_features_LIM.xlsx'\n",
        "#file_path = r'C:\\Users\\Cabas\\Desktop\\trabalho_ia\\tab_features_LIM.xlsx'\n",
        "df = pd.read_excel(file_path, header=0)\n",
        "df = df.drop(axis='columns', labels=['Name', 'L_Handed', 'Male'])\n",
        "df = df.rename(columns={'Female': 'Sex', 'R_Handed':'Handness'})\n",
        "df = df.iloc[:, 1:]\n",
        "print(df)"
      ]
    },
    {
      "cell_type": "code",
      "execution_count": null,
      "metadata": {
        "id": "j2EPw3gi0TMK"
      },
      "outputs": [],
      "source": [
        "X = df.iloc[:, :70].values\n",
        "y = df.iloc[:, -1].values\n",
        "# Converter labels para c1 e c2\n",
        "y = np.where(y < 10, 0, 1)  # c1 = 0, c2 = 1"
      ]
    },
    {
      "cell_type": "code",
      "execution_count": null,
      "metadata": {
        "id": "AmKgsFZ8-1Jw"
      },
      "outputs": [],
      "source": [
        "# Padronizar os dados\n",
        "\n",
        "scaler = StandardScaler()\n",
        "X = scaler.fit_transform(X)"
      ]
    },
    {
      "cell_type": "code",
      "execution_count": null,
      "metadata": {
        "colab": {
          "base_uri": "https://localhost:8080/"
        },
        "id": "KZ70OPof0lcv",
        "outputId": "6b614993-c938-4228-b6ae-417304f6d666"
      },
      "outputs": [
        {
          "name": "stderr",
          "output_type": "stream",
          "text": [
            "Training fold: 100%|██████████| 3000/3000 [00:22<00:00, 133.68it/s]\n"
          ]
        },
        {
          "name": "stdout",
          "output_type": "stream",
          "text": [
            "Fold Train Accuracy: 0.8659, Fold Test Accuracy: 0.5333\n",
            "Fold Balanced Train Accuracy: 0.8659, Fold Balanced Test Accuracy: 0.4762\n",
            "Confusion Matrix for Fold 1:\n",
            "[[ 3  6]\n",
            " [ 8 13]]\n",
            "\n"
          ]
        },
        {
          "name": "stderr",
          "output_type": "stream",
          "text": [
            "Training fold: 100%|██████████| 3000/3000 [00:19<00:00, 151.17it/s]\n"
          ]
        },
        {
          "name": "stdout",
          "output_type": "stream",
          "text": [
            "Fold Train Accuracy: 0.9324, Fold Test Accuracy: 0.6667\n",
            "Fold Balanced Train Accuracy: 0.9324, Fold Balanced Test Accuracy: 0.6516\n",
            "Confusion Matrix for Fold 2:\n",
            "[[ 7  6]\n",
            " [ 4 13]]\n",
            "\n"
          ]
        },
        {
          "name": "stderr",
          "output_type": "stream",
          "text": [
            "Training fold: 100%|██████████| 3000/3000 [00:21<00:00, 137.45it/s]\n"
          ]
        },
        {
          "name": "stdout",
          "output_type": "stream",
          "text": [
            "Fold Train Accuracy: 0.9861, Fold Test Accuracy: 0.7333\n",
            "Fold Balanced Train Accuracy: 0.9861, Fold Balanced Test Accuracy: 0.7366\n",
            "Confusion Matrix for Fold 3:\n",
            "[[11  3]\n",
            " [ 5 11]]\n",
            "\n"
          ]
        },
        {
          "name": "stderr",
          "output_type": "stream",
          "text": [
            "Training fold: 100%|██████████| 3000/3000 [00:19<00:00, 157.08it/s]\n"
          ]
        },
        {
          "name": "stdout",
          "output_type": "stream",
          "text": [
            "Fold Train Accuracy: 0.7093, Fold Test Accuracy: 0.4000\n",
            "Fold Balanced Train Accuracy: 0.7093, Fold Balanced Test Accuracy: 0.4099\n",
            "Confusion Matrix for Fold 4:\n",
            "[[ 3  4]\n",
            " [14  9]]\n",
            "\n"
          ]
        },
        {
          "name": "stderr",
          "output_type": "stream",
          "text": [
            "Training fold: 100%|██████████| 3000/3000 [00:18<00:00, 159.93it/s]"
          ]
        },
        {
          "name": "stdout",
          "output_type": "stream",
          "text": [
            "Fold Train Accuracy: 0.5000, Fold Test Accuracy: 0.7586\n",
            "Fold Balanced Train Accuracy: 0.5000, Fold Balanced Test Accuracy: 0.5000\n",
            "Confusion Matrix for Fold 5:\n",
            "[[ 0  7]\n",
            " [ 0 22]]\n",
            "\n",
            "\n",
            "Mean Train Accuracy: 0.7987 ± 0.1759\n",
            "Mean Test Accuracy: 0.6184 ± 0.1343\n",
            "Mean Balanced Train Accuracy: 0.7987 ± 0.1759\n",
            "Mean Balanced Test Accuracy: 0.5549 ± 0.1205\n",
            "Aggregated Confusion Matrix:\n",
            "[[ 4.8  5.2]\n",
            " [ 6.2 13.6]]\n"
          ]
        },
        {
          "name": "stderr",
          "output_type": "stream",
          "text": [
            "\n"
          ]
        }
      ],
      "source": [
        "from sklearn.model_selection import KFold\n",
        "from sklearn.neural_network import MLPClassifier\n",
        "from sklearn.metrics import accuracy_score, balanced_accuracy_score, confusion_matrix\n",
        "from imblearn.under_sampling import RandomUnderSampler\n",
        "import numpy as np\n",
        "from tqdm import tqdm\n",
        "\n",
        "# Listas para armazenar as acurácias de cada fold\n",
        "train_accuracies = []\n",
        "test_accuracies = []\n",
        "balanced_train_accuracies = []\n",
        "balanced_test_accuracies = []\n",
        "confusion_matrices = []\n",
        "\n",
        "# Definir o K-Fold Cross-Validation\n",
        "kf = KFold(n_splits=5, shuffle=True, random_state=0)\n",
        "\n",
        "# Definir o número de épocas\n",
        "n_epochs = 3000\n",
        "\n",
        "# Loop sobre os folds\n",
        "for train_index, test_index in kf.split(X):\n",
        "    X_train, X_test = X[train_index], X[test_index]\n",
        "    y_train, y_test = y[train_index], y[test_index]\n",
        "\n",
        "\n",
        "\n",
        "    # Aplicar o RandomUnderSampler no conjunto de treinamento para balancear as classes 50% cada\n",
        "    rus = RandomUnderSampler()\n",
        "    X_train_resampled, y_train_resampled = rus.fit_resample(X_train, y_train)\n",
        "\n",
        "    # Definir o modelo MLP para cada fold\n",
        "    model = MLPClassifier(hidden_layer_sizes=(30, 44, 1), activation='relu', solver='sgd', max_iter=n_epochs, warm_start=True, random_state=0)\n",
        "\n",
        "    fold_train_accuracies = []\n",
        "    fold_test_accuracies = []\n",
        "    fold_balanced_train_accuracies = []\n",
        "    fold_balanced_test_accuracies = []\n",
        "\n",
        "    for epoch in tqdm(range(n_epochs), desc=f\"Training fold\"):\n",
        "        model.fit(X_train_resampled, y_train_resampled)\n",
        "        train_accuracy = accuracy_score(y_train_resampled, model.predict(X_train_resampled))\n",
        "        test_accuracy = accuracy_score(y_test, model.predict(X_test))\n",
        "        balanced_train_accuracy = balanced_accuracy_score(y_train_resampled, model.predict(X_train_resampled))\n",
        "        balanced_test_accuracy = balanced_accuracy_score(y_test, model.predict(X_test))\n",
        "\n",
        "        fold_train_accuracies.append(train_accuracy)\n",
        "        fold_test_accuracies.append(test_accuracy)\n",
        "        fold_balanced_train_accuracies.append(balanced_train_accuracy)\n",
        "        fold_balanced_test_accuracies.append(balanced_test_accuracy)\n",
        "\n",
        "    train_accuracies.append(fold_train_accuracies)\n",
        "    test_accuracies.append(fold_test_accuracies)\n",
        "    balanced_train_accuracies.append(fold_balanced_train_accuracies)\n",
        "    balanced_test_accuracies.append(fold_balanced_test_accuracies)\n",
        "\n",
        "    y_pred = model.predict(X_test)\n",
        "    conf_matrix = confusion_matrix(y_test, y_pred)\n",
        "    confusion_matrices.append(conf_matrix)\n",
        "\n",
        "    print(f'Fold Train Accuracy: {fold_train_accuracies[-1]:.4f}, Fold Test Accuracy: {fold_test_accuracies[-1]:.4f}')\n",
        "    print(f'Fold Balanced Train Accuracy: {fold_balanced_train_accuracies[-1]:.4f}, Fold Balanced Test Accuracy: {fold_balanced_test_accuracies[-1]:.4f}')\n",
        "    print(f'Confusion Matrix for Fold {len(confusion_matrices)}:\\n{conf_matrix}\\n')\n",
        "\n",
        "# Calcular a acurácia média e desvio padrão na última época\n",
        "final_train_accuracies = [acc[-1] for acc in train_accuracies]\n",
        "final_test_accuracies = [acc[-1] for acc in test_accuracies]\n",
        "final_balanced_train_accuracies = [acc[-1] for acc in balanced_train_accuracies]\n",
        "final_balanced_test_accuracies = [acc[-1] for acc in balanced_test_accuracies]\n",
        "\n",
        "mean_train_accuracy = np.mean(final_train_accuracies)\n",
        "std_train_accuracy = np.std(final_train_accuracies)\n",
        "mean_test_accuracy = np.mean(final_test_accuracies)\n",
        "std_test_accuracy = np.std(final_test_accuracies)\n",
        "\n",
        "mean_balanced_train_accuracy = np.mean(final_balanced_train_accuracies)\n",
        "std_balanced_train_accuracy = np.std(final_balanced_train_accuracies)\n",
        "mean_balanced_test_accuracy = np.mean(final_balanced_test_accuracies)\n",
        "std_balanced_test_accuracy = np.std(final_balanced_test_accuracies)\n",
        "\n",
        "print(f'\\nMean Train Accuracy: {mean_train_accuracy:.4f} ± {std_train_accuracy:.4f}')\n",
        "print(f'Mean Test Accuracy: {mean_test_accuracy:.4f} ± {std_test_accuracy:.4f}')\n",
        "print(f'Mean Balanced Train Accuracy: {mean_balanced_train_accuracy:.4f} ± {std_balanced_train_accuracy:.4f}')\n",
        "print(f'Mean Balanced Test Accuracy: {mean_balanced_test_accuracy:.4f} ± {std_balanced_test_accuracy:.4f}')\n",
        "\n",
        "aggregated_conf_matrix = np.mean(confusion_matrices, axis=0)\n",
        "print(f'Aggregated Confusion Matrix:\\n{aggregated_conf_matrix}')"
      ]
    },
    {
      "cell_type": "markdown",
      "metadata": {
        "id": "jwhK7w0IepTh"
      },
      "source": []
    },
    {
      "cell_type": "markdown",
      "metadata": {
        "id": "YLiUP8jBb2zc"
      },
      "source": [
        "# Replicação do artigo da scielo"
      ]
    },
    {
      "cell_type": "markdown",
      "metadata": {
        "id": "4tP5UlymOCEr"
      },
      "source": [
        "Para realização da entrega, tentamos replicar os parametros e metrodos utilizados no artigo: Evaluation of scoliosis using baropodometer and artificial neural network (disponivel em: https://www.scielo.br/j/reng/a/VdCTSzkbq7BMqcKW5Y9xGck/?lang=en&format=html#);\n",
        "\n",
        "Nesse modelo, utilizamos somente os dados coletados dos sensores baropodometros, 120 atributos que correspondem aos 120 sensores dos dois baropodometros, em uma single layer perceptron (SLP);\n",
        "\n",
        "Realizamos a divisão entre treino e teste nas proporções 80%/20%, sendo 80% para treino e 20% para teste;\n"
      ]
    },
    {
      "cell_type": "code",
      "execution_count": null,
      "metadata": {
        "colab": {
          "base_uri": "https://localhost:8080/"
        },
        "id": "sC0bhOydg56u",
        "outputId": "f17fac9b-2227-4b4e-f611-c5f4adf91592"
      },
      "outputs": [],
      "source": [
        "file_path = '/content/drive/MyDrive/Planilha_sensores.xlsx'\n",
        "df = pd.read_excel(file_path)\n",
        "print(df)"
      ]
    },
    {
      "cell_type": "code",
      "execution_count": null,
      "metadata": {
        "colab": {
          "base_uri": "https://localhost:8080/"
        },
        "id": "T5CR8dBshedC",
        "outputId": "554a109c-1a50-4427-fb7f-8a94efc1a0ae"
      },
      "outputs": [],
      "source": [
        "\n",
        "X = df.iloc[:,:-1].values\n",
        "y = df.iloc[:, -1].values\n",
        "\n",
        "# Converter labels para c1 e c2\n",
        "y = np.where(y < 10, 0, 1)  # c1 = 0, c2 = 1\n",
        "\n",
        "# Padronizar os dados\n",
        "scaler = StandardScaler()\n",
        "X = scaler.fit_transform(X)\n",
        "\n",
        "X_train, X_test, y_train, y_test = train_test_split(X, y, test_size=0.2, random_state=42)\n",
        "\n",
        "print(X)\n",
        "print(y)"
      ]
    },
    {
      "cell_type": "code",
      "execution_count": null,
      "metadata": {
        "colab": {
          "base_uri": "https://localhost:8080/"
        },
        "id": "Dx1-aK1bi3yO",
        "outputId": "76ba2b61-e4e8-452a-ea4f-868a7adcbaef"
      },
      "outputs": [
        {
          "name": "stdout",
          "output_type": "stream",
          "text": [
            "Fold 1: Acurácia Balanceada = 47.62%\n",
            "Matriz de Confusão:\n",
            " [[ 3  6]\n",
            " [ 8 13]]\n",
            "------------------------------\n",
            "Fold 2: Acurácia Balanceada = 50.79%\n",
            "Matriz de Confusão:\n",
            " [[ 4  5]\n",
            " [ 9 12]]\n",
            "------------------------------\n",
            "Fold 3: Acurácia Balanceada = 67.50%\n",
            "Matriz de Confusão:\n",
            " [[ 7  3]\n",
            " [ 7 13]]\n",
            "------------------------------\n",
            "Fold 4: Acurácia Balanceada = 60.61%\n",
            "Matriz de Confusão:\n",
            " [[ 6  5]\n",
            " [ 6 12]]\n",
            "------------------------------\n",
            "Fold 5: Acurácia Balanceada = 50.51%\n",
            "Matriz de Confusão:\n",
            " [[ 5  6]\n",
            " [ 8 10]]\n",
            "------------------------------\n",
            "Média da Acurácia Balanceada: 55.40%\n",
            "Desvio Padrão da Acurácia: 7.47%\n"
          ]
        }
      ],
      "source": [
        "from sklearn.linear_model import Perceptron\n",
        "from sklearn.model_selection import KFold\n",
        "from sklearn.metrics import balanced_accuracy_score, confusion_matrix\n",
        "import numpy as np\n",
        "\n",
        "# Supondo que você já tenha o dataset X e y\n",
        "# X, y = datasets.load_iris(return_X_y=True)  # Exemplo de como carregar um dataset\n",
        "\n",
        "# Criando o classificador Perceptron\n",
        "perceptron = Perceptron()\n",
        "\n",
        "# Configurando o K-Fold\n",
        "kf = KFold(n_splits=5, shuffle=True, random_state=42)\n",
        "\n",
        "# Lista para armazenar as acurácias balanceadas\n",
        "balanced_accuracies = []\n",
        "\n",
        "# Realizando o K-Fold Cross-Validation\n",
        "for fold, (train_index, test_index) in enumerate(kf.split(X), 1):\n",
        "    X_train, X_test = X[train_index], X[test_index]\n",
        "    y_train, y_test = y[train_index], y[test_index]\n",
        "\n",
        "    # Treinamento do modelo\n",
        "    perceptron.fit(X_train, y_train)\n",
        "\n",
        "    # Fazendo previsões nos dados de teste\n",
        "    y_pred = perceptron.predict(X_test)\n",
        "\n",
        "    # Calculando a acurácia balanceada do modelo\n",
        "    accuracy = balanced_accuracy_score(y_test, y_pred)\n",
        "    balanced_accuracies.append(accuracy)\n",
        "\n",
        "    # Imprimindo a acurácia balanceada e a matriz de confusão para cada fold\n",
        "    print(f'Fold {fold}: Acurácia Balanceada = {accuracy * 100:.2f}%')\n",
        "    print(\"Matriz de Confusão:\\n\", confusion_matrix(y_test, y_pred))\n",
        "    print(\"-\" * 30)\n",
        "\n",
        "# Média e desvio padrão das acurácias balanceadas\n",
        "mean_accuracy = np.mean(balanced_accuracies)\n",
        "std_accuracy = np.std(balanced_accuracies)\n",
        "\n",
        "print(f'Média da Acurácia Balanceada: {mean_accuracy * 100:.2f}%')\n",
        "print(f'Desvio Padrão da Acurácia: {std_accuracy * 100:.2f}%')\n"
      ]
    },
    {
      "cell_type": "markdown",
      "metadata": {
        "id": "ty0P-nbAlEgT"
      },
      "source": [
        "# SVM\n"
      ]
    },
    {
      "cell_type": "code",
      "execution_count": null,
      "metadata": {
        "colab": {
          "base_uri": "https://localhost:8080/"
        },
        "id": "GJG1pG1NlEgU",
        "outputId": "07558d84-da0e-48fc-850f-cadfc06548f0"
      },
      "outputs": [],
      "source": [
        "file_path = '/content/drive/MyDrive/Planilha_sensores.xlsx'\n",
        "df = pd.read_excel(file_path)\n",
        "print(df)"
      ]
    },
    {
      "cell_type": "code",
      "execution_count": null,
      "metadata": {
        "colab": {
          "base_uri": "https://localhost:8080/"
        },
        "id": "m7A4SMlxlEgU",
        "outputId": "08b7d686-8d29-4109-9399-25b9b8667056"
      },
      "outputs": [],
      "source": [
        "\n",
        "X = df.iloc[:,:-1].values\n",
        "y = df.iloc[:, -1].values\n",
        "\n",
        "# Converter labels para c1 e c2\n",
        "y = np.where(y < 10, 0, 1)  # c1 = 0, c2 = 1\n",
        "\n",
        "# Padronizar os dados\n",
        "scaler = StandardScaler()\n",
        "X = scaler.fit_transform(X)\n",
        "\n",
        "X_train, X_test, y_train, y_test = train_test_split(X, y, test_size=0.2, random_state=42)\n",
        "\n",
        "print(X)\n",
        "print(y)"
      ]
    },
    {
      "cell_type": "code",
      "execution_count": null,
      "metadata": {
        "colab": {
          "base_uri": "https://localhost:8080/"
        },
        "id": "lh1MW1IflEgU",
        "outputId": "d20b9607-ac13-4165-89ea-bcf5ba89e525"
      },
      "outputs": [
        {
          "name": "stdout",
          "output_type": "stream",
          "text": [
            "Fold 1: Acurácia Balanceada = 73.81%\n",
            "Matriz de Confusão:\n",
            " [[ 6  3]\n",
            " [ 4 17]]\n",
            "------------------------------\n",
            "Fold 2: Acurácia Balanceada = 46.03%\n",
            "Matriz de Confusão:\n",
            " [[ 4  5]\n",
            " [11 10]]\n",
            "------------------------------\n",
            "Fold 3: Acurácia Balanceada = 72.50%\n",
            "Matriz de Confusão:\n",
            " [[ 7  3]\n",
            " [ 5 15]]\n",
            "------------------------------\n",
            "Fold 4: Acurácia Balanceada = 58.84%\n",
            "Matriz de Confusão:\n",
            " [[ 5  6]\n",
            " [ 5 13]]\n",
            "------------------------------\n",
            "Fold 5: Acurácia Balanceada = 50.51%\n",
            "Matriz de Confusão:\n",
            " [[ 5  6]\n",
            " [ 8 10]]\n",
            "------------------------------\n",
            "Média da Acurácia Balanceada: 60.34% +- 11.25\n"
          ]
        }
      ],
      "source": [
        "from sklearn.model_selection import KFold\n",
        "from sklearn.svm import SVC\n",
        "from sklearn.metrics import balanced_accuracy_score, confusion_matrix\n",
        "import numpy as np\n",
        "\n",
        "# Criando o classificador SVM\n",
        "svm_classifier = SVC(kernel='linear')\n",
        "\n",
        "# Configurando o K-Fold\n",
        "kf = KFold(n_splits=5, shuffle=True, random_state=42)\n",
        "\n",
        "# Lista para armazenar as acurácias balanceadas\n",
        "balanced_accuracies = []\n",
        "\n",
        "# Realizando o K-Fold Cross-Validation\n",
        "for fold, (train_index, test_index) in enumerate(kf.split(X), 1):\n",
        "    X_train, X_test = X[train_index], X[test_index]\n",
        "    y_train, y_test = y[train_index], y[test_index]\n",
        "\n",
        "    # Treinando o classificador\n",
        "    svm_classifier.fit(X_train, y_train)\n",
        "\n",
        "    # Fazendo previsões\n",
        "    y_pred = svm_classifier.predict(X_test)\n",
        "\n",
        "    # Avaliando o classificador\n",
        "    accuracy = balanced_accuracy_score(y_test, y_pred)\n",
        "    balanced_accuracies.append(accuracy)\n",
        "\n",
        "    # Imprimindo a acurácia balanceada e a matriz de confusão para cada fold\n",
        "    print(f'Fold {fold}: Acurácia Balanceada = {accuracy * 100:.2f}%')\n",
        "    print(\"Matriz de Confusão:\\n\", confusion_matrix(y_test, y_pred))\n",
        "    print(\"-\" * 30)\n",
        "\n",
        "# Média e desvio padrão das acurácias balanceadas\n",
        "mean_accuracy = np.mean(balanced_accuracies)\n",
        "std_accuracy = np.std(balanced_accuracies)\n",
        "\n",
        "print(f'Média da Acurácia Balanceada: {mean_accuracy * 100:.2f}% +- {std_accuracy * 100:.2f}')\n"
      ]
    },
    {
      "cell_type": "markdown",
      "metadata": {
        "id": "Yb8LkJKuIIKX"
      },
      "source": [
        "# Proposta que agrupa as amostras de pacientes"
      ]
    },
    {
      "cell_type": "code",
      "execution_count": null,
      "metadata": {
        "colab": {
          "base_uri": "https://localhost:8080/"
        },
        "id": "tOdz8aE9XRfZ",
        "outputId": "6cc0bae8-187d-4fc7-ab3d-8680a9d77563"
      },
      "outputs": [],
      "source": [
        "#Manipulando os dados\n",
        "\n",
        "file_path = '/content/drive/MyDrive/tab_features_LIM_mapped.xlsx'\n",
        "#file_path = r'C:\\Users\\Cabas\\Desktop\\trabalho_ia\\tab_features_LIM_mapped.xlsx'\n",
        "df = pd.read_excel(file_path, header=0)\n",
        "df = df.drop(axis='columns', labels=['Name', 'L_Handed', 'Male'])\n",
        "df = df.rename(columns={'Female': 'Sex', 'R_Handed':'Handness'})\n",
        "df = df.iloc[:, 1:]\n",
        "print(df)"
      ]
    },
    {
      "cell_type": "code",
      "execution_count": null,
      "metadata": {
        "colab": {
          "base_uri": "https://localhost:8080/"
        },
        "id": "M7mr8X79X45m",
        "outputId": "6dd03384-7b93-4c83-c5fb-468b84240f5f"
      },
      "outputs": [],
      "source": [
        "#Separar as features (120 valores de sensores) e os labels e os groups\n",
        "X = df.iloc[:, 1:71].values\n",
        "y = df.iloc[:, -1].values\n",
        "groups = df.iloc[:, 0].values\n",
        "\n",
        "#Converter labels para c1 e c2\n",
        "y = np.where(y < 10, 0, 1)  # c1 = 0, c2 = 1\n",
        "\n",
        "infocheck = np.array(X)\n",
        "infocheck.shape\n",
        "\n",
        "print(X)\n",
        "print(y)\n",
        "print(groups)"
      ]
    },
    {
      "cell_type": "code",
      "execution_count": null,
      "metadata": {
        "id": "Ccoqd8j1YAkN"
      },
      "outputs": [],
      "source": [
        "#Padronizar os dados\n",
        "scaler = StandardScaler()\n",
        "X = scaler.fit_transform(X)"
      ]
    },
    {
      "cell_type": "code",
      "execution_count": null,
      "metadata": {
        "colab": {
          "base_uri": "https://localhost:8080/"
        },
        "id": "breDBgtw8ZJ0",
        "outputId": "32622604-f870-433e-e79e-807693ceb110"
      },
      "outputs": [
        {
          "name": "stdout",
          "output_type": "stream",
          "text": [
            "Fold 1\n",
            "Train Groups: {0, 1, 2, 3, 4, 5, 6, 7, 8, 9, 10, 11, 12, 13, 14, 15, 16, 17, 18, 19, 20, 21, 22, 23, 24, 26, 27, 28, 29, 30, 31, 32, 33, 34, 35, 36, 37, 39, 40, 41, 42, 44, 45, 46, 47, 48, 49, 50, 51, 53, 54, 56, 57, 59, 60, 61}\n",
            "Test Groups: {3, 7, 8, 9, 13, 17, 21, 25, 26, 27, 29, 30, 32, 37, 38, 42, 43, 47, 52, 55, 58}\n",
            "Fold 1\n",
            " Treino - Distribuição das Classes:\n",
            "   Classe 0: 40 (33.61%)\n",
            "   Classe 1: 79 (66.39%)\n",
            " Teste - Distribuição das Classes:\n",
            "   Classe 0: 10 (33.33%)\n",
            "   Classe 1: 20 (66.67%)\n",
            "Fold 2\n",
            "Train Groups: {0, 1, 2, 3, 4, 5, 6, 7, 8, 9, 10, 11, 12, 13, 14, 15, 16, 17, 18, 19, 20, 21, 22, 23, 24, 26, 27, 28, 29, 30, 31, 32, 33, 34, 35, 36, 37, 39, 40, 41, 42, 44, 45, 46, 47, 48, 49, 50, 51, 53, 54, 56, 57, 59, 60, 61}\n",
            "Test Groups: {3, 7, 8, 9, 13, 17, 21, 25, 26, 27, 29, 30, 32, 37, 38, 42, 43, 47, 52, 55, 58}\n",
            "Fold 2\n",
            " Treino - Distribuição das Classes:\n",
            "   Classe 0: 40 (33.61%)\n",
            "   Classe 1: 79 (66.39%)\n",
            " Teste - Distribuição das Classes:\n",
            "   Classe 0: 10 (33.33%)\n",
            "   Classe 1: 20 (66.67%)\n",
            "Fold 3\n",
            "Train Groups: {0, 1, 2, 3, 4, 5, 6, 7, 8, 9, 10, 11, 12, 13, 14, 15, 16, 17, 18, 19, 20, 21, 22, 23, 24, 26, 27, 28, 29, 30, 31, 32, 33, 34, 35, 36, 37, 39, 40, 41, 42, 44, 45, 46, 47, 48, 49, 50, 51, 53, 54, 56, 57, 59, 60, 61}\n",
            "Test Groups: {3, 7, 8, 9, 13, 17, 21, 25, 26, 27, 29, 30, 32, 37, 38, 42, 43, 47, 52, 55, 58}\n",
            "Fold 3\n",
            " Treino - Distribuição das Classes:\n",
            "   Classe 0: 40 (33.61%)\n",
            "   Classe 1: 79 (66.39%)\n",
            " Teste - Distribuição das Classes:\n",
            "   Classe 0: 10 (33.33%)\n",
            "   Classe 1: 20 (66.67%)\n",
            "Fold 4\n",
            "Train Groups: {0, 1, 2, 3, 4, 5, 6, 7, 8, 9, 10, 11, 12, 13, 14, 15, 16, 17, 18, 19, 20, 21, 22, 23, 24, 26, 27, 28, 29, 30, 31, 32, 33, 34, 35, 36, 37, 39, 40, 41, 42, 44, 45, 46, 47, 48, 49, 50, 51, 53, 54, 56, 57, 59, 60, 61}\n",
            "Test Groups: {3, 7, 8, 9, 13, 17, 21, 25, 26, 27, 29, 30, 32, 37, 38, 42, 43, 47, 52, 55, 58}\n",
            "Fold 4\n",
            " Treino - Distribuição das Classes:\n",
            "   Classe 0: 40 (33.33%)\n",
            "   Classe 1: 80 (66.67%)\n",
            " Teste - Distribuição das Classes:\n",
            "   Classe 0: 10 (34.48%)\n",
            "   Classe 1: 19 (65.52%)\n",
            "Fold 5\n",
            "Train Groups: {0, 1, 2, 3, 4, 5, 6, 7, 8, 9, 10, 11, 12, 13, 14, 15, 16, 17, 18, 19, 20, 21, 22, 23, 24, 26, 27, 28, 29, 30, 31, 32, 33, 34, 35, 36, 37, 39, 40, 41, 42, 44, 45, 46, 47, 48, 49, 50, 51, 53, 54, 56, 57, 59, 60, 61}\n",
            "Test Groups: {3, 7, 8, 9, 13, 17, 21, 25, 26, 27, 29, 30, 32, 37, 38, 42, 43, 47, 52, 55, 58}\n",
            "Fold 5\n",
            " Treino - Distribuição das Classes:\n",
            "   Classe 0: 40 (33.61%)\n",
            "   Classe 1: 79 (66.39%)\n",
            " Teste - Distribuição das Classes:\n",
            "   Classe 0: 10 (33.33%)\n",
            "   Classe 1: 20 (66.67%)\n"
          ]
        }
      ],
      "source": [
        "sgkf = StratifiedGroupKFold(n_splits=5)\n",
        "\n",
        "# Armazenar as contagens de classes para cada fold\n",
        "fold_class_counts = []\n",
        "fold_number = 1\n",
        "\n",
        "# Executar o GroupKFold\n",
        "for fold, (train_idx, test_idx) in enumerate(sgkf.split(X, y, groups)):\n",
        "    print(f\"Fold {fold_number}\")\n",
        "    print(\"Train Groups:\", set(groups[train_index]))\n",
        "    print(\"Test Groups:\", set(groups[test_index]))\n",
        "    fold_number += 1\n",
        "    # Contar as classes no conjunto de treinamento e teste\n",
        "    train_classes, train_counts = np.unique(y[train_idx], return_counts=True)\n",
        "    test_classes, test_counts = np.unique(y[test_idx], return_counts=True)\n",
        "\n",
        "    print(f\"Fold {fold + 1}\")\n",
        "    print(\" Treino - Distribuição das Classes:\")\n",
        "    for cls, count in zip(train_classes, train_counts):\n",
        "        print(f\"   Classe {cls}: {count} ({count / len(train_idx):.2%})\")\n",
        "\n",
        "    print(\" Teste - Distribuição das Classes:\")\n",
        "    for cls, count in zip(test_classes, test_counts):\n",
        "        print(f\"   Classe {cls}: {count} ({count / len(test_idx):.2%})\")\n",
        "\n",
        "    fold_class_counts.append((train_counts, test_counts))\n",
        "\n",
        "# Agora você tem as contagens de classes por fold e pode avaliar o balanceamento."
      ]
    },
    {
      "cell_type": "code",
      "execution_count": null,
      "metadata": {
        "colab": {
          "base_uri": "https://localhost:8080/"
        },
        "id": "EIWXtCptYC-P",
        "outputId": "e44e1c84-b8b7-47c6-9a8d-3ded16a4b43e"
      },
      "outputs": [
        {
          "name": "stdout",
          "output_type": "stream",
          "text": [
            "using device： cuda:0\n"
          ]
        },
        {
          "name": "stderr",
          "output_type": "stream",
          "text": [
            "Training fold: 100%|██████████| 3000/3000 [00:18<00:00, 159.62it/s]\n"
          ]
        },
        {
          "name": "stdout",
          "output_type": "stream",
          "text": [
            "Fold Balanced Train Accuracy: 0.9937, Fold Balanced Test Accuracy: 0.4750\n",
            "Confusion Matrix for Fold 1:\n",
            "[[ 1  9]\n",
            " [ 3 17]]\n",
            "\n",
            "using device： cuda:0\n"
          ]
        },
        {
          "name": "stderr",
          "output_type": "stream",
          "text": [
            "Training fold: 100%|██████████| 3000/3000 [00:18<00:00, 163.94it/s]\n"
          ]
        },
        {
          "name": "stdout",
          "output_type": "stream",
          "text": [
            "Fold Balanced Train Accuracy: 0.9873, Fold Balanced Test Accuracy: 0.5000\n",
            "Confusion Matrix for Fold 2:\n",
            "[[ 3  7]\n",
            " [ 6 14]]\n",
            "\n",
            "using device： cuda:0\n"
          ]
        },
        {
          "name": "stderr",
          "output_type": "stream",
          "text": [
            "Training fold: 100%|██████████| 3000/3000 [00:18<00:00, 158.54it/s]\n"
          ]
        },
        {
          "name": "stdout",
          "output_type": "stream",
          "text": [
            "Fold Balanced Train Accuracy: 0.9937, Fold Balanced Test Accuracy: 0.4250\n",
            "Confusion Matrix for Fold 3:\n",
            "[[ 1  9]\n",
            " [ 5 15]]\n",
            "\n",
            "using device： cuda:0\n"
          ]
        },
        {
          "name": "stderr",
          "output_type": "stream",
          "text": [
            "Training fold: 100%|██████████| 3000/3000 [00:16<00:00, 181.98it/s]\n"
          ]
        },
        {
          "name": "stdout",
          "output_type": "stream",
          "text": [
            "Fold Balanced Train Accuracy: 0.9875, Fold Balanced Test Accuracy: 0.5211\n",
            "Confusion Matrix for Fold 4:\n",
            "[[ 2  8]\n",
            " [ 3 16]]\n",
            "\n",
            "using device： cuda:0\n"
          ]
        },
        {
          "name": "stderr",
          "output_type": "stream",
          "text": [
            "Training fold: 100%|██████████| 3000/3000 [00:17<00:00, 174.74it/s]"
          ]
        },
        {
          "name": "stdout",
          "output_type": "stream",
          "text": [
            "Fold Balanced Train Accuracy: 1.0000, Fold Balanced Test Accuracy: 0.4500\n",
            "Confusion Matrix for Fold 5:\n",
            "[[ 3  7]\n",
            " [ 8 12]]\n",
            "\n",
            "Mean Balanced Train Accuracy: 0.9924 ± 0.0047\n",
            "Mean Balanced Test Accuracy: 0.4742 ± 0.0343\n",
            "Aggregated Confusion Matrix:\n",
            "[[ 2.   8. ]\n",
            " [ 5.  14.8]]\n"
          ]
        },
        {
          "name": "stderr",
          "output_type": "stream",
          "text": [
            "\n"
          ]
        }
      ],
      "source": [
        "#Listas para armazenar as acurácias de cada fold\n",
        "balanced_train_accuracies = []\n",
        "balanced_test_accuracies = []\n",
        "confusion_matrices = []\n",
        "\n",
        "#Definir o número de épocas\n",
        "n_epochs = 3000\n",
        "\n",
        "#Loop sobre os folds\n",
        "for train_index, test_index in sgkf.split(X, y, groups):\n",
        "    X_train, X_test = X[train_index], X[test_index]\n",
        "    y_train, y_test = y[train_index], y[test_index]\n",
        "\n",
        "    # Definir o modelo MLP para cada fold\n",
        "    model = MLPClassifier(hidden_layer_sizes=(30,44,1), activation='relu', solver='sgd', max_iter=n_epochs, warm_start=True, random_state=0)\n",
        "\n",
        "    fold_balanced_train_accuracies = []\n",
        "    fold_balanced_test_accuracies = []\n",
        "\n",
        "    device = torch.device(\"cuda:0\" if torch.cuda.is_available() else \"cpu\")\n",
        "    print(\"using device：\", device)\n",
        "\n",
        "    for epoch in tqdm(range(n_epochs), desc=f\"Training fold\"):\n",
        "        model.fit(X_train, y_train)\n",
        "        balanced_train_accuracy = balanced_accuracy_score(y_train, model.predict(X_train))\n",
        "        balanced_test_accuracy = balanced_accuracy_score(y_test, model.predict(X_test))\n",
        "\n",
        "        fold_balanced_train_accuracies.append(balanced_train_accuracy)\n",
        "        fold_balanced_test_accuracies.append(balanced_test_accuracy)\n",
        "\n",
        "    balanced_train_accuracies.append(fold_balanced_train_accuracies)\n",
        "    balanced_test_accuracies.append(fold_balanced_test_accuracies)\n",
        "\n",
        "    y_pred = model.predict(X_test)\n",
        "    conf_matrix = confusion_matrix(y_test, y_pred)\n",
        "    confusion_matrices.append(conf_matrix)\n",
        "\n",
        "    print(f'Fold Balanced Train Accuracy: {fold_balanced_train_accuracies[-1]:.4f}, Fold Balanced Test Accuracy: {fold_balanced_test_accuracies[-1]:.4f}')\n",
        "    print(f'Confusion Matrix for Fold {len(confusion_matrices)}:\\n{conf_matrix}\\n')\n",
        "\n",
        "# Calcular a acurácia média e desvio padrão na última época\n",
        "final_balanced_train_accuracies = [acc[-1] for acc in balanced_train_accuracies]\n",
        "final_balanced_test_accuracies = [acc[-1] for acc in balanced_test_accuracies]\n",
        "\n",
        "mean_balanced_train_accuracy = np.mean(final_balanced_train_accuracies)\n",
        "std_balanced_train_accuracy = np.std(final_balanced_train_accuracies)\n",
        "mean_balanced_test_accuracy = np.mean(final_balanced_test_accuracies)\n",
        "std_balanced_test_accuracy = np.std(final_balanced_test_accuracies)\n",
        "\n",
        "print(f'Mean Balanced Train Accuracy: {mean_balanced_train_accuracy:.4f} ± {std_balanced_train_accuracy:.4f}')\n",
        "print(f'Mean Balanced Test Accuracy: {mean_balanced_test_accuracy:.4f} ± {std_balanced_test_accuracy:.4f}')\n",
        "\n",
        "aggregated_conf_matrix = np.mean(confusion_matrices, axis=0)\n",
        "print(f'Aggregated Confusion Matrix:\\n{aggregated_conf_matrix}')"
      ]
    },
    {
      "cell_type": "code",
      "execution_count": null,
      "metadata": {
        "colab": {
          "base_uri": "https://localhost:8080/"
        },
        "id": "cEQEogl68ZJ1",
        "outputId": "aa0db90b-b961-4ee2-935a-f8d64add25e0"
      },
      "outputs": [
        {
          "name": "stdout",
          "output_type": "stream",
          "text": [
            "using device： cuda:0\n"
          ]
        },
        {
          "name": "stderr",
          "output_type": "stream",
          "text": [
            "Training fold: 100%|██████████| 3000/3000 [00:18<00:00, 158.92it/s]\n"
          ]
        },
        {
          "name": "stdout",
          "output_type": "stream",
          "text": [
            "Fold Balanced Train Accuracy: 0.9936, Fold Balanced Test Accuracy: 0.4286\n",
            "Confusion Matrix for Fold 1:\n",
            "[[ 0  9]\n",
            " [ 3 18]]\n",
            "\n",
            "using device： cuda:0\n"
          ]
        },
        {
          "name": "stderr",
          "output_type": "stream",
          "text": [
            "Training fold: 100%|██████████| 3000/3000 [00:26<00:00, 112.04it/s]\n"
          ]
        },
        {
          "name": "stdout",
          "output_type": "stream",
          "text": [
            "Fold Balanced Train Accuracy: 0.9875, Fold Balanced Test Accuracy: 0.4665\n",
            "Confusion Matrix for Fold 2:\n",
            "[[ 1 10]\n",
            " [ 3 16]]\n",
            "\n",
            "using device： cuda:0\n"
          ]
        },
        {
          "name": "stderr",
          "output_type": "stream",
          "text": [
            "Training fold: 100%|██████████| 3000/3000 [00:22<00:00, 131.77it/s]\n"
          ]
        },
        {
          "name": "stdout",
          "output_type": "stream",
          "text": [
            "Fold Balanced Train Accuracy: 0.9812, Fold Balanced Test Accuracy: 0.5311\n",
            "Confusion Matrix for Fold 3:\n",
            "[[ 3  8]\n",
            " [ 4 15]]\n",
            "\n",
            "using device： cuda:0\n"
          ]
        },
        {
          "name": "stderr",
          "output_type": "stream",
          "text": [
            "Training fold: 100%|██████████| 3000/3000 [00:23<00:00, 127.23it/s]\n"
          ]
        },
        {
          "name": "stdout",
          "output_type": "stream",
          "text": [
            "Fold Balanced Train Accuracy: 0.9747, Fold Balanced Test Accuracy: 0.5750\n",
            "Confusion Matrix for Fold 4:\n",
            "[[ 3  7]\n",
            " [ 3 17]]\n",
            "\n",
            "using device： cuda:0\n"
          ]
        },
        {
          "name": "stderr",
          "output_type": "stream",
          "text": [
            "Training fold: 100%|██████████| 3000/3000 [00:22<00:00, 130.44it/s]"
          ]
        },
        {
          "name": "stdout",
          "output_type": "stream",
          "text": [
            "Fold Balanced Train Accuracy: 1.0000, Fold Balanced Test Accuracy: 0.4361\n",
            "Confusion Matrix for Fold 5:\n",
            "[[ 2  7]\n",
            " [ 7 13]]\n",
            "\n",
            "Mean Balanced Train Accuracy: 0.9874 ± 0.0089\n",
            "Mean Balanced Test Accuracy: 0.4875 ± 0.0568\n",
            "Aggregated Confusion Matrix:\n",
            "[[ 1.8  8.2]\n",
            " [ 4.  15.8]]\n"
          ]
        },
        {
          "name": "stderr",
          "output_type": "stream",
          "text": [
            "\n"
          ]
        }
      ],
      "source": [
        "groupkf = GroupKFold(n_splits=5)\n",
        "\n",
        "#Listas para armazenar as acurácias de cada fold\n",
        "balanced_train_accuracies = []\n",
        "balanced_test_accuracies = []\n",
        "confusion_matrices = []\n",
        "\n",
        "#Definir o número de épocas\n",
        "n_epochs = 3000\n",
        "\n",
        "#Loop sobre os folds\n",
        "for train_index, test_index in groupkf.split(X, y, groups):\n",
        "    X_train, X_test = X[train_index], X[test_index]\n",
        "    y_train, y_test = y[train_index], y[test_index]\n",
        "\n",
        "    # Definir o modelo MLP para cada fold\n",
        "    model = MLPClassifier(hidden_layer_sizes=(30,44,1), activation='relu', solver='sgd', max_iter=n_epochs, warm_start=True, random_state=0)\n",
        "\n",
        "    fold_balanced_train_accuracies = []\n",
        "    fold_balanced_test_accuracies = []\n",
        "\n",
        "    device = torch.device(\"cuda:0\" if torch.cuda.is_available() else \"cpu\")\n",
        "    print(\"using device：\", device)\n",
        "\n",
        "    for epoch in tqdm(range(n_epochs), desc=f\"Training fold\"):\n",
        "        model.fit(X_train, y_train)\n",
        "        balanced_train_accuracy = balanced_accuracy_score(y_train, model.predict(X_train))\n",
        "        balanced_test_accuracy = balanced_accuracy_score(y_test, model.predict(X_test))\n",
        "\n",
        "        fold_balanced_train_accuracies.append(balanced_train_accuracy)\n",
        "        fold_balanced_test_accuracies.append(balanced_test_accuracy)\n",
        "\n",
        "    balanced_train_accuracies.append(fold_balanced_train_accuracies)\n",
        "    balanced_test_accuracies.append(fold_balanced_test_accuracies)\n",
        "\n",
        "    y_pred = model.predict(X_test)\n",
        "    conf_matrix = confusion_matrix(y_test, y_pred)\n",
        "    confusion_matrices.append(conf_matrix)\n",
        "\n",
        "    print(f'Fold Balanced Train Accuracy: {fold_balanced_train_accuracies[-1]:.4f}, Fold Balanced Test Accuracy: {fold_balanced_test_accuracies[-1]:.4f}')\n",
        "    print(f'Confusion Matrix for Fold {len(confusion_matrices)}:\\n{conf_matrix}\\n')\n",
        "\n",
        "# Calcular a acurácia média e desvio padrão na última época\n",
        "final_balanced_train_accuracies = [acc[-1] for acc in balanced_train_accuracies]\n",
        "final_balanced_test_accuracies = [acc[-1] for acc in balanced_test_accuracies]\n",
        "\n",
        "mean_balanced_train_accuracy = np.mean(final_balanced_train_accuracies)\n",
        "std_balanced_train_accuracy = np.std(final_balanced_train_accuracies)\n",
        "mean_balanced_test_accuracy = np.mean(final_balanced_test_accuracies)\n",
        "std_balanced_test_accuracy = np.std(final_balanced_test_accuracies)\n",
        "\n",
        "print(f'Mean Balanced Train Accuracy: {mean_balanced_train_accuracy:.4f} ± {std_balanced_train_accuracy:.4f}')\n",
        "print(f'Mean Balanced Test Accuracy: {mean_balanced_test_accuracy:.4f} ± {std_balanced_test_accuracy:.4f}')\n",
        "\n",
        "aggregated_conf_matrix = np.mean(confusion_matrices, axis=0)\n",
        "print(f'Aggregated Confusion Matrix:\\n{aggregated_conf_matrix}')"
      ]
    },
    {
      "cell_type": "markdown",
      "metadata": {
        "id": "bE-YiyTq8ZJ1"
      },
      "source": [
        "# Treino so com os calculos"
      ]
    },
    {
      "cell_type": "code",
      "execution_count": null,
      "metadata": {
        "colab": {
          "base_uri": "https://localhost:8080/"
        },
        "id": "8lW1-nic8ZJ1",
        "outputId": "b2a78f27-ec44-41d2-ac1a-c87568ebe73a"
      },
      "outputs": [
        {
          "name": "stdout",
          "output_type": "stream",
          "text": [
            "     Group  Age  Mass  Height  Sex  Handness   CoP_ML    CoP_AP  OE_T_Disp  \\\n",
            "0        0   59  67.0    1.60    1         1 -16.0122  185.1922   244.1792   \n",
            "1        0   59  67.0    1.60    1         1  -7.9472  187.3671   196.1783   \n",
            "2        0   59  67.0    1.60    1         1  -6.2638  191.7445   146.3464   \n",
            "3        1   11  45.0    1.55    1         1  12.3376  200.9589   164.7609   \n",
            "4        2   17  49.9    1.57    1         1   7.5364  187.0647   177.5941   \n",
            "..     ...  ...   ...     ...  ...       ...      ...       ...        ...   \n",
            "144     58   14  80.7    1.62    1         1   3.4477  218.3915   126.4907   \n",
            "145     59   13  66.7    1.57    0         1  -3.8503  185.0278    78.8369   \n",
            "146     60   12  51.0    1.65    1         1  -2.6673  191.2708   180.8285   \n",
            "147     61   72  38.0    1.50    1         1 -11.4396  209.2997   207.6702   \n",
            "148     30   50  71.0    1.60    1         1  -9.9823  193.3489   347.2491   \n",
            "\n",
            "     OE_Disp_ML  ...  s111  s112  s113  s114  s115  s116  s117  s118  s119  \\\n",
            "0      143.6967  ...     0   0.0   0.0   0.0     0     0     0     0     0   \n",
            "1      135.3815  ...     0   0.0   0.0   0.0     0     0     0     0     0   \n",
            "2       85.8344  ...     0   0.0   0.0   0.0     0     0     0     0     0   \n",
            "3       91.6894  ...     0   0.0   0.0   0.0     0     0     0     0     0   \n",
            "4      103.4699  ...     0   0.0   0.0   0.0     0     0     0     0     0   \n",
            "..          ...  ...   ...   ...   ...   ...   ...   ...   ...   ...   ...   \n",
            "144     76.7264  ...     0   0.0   0.0   0.0     0     0     0     0     0   \n",
            "145     57.4253  ...     0   0.0   0.0   0.0     0     0     0     0     0   \n",
            "146     89.6837  ...     0   0.0   0.0   0.0     0     0     0     0     0   \n",
            "147    131.9775  ...     0   0.0   0.0   0.0     0     0     0     0     0   \n",
            "148    254.5254  ...     0   0.0   0.0   0.0     0     0     0     0     0   \n",
            "\n",
            "     Scolio  \n",
            "0        20  \n",
            "1        20  \n",
            "2        20  \n",
            "3        20  \n",
            "4        16  \n",
            "..      ...  \n",
            "144       5  \n",
            "145       3  \n",
            "146       2  \n",
            "147      12  \n",
            "148      10  \n",
            "\n",
            "[149 rows x 149 columns]\n"
          ]
        }
      ],
      "source": [
        "#Manipulando os dados\n",
        "\n",
        "file_path = '/content/drive/MyDrive/tab_features_LIM_mapped.xlsx'\n",
        "#file_path = r'C:\\Users\\Cabas\\Desktop\\trabalho_ia\\tab_features_LIM_mapped.xlsx'\n",
        "df = pd.read_excel(file_path, header=0)\n",
        "df = df.drop(axis='columns', labels=['Name', 'L_Handed', 'Male'])\n",
        "df = df.rename(columns={'Female': 'Sex', 'R_Handed':'Handness'})\n",
        "df = df.iloc[:, 1:]\n",
        "print(df)"
      ]
    },
    {
      "cell_type": "code",
      "execution_count": null,
      "metadata": {
        "colab": {
          "base_uri": "https://localhost:8080/"
        },
        "id": "Qkv4OFir8ZJ1",
        "outputId": "e6f3f3fd-698f-49f0-e22b-bce81c6a54ee"
      },
      "outputs": [],
      "source": [
        "#Separar as features (120 valores de sensores) e os labels e os groups\n",
        "X = df.iloc[:, 1:28].values\n",
        "y = df.iloc[:, -1].values\n",
        "groups = df.iloc[:, 0].values\n",
        "\n",
        "#Converter labels para c1 e c2\n",
        "y = np.where(y < 10, 0, 1)  # c1 = 0, c2 = 1\n",
        "\n",
        "infocheck = np.array(X)\n",
        "infocheck.shape\n",
        "\n",
        "print(X)\n",
        "print(y)\n",
        "print(groups)"
      ]
    },
    {
      "cell_type": "code",
      "execution_count": null,
      "metadata": {
        "id": "WLAsvhE88ZJ1"
      },
      "outputs": [],
      "source": [
        "#Padronizar os dados\n",
        "scaler = StandardScaler()\n",
        "X = scaler.fit_transform(X)"
      ]
    },
    {
      "cell_type": "code",
      "execution_count": null,
      "metadata": {
        "colab": {
          "base_uri": "https://localhost:8080/"
        },
        "id": "oc3--Qj98ZJ1",
        "outputId": "ed57f80b-5a1a-4605-894b-f36a34405c4b"
      },
      "outputs": [
        {
          "name": "stdout",
          "output_type": "stream",
          "text": [
            "Fold 1\n",
            "Train Groups: {0, 1, 5, 6, 7, 8, 9, 10, 11, 13, 14, 15, 17, 18, 19, 20, 21, 22, 23, 25, 27, 28, 29, 31, 32, 33, 35, 36, 37, 38, 39, 40, 41, 42, 43, 44, 45, 46, 47, 49, 50, 52, 53, 54, 55, 56, 58, 59, 60, 61}\n",
            "Test Groups: {2, 3, 4, 34, 12, 16, 48, 51, 24, 57, 26, 30}\n",
            "Fold 2\n",
            "Train Groups: {2, 3, 4, 5, 8, 9, 10, 12, 13, 14, 15, 16, 17, 18, 19, 20, 21, 22, 24, 25, 26, 29, 30, 31, 32, 34, 36, 37, 39, 40, 41, 43, 44, 45, 46, 47, 48, 49, 50, 51, 52, 53, 54, 55, 56, 57, 58, 59, 60, 61}\n",
            "Test Groups: {0, 1, 33, 35, 6, 7, 38, 42, 11, 23, 27, 28}\n",
            "Fold 3\n",
            "Train Groups: {0, 1, 2, 3, 4, 6, 7, 9, 11, 12, 13, 16, 17, 19, 20, 21, 23, 24, 25, 26, 27, 28, 30, 31, 32, 33, 34, 35, 36, 38, 39, 40, 42, 44, 45, 47, 48, 50, 51, 52, 53, 54, 55, 56, 57, 58, 59, 60, 61}\n",
            "Test Groups: {5, 37, 8, 41, 10, 43, 14, 15, 46, 49, 18, 22, 29}\n",
            "Fold 4\n",
            "Train Groups: {0, 1, 2, 3, 4, 5, 6, 7, 8, 10, 11, 12, 13, 14, 15, 16, 18, 21, 22, 23, 24, 25, 26, 27, 28, 29, 30, 32, 33, 34, 35, 37, 38, 39, 40, 41, 42, 43, 44, 46, 48, 49, 51, 52, 54, 56, 57, 59, 60}\n",
            "Test Groups: {36, 9, 45, 47, 17, 50, 19, 20, 53, 55, 58, 61, 31}\n",
            "Fold 5\n",
            "Train Groups: {0, 1, 2, 3, 4, 5, 6, 7, 8, 9, 10, 11, 12, 14, 15, 16, 17, 18, 19, 20, 22, 23, 24, 26, 27, 28, 29, 30, 31, 33, 34, 35, 36, 37, 38, 41, 42, 43, 45, 46, 47, 48, 49, 50, 51, 53, 55, 57, 58, 61}\n",
            "Test Groups: {32, 39, 40, 44, 13, 52, 21, 54, 56, 25, 59, 60}\n"
          ]
        }
      ],
      "source": [
        "group_kfold = GroupKFold(n_splits=5)\n",
        "\n",
        "fold_number = 1\n",
        "for train_index, test_index in group_kfold.split(X, y, groups):\n",
        "    print(f\"Fold {fold_number}\")\n",
        "    print(\"Train Groups:\", set(groups[train_index]))\n",
        "    print(\"Test Groups:\", set(groups[test_index]))\n",
        "    fold_number += 1"
      ]
    },
    {
      "cell_type": "code",
      "execution_count": null,
      "metadata": {
        "colab": {
          "base_uri": "https://localhost:8080/"
        },
        "id": "RH3Fi_9a8ZJ2",
        "outputId": "ce017129-a965-4905-9335-7e71c78c0e39"
      },
      "outputs": [
        {
          "name": "stdout",
          "output_type": "stream",
          "text": [
            "using device： cpu\n"
          ]
        },
        {
          "name": "stderr",
          "output_type": "stream",
          "text": [
            "Training fold: 100%|██████████| 5000/5000 [00:37<00:00, 131.82it/s]\n"
          ]
        },
        {
          "name": "stdout",
          "output_type": "stream",
          "text": [
            "Fold Balanced Train Accuracy: 0.9653, Fold Balanced Test Accuracy: 0.4630\n",
            "Confusion Matrix for Fold 1:\n",
            "[[ 1  2]\n",
            " [11 16]]\n",
            "\n",
            "using device： cpu\n"
          ]
        },
        {
          "name": "stderr",
          "output_type": "stream",
          "text": [
            "Training fold: 100%|██████████| 5000/5000 [00:28<00:00, 173.51it/s]\n"
          ]
        },
        {
          "name": "stdout",
          "output_type": "stream",
          "text": [
            "Fold Balanced Train Accuracy: 0.5000, Fold Balanced Test Accuracy: 0.5000\n",
            "Confusion Matrix for Fold 2:\n",
            "[[ 0 11]\n",
            " [ 0 19]]\n",
            "\n",
            "using device： cpu\n"
          ]
        },
        {
          "name": "stderr",
          "output_type": "stream",
          "text": [
            "Training fold: 100%|██████████| 5000/5000 [00:28<00:00, 174.85it/s]\n"
          ]
        },
        {
          "name": "stdout",
          "output_type": "stream",
          "text": [
            "Fold Balanced Train Accuracy: 0.5000, Fold Balanced Test Accuracy: 0.5000\n",
            "Confusion Matrix for Fold 3:\n",
            "[[ 0 10]\n",
            " [ 0 20]]\n",
            "\n",
            "using device： cpu\n"
          ]
        },
        {
          "name": "stderr",
          "output_type": "stream",
          "text": [
            "Training fold: 100%|██████████| 5000/5000 [00:29<00:00, 171.81it/s]\n"
          ]
        },
        {
          "name": "stdout",
          "output_type": "stream",
          "text": [
            "Fold Balanced Train Accuracy: 0.5000, Fold Balanced Test Accuracy: 0.5000\n",
            "Confusion Matrix for Fold 4:\n",
            "[[ 0 15]\n",
            " [ 0 15]]\n",
            "\n",
            "using device： cpu\n"
          ]
        },
        {
          "name": "stderr",
          "output_type": "stream",
          "text": [
            "Training fold: 100%|██████████| 5000/5000 [00:29<00:00, 169.69it/s]"
          ]
        },
        {
          "name": "stdout",
          "output_type": "stream",
          "text": [
            "Fold Balanced Train Accuracy: 0.9321, Fold Balanced Test Accuracy: 0.6439\n",
            "Confusion Matrix for Fold 5:\n",
            "[[ 5  6]\n",
            " [ 3 15]]\n",
            "\n",
            "Mean Balanced Train Accuracy: 0.6795 ± 0.2201\n",
            "Mean Balanced Test Accuracy: 0.5214 ± 0.0629\n",
            "Aggregated Confusion Matrix:\n",
            "[[ 1.2  8.8]\n",
            " [ 2.8 17. ]]\n"
          ]
        },
        {
          "name": "stderr",
          "output_type": "stream",
          "text": [
            "\n"
          ]
        }
      ],
      "source": [
        "#Definir o Group K-Fold Cross-Validation\n",
        "group_kf = GroupKFold(n_splits=5)\n",
        "\n",
        "#Listas para armazenar as acurácias de cada fold\n",
        "balanced_train_accuracies = []\n",
        "balanced_test_accuracies = []\n",
        "confusion_matrices = []\n",
        "\n",
        "#Definir o número de épocas\n",
        "n_epochs = 5000\n",
        "\n",
        "#Loop sobre os folds\n",
        "for train_index, test_index in group_kf.split(X, y, groups=groups):\n",
        "    X_train, X_test = X[train_index], X[test_index]\n",
        "    y_train, y_test = y[train_index], y[test_index]\n",
        "\n",
        "    # Definir o modelo MLP para cada fold\n",
        "    model = MLPClassifier(hidden_layer_sizes=(30,44,1), activation='relu', solver='sgd', max_iter=n_epochs, warm_start=True, random_state=0)\n",
        "\n",
        "    fold_balanced_train_accuracies = []\n",
        "    fold_balanced_test_accuracies = []\n",
        "\n",
        "    device = torch.device(\"cuda:0\" if torch.cuda.is_available() else \"cpu\")\n",
        "    print(\"using device：\", device)\n",
        "\n",
        "    for epoch in tqdm(range(n_epochs), desc=f\"Training fold\"):\n",
        "        model.fit(X_train, y_train)\n",
        "        balanced_train_accuracy = balanced_accuracy_score(y_train, model.predict(X_train))\n",
        "        balanced_test_accuracy = balanced_accuracy_score(y_test, model.predict(X_test))\n",
        "\n",
        "        fold_balanced_train_accuracies.append(balanced_train_accuracy)\n",
        "        fold_balanced_test_accuracies.append(balanced_test_accuracy)\n",
        "\n",
        "    balanced_train_accuracies.append(fold_balanced_train_accuracies)\n",
        "    balanced_test_accuracies.append(fold_balanced_test_accuracies)\n",
        "\n",
        "    y_pred = model.predict(X_test)\n",
        "    conf_matrix = confusion_matrix(y_test, y_pred)\n",
        "    confusion_matrices.append(conf_matrix)\n",
        "\n",
        "    print(f'Fold Balanced Train Accuracy: {fold_balanced_train_accuracies[-1]:.4f}, Fold Balanced Test Accuracy: {fold_balanced_test_accuracies[-1]:.4f}')\n",
        "    print(f'Confusion Matrix for Fold {len(confusion_matrices)}:\\n{conf_matrix}\\n')\n",
        "\n",
        "# Calcular a acurácia média e desvio padrão na última época\n",
        "final_balanced_train_accuracies = [acc[-1] for acc in balanced_train_accuracies]\n",
        "final_balanced_test_accuracies = [acc[-1] for acc in balanced_test_accuracies]\n",
        "\n",
        "mean_balanced_train_accuracy = np.mean(final_balanced_train_accuracies)\n",
        "std_balanced_train_accuracy = np.std(final_balanced_train_accuracies)\n",
        "mean_balanced_test_accuracy = np.mean(final_balanced_test_accuracies)\n",
        "std_balanced_test_accuracy = np.std(final_balanced_test_accuracies)\n",
        "\n",
        "print(f'Mean Balanced Train Accuracy: {mean_balanced_train_accuracy:.4f} ± {std_balanced_train_accuracy:.4f}')\n",
        "print(f'Mean Balanced Test Accuracy: {mean_balanced_test_accuracy:.4f} ± {std_balanced_test_accuracy:.4f}')\n",
        "\n",
        "aggregated_conf_matrix = np.mean(confusion_matrices, axis=0)\n",
        "print(f'Aggregated Confusion Matrix:\\n{aggregated_conf_matrix}')"
      ]
    },
    {
      "cell_type": "markdown",
      "metadata": {
        "id": "s7lLUXuggyFk"
      },
      "source": [
        "# CNN - Imagens Agrupadas"
      ]
    },
    {
      "cell_type": "code",
      "execution_count": null,
      "metadata": {
        "id": "70IrOtI-gscY"
      },
      "outputs": [],
      "source": [
        "import matplotlib.pyplot as plt\n",
        "%matplotlib inline\n",
        "import torch\n",
        "import torch.nn as nn\n",
        "import torch.optim as optim\n",
        "from torchvision import datasets, transforms, models\n",
        "from torchvision.models import ResNet50_Weights, EfficientNet_B0_Weights\n",
        "from torch.utils.data import DataLoader, Subset\n",
        "from sklearn.model_selection import KFold\n",
        "from sklearn.utils import resample\n",
        "from sklearn.metrics import f1_score, roc_auc_score, balanced_accuracy_score\n",
        "import numpy as np\n",
        "import os\n",
        "from collections import defaultdict, Counter\n",
        "from tqdm import tqdm"
      ]
    },
    {
      "cell_type": "code",
      "execution_count": null,
      "metadata": {
        "id": "kgLRETDCgsca"
      },
      "outputs": [],
      "source": [
        "# Transformações a serem aplicadas nas imagens\n",
        "transform = transforms.Compose([\n",
        "    transforms.Resize((224, 224)),  # Redimensionar as imagens para 224x224\n",
        "    transforms.ToTensor(),  # Converter as imagens em tensores\n",
        "])\n",
        "\n",
        "# Carregar o dataset usando ImageFolder (assume que as pastas c1 e c2 estão dentro de data_dir)\n",
        "data_dir = r'E:\\Baropodometer_forces_images'\n",
        "dataset = datasets.ImageFolder(root=data_dir, transform=transform)\n",
        "\n",
        "# Definir parâmetros\n",
        "batch_size = 32\n",
        "num_epochs = 10\n",
        "k_folds = 5  # Número de folds para validação cruzada\n"
      ]
    },
    {
      "cell_type": "code",
      "execution_count": null,
      "metadata": {
        "id": "o3CN7icIgsca",
        "outputId": "b51e5b3b-5a8f-4993-a537-4368ab70ee73"
      },
      "outputs": [
        {
          "name": "stdout",
          "output_type": "stream",
          "text": [
            "Label: c1\n"
          ]
        },
        {
          "data": {
            "image/png": "[encoded data removed]",
            "text/plain": [
              "<Figure size 640x480 with 1 Axes>"
            ]
          },
          "metadata": {},
          "output_type": "display_data"
        },
        {
          "name": "stdout",
          "output_type": "stream",
          "text": [
            "Label: c2\n"
          ]
        },
        {
          "data": {
            "image/png": "[encoded data removed]",
            "text/plain": [
              "<Figure size 640x480 with 1 Axes>"
            ]
          },
          "metadata": {},
          "output_type": "display_data"
        },
        {
          "name": "stdout",
          "output_type": "stream",
          "text": [
            "Label: c1\n"
          ]
        },
        {
          "data": {
            "image/png": "[encoded data removed]",
            "text/plain": [
              "<Figure size 640x480 with 1 Axes>"
            ]
          },
          "metadata": {},
          "output_type": "display_data"
        },
        {
          "name": "stdout",
          "output_type": "stream",
          "text": [
            "Label: c2\n"
          ]
        },
        {
          "data": {
            "image/png": "[encoded data removed]",
            "text/plain": [
              "<Figure size 640x480 with 1 Axes>"
            ]
          },
          "metadata": {},
          "output_type": "display_data"
        },
        {
          "name": "stdout",
          "output_type": "stream",
          "text": [
            "Tamanho do dataset: 8689 imagens\n"
          ]
        }
      ],
      "source": [
        "# Carregar algumas amostras do DataLoader\n",
        "dataloader = DataLoader(dataset, batch_size=4, shuffle=True)\n",
        "\n",
        "# Obter um batch de imagens\n",
        "images, labels = next(iter(dataloader))\n",
        "\n",
        "# Função para exibir imagens\n",
        "def imshow(img):\n",
        "    img = img / 2 + 0.5  # Desnormalizar\n",
        "    np_img = img.numpy()\n",
        "    plt.imshow(np.transpose(np_img, (1, 2, 0)), interpolation='nearest')\n",
        "    plt.show()\n",
        "\n",
        "# Mostrar as imagens\n",
        "for i in range(len(images)):\n",
        "    print(f'Label: {dataset.classes[labels[i]]}')\n",
        "    imshow(images[i])\n",
        "\n",
        "# Verificar tamanho do dataset\n",
        "print(f'Tamanho do dataset: {len(dataset)} imagens')"
      ]
    },
    {
      "cell_type": "code",
      "execution_count": null,
      "metadata": {
        "id": "PPn3cYPjgscb",
        "outputId": "b6456db7-6989-4d13-b7b8-49bbe9c073d8"
      },
      "outputs": [],
      "source": [
        "# Verificar as classes atribuídas\n",
        "print(\"Classes:\", dataset.classes)\n",
        "\n",
        "# Verificar alguns exemplos de labels\n",
        "for idx, (path, label) in enumerate(dataset.imgs[700:800]):\n",
        "    print(f\"Path: {path}, Label: {label}\")"
      ]
    },
    {
      "cell_type": "code",
      "execution_count": null,
      "metadata": {
        "id": "Nnnwsc4Jgscb",
        "outputId": "c6d8d6b5-658c-4529-9d55-f5425b3ccdc9"
      },
      "outputs": [
        {
          "name": "stdout",
          "output_type": "stream",
          "text": [
            "True\n",
            "1\n",
            "NVIDIA GeForce GTX 1060 6GB\n"
          ]
        }
      ],
      "source": [
        "print(torch.cuda.is_available())  # Deve retornar True se uma GPU com CUDA estiver disponível\n",
        "print(torch.cuda.device_count())  # Retorna o número de GPUs disponíveis\n",
        "print(torch.cuda.get_device_name(0))  # Retorna o nome da GPU (se disponível)\n"
      ]
    },
    {
      "cell_type": "code",
      "execution_count": null,
      "metadata": {
        "id": "N_J_f9bYgscb",
        "outputId": "72e4f610-bf26-4146-ca81-268ab9fe066d"
      },
      "outputs": [],
      "source": [
        "# Agrupar imagens por indivíduo\n",
        "individual_groups = defaultdict(list)\n",
        "for idx, (path, _) in enumerate(dataset.imgs):\n",
        "    filename = os.path.basename(path)\n",
        "    print(filename)\n",
        "    individual_id = filename.split('_')[1]  # Extrair o número do indivíduo\n",
        "    individual_groups[individual_id].append(idx)\n",
        "\n",
        "# Converter grupos para listas\n",
        "individuals = list(individual_groups.values())\n",
        "print(individuals)"
      ]
    },
    {
      "cell_type": "code",
      "execution_count": null,
      "metadata": {
        "id": "fv_QXHQagscc",
        "outputId": "4e784a49-335a-4e37-d02e-dbb08e4a25a4"
      },
      "outputs": [],
      "source": [
        "#RESNET50 SEM UNDERSAMPLING\n",
        "# Definir o dispositivo (GPU se disponível)\n",
        "device = torch.device(\"cuda:0\" if torch.cuda.is_available() else \"cpu\")\n",
        "print(\"Using device:\", device)\n",
        "\n",
        "# Inicializar KFold\n",
        "kf = KFold(n_splits=k_folds, shuffle=True, random_state=42)\n",
        "\n",
        "# Listas para armazenar as métricas de cada fold\n",
        "accuracies = []\n",
        "balanced_accuracies = []\n",
        "f1_scores = []\n",
        "roc_aucs = []\n",
        "\n",
        "# Loop sobre cada fold\n",
        "for fold, (train_idx, val_idx) in enumerate(kf.split(individuals)):\n",
        "    print(f'\\nFold {fold + 1}/{k_folds}')\n",
        "\n",
        "    # Obter os índices dos grupos para treino e validação\n",
        "    train_indices = [idx for i in train_idx for idx in individuals[i]]\n",
        "    val_indices = [idx for i in val_idx for idx in individuals[i]]\n",
        "\n",
        "    # Contar a distribuição de classes nos conjuntos de treino e validação\n",
        "    train_labels = [dataset.targets[idx] for idx in train_indices]\n",
        "    val_labels = [dataset.targets[idx] for idx in val_indices]\n",
        "\n",
        "    train_class_counts = Counter(train_labels)\n",
        "    val_class_counts = Counter(val_labels)\n",
        "\n",
        "    print(f'Distribuição de classes no treinamento: {train_class_counts}')\n",
        "    print(f'Distribuição de classes na validação: {val_class_counts}')\n",
        "\n",
        "    # Subconjuntos de treinamento e validação\n",
        "    train_subset = Subset(dataset, train_indices)\n",
        "    val_subset = Subset(dataset, val_indices)\n",
        "\n",
        "    # DataLoader para treinamento e validação\n",
        "    train_loader = DataLoader(train_subset, batch_size=batch_size, shuffle=True)\n",
        "    val_loader = DataLoader(val_subset, batch_size=batch_size, shuffle=False)\n",
        "\n",
        "    # Carregar a ResNet50 pré-treinada e ajustar a última camada\n",
        "    model = models.resnet50(weights=models.ResNet50_Weights.IMAGENET1K_V2)\n",
        "    num_ftrs = model.fc.in_features\n",
        "    model.fc = nn.Linear(num_ftrs, len(dataset.classes))  # Ajustar para o número de classes\n",
        "\n",
        "    # Congelar todas as camadas, exceto a última\n",
        "    for param in model.parameters():\n",
        "        param.requires_grad = False\n",
        "\n",
        "    # A última camada permanece treinável\n",
        "    for param in model.fc.parameters():\n",
        "        param.requires_grad = True\n",
        "\n",
        "    # Mover o modelo para a GPU\n",
        "    model = model.to(device)\n",
        "\n",
        "    # Definir a loss function e o otimizador\n",
        "    criterion = nn.CrossEntropyLoss()\n",
        "    optimizer = optim.Adam(model.parameters(), lr=0.001)\n",
        "\n",
        "    # Treinamento\n",
        "    for epoch in range(num_epochs):\n",
        "        model.train()\n",
        "        running_loss = 0.0\n",
        "\n",
        "        # Usando tqdm para mostrar o progresso das batches\n",
        "        progress_bar = tqdm(train_loader, desc=f'Epoch {epoch + 1}/{num_epochs}', leave=False)\n",
        "        for inputs, labels in progress_bar:\n",
        "            # Mover os dados para a GPU\n",
        "            inputs, labels = inputs.to(device), labels.to(device)\n",
        "\n",
        "            optimizer.zero_grad()\n",
        "            outputs = model(inputs)\n",
        "            loss = criterion(outputs, labels)\n",
        "            loss.backward()\n",
        "            optimizer.step()\n",
        "            running_loss += loss.item()\n",
        "\n",
        "            # Atualizando a barra de progresso com a perda atual\n",
        "            progress_bar.set_postfix(loss=running_loss/len(train_loader))\n",
        "\n",
        "        print(f'Epoch [{epoch + 1}/{num_epochs}], Loss: {running_loss/len(train_loader):.4f}')\n",
        "\n",
        "    # Validação\n",
        "    model.eval()\n",
        "    val_loss = 0.0\n",
        "    correct = 0\n",
        "    total = 0\n",
        "    all_labels = []\n",
        "    all_predictions = []\n",
        "    all_probabilities = []\n",
        "\n",
        "    with torch.no_grad():\n",
        "        for inputs, labels in val_loader:\n",
        "            # Mover os dados para a GPU\n",
        "            inputs, labels = inputs.to(device), labels.to(device)\n",
        "\n",
        "            outputs = model(inputs)\n",
        "            loss = criterion(outputs, labels)\n",
        "            val_loss += loss.item()\n",
        "\n",
        "            _, predicted = torch.max(outputs, 1)\n",
        "            probabilities = torch.softmax(outputs, dim=1)[:, 1]  # Probabilidade da classe 1\n",
        "\n",
        "            all_labels.extend(labels.cpu().numpy())\n",
        "            all_predictions.extend(predicted.cpu().numpy())\n",
        "            all_probabilities.extend(probabilities.cpu().numpy())\n",
        "\n",
        "            total += labels.size(0)\n",
        "            correct += (predicted == labels).sum().item()\n",
        "\n",
        "    # Calcular as métricas\n",
        "    accuracy = 100 * correct / total\n",
        "    balanced_acc = balanced_accuracy_score(all_labels, all_predictions)\n",
        "    f1 = f1_score(all_labels, all_predictions, average='binary')\n",
        "    roc_auc = roc_auc_score(all_labels, all_probabilities)\n",
        "\n",
        "    # Armazenar as métricas\n",
        "    accuracies.append(accuracy)\n",
        "    balanced_accuracies.append(balanced_acc)\n",
        "    f1_scores.append(f1)\n",
        "    roc_aucs.append(roc_auc)\n",
        "\n",
        "    print(f'Validation Loss: {val_loss/len(val_loader):.4f}, Accuracy: {accuracy:.2f}%')\n",
        "    print(f'Balanced Accuracy: {balanced_acc:.4f}')\n",
        "    print(f'F1-Score: {f1:.4f}')\n",
        "    print(f'ROC-AUC: {roc_auc:.4f}')\n",
        "\n",
        "# Comparação das métricas para todos os folds\n",
        "print('\\nResultados dos folds:')\n",
        "print(f'Média e desvio padrão da Acurácia: {np.mean(accuracies):.2f}% ± {np.std(accuracies):.2f}')\n",
        "print(f'Média e desvio padrão da Acurácia Balanceada: {np.mean(balanced_accuracies):.4f} ± {np.std(balanced_accuracies):.4f}')\n",
        "print(f'Média e desvio padrão do F1-Score: {np.mean(f1_scores):.4f} ± {np.std(f1_scores):.4f}')\n",
        "print(f'Média e desvio padrão do ROC-AUC: {np.mean(roc_aucs):.4f} ± {np.std(roc_aucs):.4f}')"
      ]
    },
    {
      "cell_type": "code",
      "execution_count": null,
      "metadata": {
        "id": "XPUU51HGgscc",
        "outputId": "32bbbca5-afeb-4488-e20b-71bafa171d7c"
      },
      "outputs": [
        {
          "name": "stdout",
          "output_type": "stream",
          "text": [
            "\n",
            "Fold 1/5\n",
            "Distribuição de classes no treinamento (balanceado): Counter({0: 2162, 1: 2162})\n",
            "Distribuição de classes na validação: Counter({1: 1817, 0: 513})\n"
          ]
        },
        {
          "name": "stderr",
          "output_type": "stream",
          "text": [
            "                                                                         \r"
          ]
        },
        {
          "name": "stdout",
          "output_type": "stream",
          "text": [
            "Epoch [1/10], Loss: 0.4123\n"
          ]
        },
        {
          "name": "stderr",
          "output_type": "stream",
          "text": [
            "                                                                         \r"
          ]
        },
        {
          "name": "stdout",
          "output_type": "stream",
          "text": [
            "Epoch [2/10], Loss: 0.2192\n"
          ]
        },
        {
          "name": "stderr",
          "output_type": "stream",
          "text": [
            "                                                                         \r"
          ]
        },
        {
          "name": "stdout",
          "output_type": "stream",
          "text": [
            "Epoch [3/10], Loss: 0.1558\n"
          ]
        },
        {
          "name": "stderr",
          "output_type": "stream",
          "text": [
            "                                                                          \r"
          ]
        },
        {
          "name": "stdout",
          "output_type": "stream",
          "text": [
            "Epoch [4/10], Loss: 0.1178\n"
          ]
        },
        {
          "name": "stderr",
          "output_type": "stream",
          "text": [
            "                                                                          \r"
          ]
        },
        {
          "name": "stdout",
          "output_type": "stream",
          "text": [
            "Epoch [5/10], Loss: 0.0953\n"
          ]
        },
        {
          "name": "stderr",
          "output_type": "stream",
          "text": [
            "                                                                          \r"
          ]
        },
        {
          "name": "stdout",
          "output_type": "stream",
          "text": [
            "Epoch [6/10], Loss: 0.0811\n"
          ]
        },
        {
          "name": "stderr",
          "output_type": "stream",
          "text": [
            "                                                                          \r"
          ]
        },
        {
          "name": "stdout",
          "output_type": "stream",
          "text": [
            "Epoch [7/10], Loss: 0.0687\n"
          ]
        },
        {
          "name": "stderr",
          "output_type": "stream",
          "text": [
            "                                                                          \r"
          ]
        },
        {
          "name": "stdout",
          "output_type": "stream",
          "text": [
            "Epoch [8/10], Loss: 0.0612\n"
          ]
        },
        {
          "name": "stderr",
          "output_type": "stream",
          "text": [
            "                                                                          \r"
          ]
        },
        {
          "name": "stdout",
          "output_type": "stream",
          "text": [
            "Epoch [9/10], Loss: 0.0547\n"
          ]
        },
        {
          "name": "stderr",
          "output_type": "stream",
          "text": [
            "                                                                           \r"
          ]
        },
        {
          "name": "stdout",
          "output_type": "stream",
          "text": [
            "Epoch [10/10], Loss: 0.0468\n",
            "Validation Loss: 0.7002, Accuracy: 64.12%\n",
            "Balanced Accuracy: 0.5720\n",
            "F1-Score: 0.7515\n",
            "ROC-AUC: 0.6115\n",
            "\n",
            "Fold 2/5\n",
            "Distribuição de classes no treinamento (balanceado): Counter({0: 1775, 1: 1775})\n",
            "Distribuição de classes na validação: Counter({0: 900, 1: 694})\n"
          ]
        },
        {
          "name": "stderr",
          "output_type": "stream",
          "text": [
            "                                                                         \r"
          ]
        },
        {
          "name": "stdout",
          "output_type": "stream",
          "text": [
            "Epoch [1/10], Loss: 0.4366\n"
          ]
        },
        {
          "name": "stderr",
          "output_type": "stream",
          "text": [
            "                                                                         \r"
          ]
        },
        {
          "name": "stdout",
          "output_type": "stream",
          "text": [
            "Epoch [2/10], Loss: 0.2352\n"
          ]
        },
        {
          "name": "stderr",
          "output_type": "stream",
          "text": [
            "                                                                         \r"
          ]
        },
        {
          "name": "stdout",
          "output_type": "stream",
          "text": [
            "Epoch [3/10], Loss: 0.1621\n"
          ]
        },
        {
          "name": "stderr",
          "output_type": "stream",
          "text": [
            "                                                                          \r"
          ]
        },
        {
          "name": "stdout",
          "output_type": "stream",
          "text": [
            "Epoch [4/10], Loss: 0.1248\n"
          ]
        },
        {
          "name": "stderr",
          "output_type": "stream",
          "text": [
            "                                                                          \r"
          ]
        },
        {
          "name": "stdout",
          "output_type": "stream",
          "text": [
            "Epoch [5/10], Loss: 0.1038\n"
          ]
        },
        {
          "name": "stderr",
          "output_type": "stream",
          "text": [
            "                                                                          \r"
          ]
        },
        {
          "name": "stdout",
          "output_type": "stream",
          "text": [
            "Epoch [6/10], Loss: 0.0880\n"
          ]
        },
        {
          "name": "stderr",
          "output_type": "stream",
          "text": [
            "                                                                          \r"
          ]
        },
        {
          "name": "stdout",
          "output_type": "stream",
          "text": [
            "Epoch [7/10], Loss: 0.0733\n"
          ]
        },
        {
          "name": "stderr",
          "output_type": "stream",
          "text": [
            "                                                                          \r"
          ]
        },
        {
          "name": "stdout",
          "output_type": "stream",
          "text": [
            "Epoch [8/10], Loss: 0.0636\n"
          ]
        },
        {
          "name": "stderr",
          "output_type": "stream",
          "text": [
            "                                                                          \r"
          ]
        },
        {
          "name": "stdout",
          "output_type": "stream",
          "text": [
            "Epoch [9/10], Loss: 0.0596\n"
          ]
        },
        {
          "name": "stderr",
          "output_type": "stream",
          "text": [
            "                                                                           \r"
          ]
        },
        {
          "name": "stdout",
          "output_type": "stream",
          "text": [
            "Epoch [10/10], Loss: 0.0511\n",
            "Validation Loss: 1.1179, Accuracy: 50.25%\n",
            "Balanced Accuracy: 0.5448\n",
            "F1-Score: 0.6041\n",
            "ROC-AUC: 0.6437\n",
            "\n",
            "Fold 3/5\n",
            "Distribuição de classes no treinamento (balanceado): Counter({0: 2301, 1: 2301})\n",
            "Distribuição de classes na validação: Counter({1: 759, 0: 374})\n"
          ]
        },
        {
          "name": "stderr",
          "output_type": "stream",
          "text": [
            "                                                                         \r"
          ]
        },
        {
          "name": "stdout",
          "output_type": "stream",
          "text": [
            "Epoch [1/10], Loss: 0.3733\n"
          ]
        },
        {
          "name": "stderr",
          "output_type": "stream",
          "text": [
            "                                                                         \r"
          ]
        },
        {
          "name": "stdout",
          "output_type": "stream",
          "text": [
            "Epoch [2/10], Loss: 0.1912\n"
          ]
        },
        {
          "name": "stderr",
          "output_type": "stream",
          "text": [
            "                                                                          \r"
          ]
        },
        {
          "name": "stdout",
          "output_type": "stream",
          "text": [
            "Epoch [3/10], Loss: 0.1374\n"
          ]
        },
        {
          "name": "stderr",
          "output_type": "stream",
          "text": [
            "                                                                          \r"
          ]
        },
        {
          "name": "stdout",
          "output_type": "stream",
          "text": [
            "Epoch [4/10], Loss: 0.1034\n"
          ]
        },
        {
          "name": "stderr",
          "output_type": "stream",
          "text": [
            "                                                                          \r"
          ]
        },
        {
          "name": "stdout",
          "output_type": "stream",
          "text": [
            "Epoch [5/10], Loss: 0.0837\n"
          ]
        },
        {
          "name": "stderr",
          "output_type": "stream",
          "text": [
            "                                                                          \r"
          ]
        },
        {
          "name": "stdout",
          "output_type": "stream",
          "text": [
            "Epoch [6/10], Loss: 0.0729\n"
          ]
        },
        {
          "name": "stderr",
          "output_type": "stream",
          "text": [
            "                                                                          \r"
          ]
        },
        {
          "name": "stdout",
          "output_type": "stream",
          "text": [
            "Epoch [7/10], Loss: 0.0613\n"
          ]
        },
        {
          "name": "stderr",
          "output_type": "stream",
          "text": [
            "                                                                          \r"
          ]
        },
        {
          "name": "stdout",
          "output_type": "stream",
          "text": [
            "Epoch [8/10], Loss: 0.0549\n"
          ]
        },
        {
          "name": "stderr",
          "output_type": "stream",
          "text": [
            "                                                                          \r"
          ]
        },
        {
          "name": "stdout",
          "output_type": "stream",
          "text": [
            "Epoch [9/10], Loss: 0.0469\n"
          ]
        },
        {
          "name": "stderr",
          "output_type": "stream",
          "text": [
            "                                                                           \r"
          ]
        },
        {
          "name": "stdout",
          "output_type": "stream",
          "text": [
            "Epoch [10/10], Loss: 0.0424\n",
            "Validation Loss: 1.3776, Accuracy: 52.69%\n",
            "Balanced Accuracy: 0.4577\n",
            "F1-Score: 0.6519\n",
            "ROC-AUC: 0.3391\n",
            "\n",
            "Fold 4/5\n",
            "Distribuição de classes no treinamento (balanceado): Counter({0: 2600, 1: 2600})\n",
            "Distribuição de classes na validação: Counter({1: 1813, 0: 75})\n"
          ]
        },
        {
          "name": "stderr",
          "output_type": "stream",
          "text": [
            "                                                                         \r"
          ]
        },
        {
          "name": "stdout",
          "output_type": "stream",
          "text": [
            "Epoch [1/10], Loss: 0.3746\n"
          ]
        },
        {
          "name": "stderr",
          "output_type": "stream",
          "text": [
            "                                                                         \r"
          ]
        },
        {
          "name": "stdout",
          "output_type": "stream",
          "text": [
            "Epoch [2/10], Loss: 0.1807\n"
          ]
        },
        {
          "name": "stderr",
          "output_type": "stream",
          "text": [
            "                                                                          \r"
          ]
        },
        {
          "name": "stdout",
          "output_type": "stream",
          "text": [
            "Epoch [3/10], Loss: 0.1244\n"
          ]
        },
        {
          "name": "stderr",
          "output_type": "stream",
          "text": [
            "                                                                          \r"
          ]
        },
        {
          "name": "stdout",
          "output_type": "stream",
          "text": [
            "Epoch [4/10], Loss: 0.0927\n"
          ]
        },
        {
          "name": "stderr",
          "output_type": "stream",
          "text": [
            "                                                                          \r"
          ]
        },
        {
          "name": "stdout",
          "output_type": "stream",
          "text": [
            "Epoch [5/10], Loss: 0.0777\n"
          ]
        },
        {
          "name": "stderr",
          "output_type": "stream",
          "text": [
            "                                                                          \r"
          ]
        },
        {
          "name": "stdout",
          "output_type": "stream",
          "text": [
            "Epoch [6/10], Loss: 0.0670\n"
          ]
        },
        {
          "name": "stderr",
          "output_type": "stream",
          "text": [
            "                                                                          \r"
          ]
        },
        {
          "name": "stdout",
          "output_type": "stream",
          "text": [
            "Epoch [7/10], Loss: 0.0523\n"
          ]
        },
        {
          "name": "stderr",
          "output_type": "stream",
          "text": [
            "                                                                          \r"
          ]
        },
        {
          "name": "stdout",
          "output_type": "stream",
          "text": [
            "Epoch [8/10], Loss: 0.0458\n"
          ]
        },
        {
          "name": "stderr",
          "output_type": "stream",
          "text": [
            "                                                                          \r"
          ]
        },
        {
          "name": "stdout",
          "output_type": "stream",
          "text": [
            "Epoch [9/10], Loss: 0.0414\n"
          ]
        },
        {
          "name": "stderr",
          "output_type": "stream",
          "text": [
            "                                                                           \r"
          ]
        },
        {
          "name": "stdout",
          "output_type": "stream",
          "text": [
            "Epoch [10/10], Loss: 0.0367\n",
            "Validation Loss: 0.7331, Accuracy: 66.95%\n",
            "Balanced Accuracy: 0.3742\n",
            "F1-Score: 0.8015\n",
            "ROC-AUC: 0.3244\n",
            "\n",
            "Fold 5/5\n",
            "Distribuição de classes no treinamento (balanceado): Counter({0: 1862, 1: 1862})\n",
            "Distribuição de classes na validação: Counter({1: 931, 0: 813})\n"
          ]
        },
        {
          "name": "stderr",
          "output_type": "stream",
          "text": [
            "                                                                         \r"
          ]
        },
        {
          "name": "stdout",
          "output_type": "stream",
          "text": [
            "Epoch [1/10], Loss: 0.4183\n"
          ]
        },
        {
          "name": "stderr",
          "output_type": "stream",
          "text": [
            "                                                                         \r"
          ]
        },
        {
          "name": "stdout",
          "output_type": "stream",
          "text": [
            "Epoch [2/10], Loss: 0.2144\n"
          ]
        },
        {
          "name": "stderr",
          "output_type": "stream",
          "text": [
            "                                                                         \r"
          ]
        },
        {
          "name": "stdout",
          "output_type": "stream",
          "text": [
            "Epoch [3/10], Loss: 0.1458\n"
          ]
        },
        {
          "name": "stderr",
          "output_type": "stream",
          "text": [
            "                                                                          \r"
          ]
        },
        {
          "name": "stdout",
          "output_type": "stream",
          "text": [
            "Epoch [4/10], Loss: 0.1100\n"
          ]
        },
        {
          "name": "stderr",
          "output_type": "stream",
          "text": [
            "                                                                          \r"
          ]
        },
        {
          "name": "stdout",
          "output_type": "stream",
          "text": [
            "Epoch [5/10], Loss: 0.0927\n"
          ]
        },
        {
          "name": "stderr",
          "output_type": "stream",
          "text": [
            "                                                                          \r"
          ]
        },
        {
          "name": "stdout",
          "output_type": "stream",
          "text": [
            "Epoch [6/10], Loss: 0.0757\n"
          ]
        },
        {
          "name": "stderr",
          "output_type": "stream",
          "text": [
            "                                                                          \r"
          ]
        },
        {
          "name": "stdout",
          "output_type": "stream",
          "text": [
            "Epoch [7/10], Loss: 0.0662\n"
          ]
        },
        {
          "name": "stderr",
          "output_type": "stream",
          "text": [
            "                                                                          \r"
          ]
        },
        {
          "name": "stdout",
          "output_type": "stream",
          "text": [
            "Epoch [8/10], Loss: 0.0590\n"
          ]
        },
        {
          "name": "stderr",
          "output_type": "stream",
          "text": [
            "                                                                          \r"
          ]
        },
        {
          "name": "stdout",
          "output_type": "stream",
          "text": [
            "Epoch [9/10], Loss: 0.0501\n"
          ]
        },
        {
          "name": "stderr",
          "output_type": "stream",
          "text": [
            "                                                                           \r"
          ]
        },
        {
          "name": "stdout",
          "output_type": "stream",
          "text": [
            "Epoch [10/10], Loss: 0.0453\n",
            "Validation Loss: 1.4886, Accuracy: 51.32%\n",
            "Balanced Accuracy: 0.4934\n",
            "F1-Score: 0.6329\n",
            "ROC-AUC: 0.5517\n",
            "\n",
            "Resultados dos folds:\n",
            "Média e desvio padrão da Acurácia: 57.07% ± 7.01\n",
            "Média e desvio padrão da Acurácia Balanceada: 0.4884 ± 0.0695\n",
            "Média e desvio padrão do F1-Score: 0.6884 ± 0.0752\n",
            "Média e desvio padrão do ROC-AUC: 0.4941 ± 0.1359\n"
          ]
        }
      ],
      "source": [
        "# RESNET50 COM UNDERSAMPLING\n",
        "#  Listas para armazenar as métricas de cada fold\n",
        "accuracies = []\n",
        "balanced_accuracies = []\n",
        "f1_scores = []\n",
        "roc_aucs = []\n",
        "\n",
        "for fold, (train_idx, val_idx) in enumerate(kf.split(individuals)):\n",
        "    print(f'\\nFold {fold + 1}/{k_folds}')\n",
        "\n",
        "    # Obter os índices dos grupos para treino e validação\n",
        "    train_indices = [idx for i in train_idx for idx in individuals[i]]\n",
        "    val_indices = [idx for i in val_idx for idx in individuals[i]]\n",
        "\n",
        "    # Obter os labels do conjunto de treino\n",
        "    train_labels = [dataset.targets[idx] for idx in train_indices]\n",
        "\n",
        "    # Dividir os índices em duas listas, uma para cada classe\n",
        "    class_0_indices = [train_indices[i] for i in range(len(train_indices)) if train_labels[i] == 0]\n",
        "    class_1_indices = [train_indices[i] for i in range(len(train_indices)) if train_labels[i] == 1]\n",
        "\n",
        "    # Determinar o número de amostras na classe minoritária\n",
        "    n_minority = min(len(class_0_indices), len(class_1_indices))\n",
        "\n",
        "    # Realizar undersampling na classe majoritária para balancear as classes\n",
        "    class_0_indices_resampled = resample(class_0_indices, replace=False, n_samples=n_minority, random_state=42)\n",
        "    class_1_indices_resampled = resample(class_1_indices, replace=False, n_samples=n_minority, random_state=42)\n",
        "\n",
        "    # Combinar as amostras resampled das duas classes\n",
        "    train_indices_balanced = class_0_indices_resampled + class_1_indices_resampled\n",
        "\n",
        "    # Agora, recalcular os labels após o undersampling\n",
        "    train_labels_balanced = [dataset.targets[idx] for idx in train_indices_balanced]\n",
        "\n",
        "    # Mostrar a nova distribuição das classes\n",
        "    train_class_counts_balanced = Counter(train_labels_balanced)\n",
        "    val_labels = [dataset.targets[idx] for idx in val_indices]\n",
        "    val_class_counts = Counter(val_labels)\n",
        "\n",
        "    print(f'Distribuição de classes no treinamento (balanceado): {train_class_counts_balanced}')\n",
        "    print(f'Distribuição de classes na validação: {val_class_counts}')\n",
        "\n",
        "    # Subconjuntos de treinamento e validação\n",
        "    train_subset = Subset(dataset, train_indices_balanced)\n",
        "    val_subset = Subset(dataset, val_indices)\n",
        "\n",
        "    # DataLoader para treinamento e validação\n",
        "    train_loader = DataLoader(train_subset, batch_size=batch_size, shuffle=True)\n",
        "    val_loader = DataLoader(val_subset, batch_size=batch_size, shuffle=False)\n",
        "\n",
        "    # Carregar a ResNet50 pré-treinada e ajustar a última camada\n",
        "    model = models.resnet50(weights=models.ResNet50_Weights.IMAGENET1K_V2)\n",
        "    num_ftrs = model.fc.in_features\n",
        "    model.fc = nn.Linear(num_ftrs, len(dataset.classes))  # Ajustar para o número de classes\n",
        "\n",
        "    # Congelar todas as camadas, exceto a última\n",
        "    for param in model.parameters():\n",
        "        param.requires_grad = False\n",
        "\n",
        "    # A última camada permanece treinável\n",
        "    for param in model.fc.parameters():\n",
        "        param.requires_grad = True\n",
        "\n",
        "    # Mover o modelo para a GPU\n",
        "    model = model.to(device)\n",
        "\n",
        "    # Definir a loss function e o otimizador\n",
        "    criterion = nn.CrossEntropyLoss()\n",
        "    optimizer = optim.Adam(model.parameters(), lr=0.001)\n",
        "\n",
        "    # Treinamento\n",
        "    for epoch in range(num_epochs):\n",
        "        model.train()\n",
        "        running_loss = 0.0\n",
        "\n",
        "        # Usando tqdm para mostrar o progresso das batches\n",
        "        progress_bar = tqdm(train_loader, desc=f'Epoch {epoch + 1}/{num_epochs}', leave=False)\n",
        "        for inputs, labels in progress_bar:\n",
        "            # Mover os dados para a GPU\n",
        "            inputs, labels = inputs.to(device), labels.to(device)\n",
        "\n",
        "            optimizer.zero_grad()\n",
        "            outputs = model(inputs)\n",
        "            loss = criterion(outputs, labels)\n",
        "            loss.backward()\n",
        "            optimizer.step()\n",
        "            running_loss += loss.item()\n",
        "\n",
        "            # Atualizando a barra de progresso com a perda atual\n",
        "            progress_bar.set_postfix(loss=running_loss/len(train_loader))\n",
        "\n",
        "        print(f'Epoch [{epoch + 1}/{num_epochs}], Loss: {running_loss/len(train_loader):.4f}')\n",
        "\n",
        "    # Validação\n",
        "    model.eval()\n",
        "    val_loss = 0.0\n",
        "    correct = 0\n",
        "    total = 0\n",
        "    all_labels = []\n",
        "    all_predictions = []\n",
        "    all_probabilities = []\n",
        "\n",
        "    with torch.no_grad():\n",
        "        for inputs, labels in val_loader:\n",
        "            # Mover os dados para a GPU\n",
        "            inputs, labels = inputs.to(device), labels.to(device)\n",
        "\n",
        "            outputs = model(inputs)\n",
        "            loss = criterion(outputs, labels)\n",
        "            val_loss += loss.item()\n",
        "\n",
        "            _, predicted = torch.max(outputs, 1)\n",
        "            probabilities = torch.softmax(outputs, dim=1)[:, 1]  # Probabilidade da classe 1\n",
        "\n",
        "            all_labels.extend(labels.cpu().numpy())\n",
        "            all_predictions.extend(predicted.cpu().numpy())\n",
        "            all_probabilities.extend(probabilities.cpu().numpy())\n",
        "\n",
        "            total += labels.size(0)\n",
        "            correct += (predicted == labels).sum().item()\n",
        "\n",
        "    # Calcular as métricas\n",
        "    accuracy = 100 * correct / total\n",
        "    balanced_acc = balanced_accuracy_score(all_labels, all_predictions)\n",
        "    f1 = f1_score(all_labels, all_predictions, average='binary')\n",
        "    roc_auc = roc_auc_score(all_labels, all_probabilities)\n",
        "\n",
        "    # Armazenar as métricas\n",
        "    accuracies.append(accuracy)\n",
        "    balanced_accuracies.append(balanced_acc)\n",
        "    f1_scores.append(f1)\n",
        "    roc_aucs.append(roc_auc)\n",
        "\n",
        "    print(f'Validation Loss: {val_loss/len(val_loader):.4f}, Accuracy: {accuracy:.2f}%')\n",
        "    print(f'Balanced Accuracy: {balanced_acc:.4f}')\n",
        "    print(f'F1-Score: {f1:.4f}')\n",
        "    print(f'ROC-AUC: {roc_auc:.4f}')\n",
        "\n",
        "# Comparação das métricas para todos os folds\n",
        "print('\\nResultados dos folds:')\n",
        "print(f'Média e desvio padrão da Acurácia: {np.mean(accuracies):.2f}% ± {np.std(accuracies):.2f}')\n",
        "print(f'Média e desvio padrão da Acurácia Balanceada: {np.mean(balanced_accuracies):.4f} ± {np.std(balanced_accuracies):.4f}')\n",
        "print(f'Média e desvio padrão do F1-Score: {np.mean(f1_scores):.4f} ± {np.std(f1_scores):.4f}')\n",
        "print(f'Média e desvio padrão do ROC-AUC: {np.mean(roc_aucs):.4f} ± {np.std(roc_aucs):.4f}')"
      ]
    },
    {
      "cell_type": "code",
      "execution_count": null,
      "metadata": {
        "id": "7pBvVRD6gscd",
        "outputId": "da4effab-de40-4c94-8e1b-9d77267d0212"
      },
      "outputs": [],
      "source": [
        "#EFFICIENT NET SEM UNDERSAMPLING\n",
        "\n",
        "# Definir o dispositivo (GPU se disponível)\n",
        "device = torch.device(\"cuda:0\" if torch.cuda.is_available() else \"cpu\")\n",
        "print(\"Using device:\", device)\n",
        "\n",
        "# Inicializar KFold\n",
        "kf = KFold(n_splits=k_folds, shuffle=True, random_state=42)\n",
        "\n",
        "# Listas para armazenar as métricas de cada fold\n",
        "accuracies = []\n",
        "balanced_accuracies = []\n",
        "f1_scores = []\n",
        "roc_aucs = []\n",
        "\n",
        "# Loop sobre cada fold\n",
        "for fold, (train_idx, val_idx) in enumerate(kf.split(individuals)):\n",
        "    print(f'\\nFold {fold + 1}/{k_folds}')\n",
        "\n",
        "    # Obter os índices dos grupos para treino e validação\n",
        "    train_indices = [idx for i in train_idx for idx in individuals[i]]\n",
        "    val_indices = [idx for i in val_idx for idx in individuals[i]]\n",
        "\n",
        "    # Contar a distribuição de classes nos conjuntos de treino e validação\n",
        "    train_labels = [dataset.targets[idx] for idx in train_indices]\n",
        "    val_labels = [dataset.targets[idx] for idx in val_indices]\n",
        "\n",
        "    train_class_counts = Counter(train_labels)\n",
        "    val_class_counts = Counter(val_labels)\n",
        "\n",
        "    print(f'Distribuição de classes no treinamento: {train_class_counts}')\n",
        "    print(f'Distribuição de classes na validação: {val_class_counts}')\n",
        "\n",
        "    # Subconjuntos de treinamento e validação\n",
        "    train_subset = Subset(dataset, train_indices)\n",
        "    val_subset = Subset(dataset, val_indices)\n",
        "\n",
        "    # DataLoader para treinamento e validação\n",
        "    train_loader = DataLoader(train_subset, batch_size=batch_size, shuffle=True)\n",
        "    val_loader = DataLoader(val_subset, batch_size=batch_size, shuffle=False)\n",
        "\n",
        "    # Carregar a ResNet50 pré-treinada e ajustar a última camada\n",
        "    model = models.efficientnet_b0(weights=models.EfficientNet_B0_Weights.IMAGENET1K_V1)\n",
        "\n",
        "    # Congelar todas as camadas, exceto a última\n",
        "    for param in model.parameters():\n",
        "        param.requires_grad = False\n",
        "\n",
        "    # Substituir a última camada do classifier\n",
        "    num_ftrs = model.classifier[1].in_features  # Obter o número de entradas da camada Linear no classifier\n",
        "    model.classifier[1] = nn.Linear(num_ftrs, len(dataset.classes))  # Ajustar para o número de classes desejadas\n",
        "\n",
        "    # Descongelar a nova camada classifier\n",
        "    for param in model.classifier[1].parameters():\n",
        "        param.requires_grad = True\n",
        "\n",
        "    # Mover o modelo para a GPU\n",
        "    model = model.to(device)\n",
        "\n",
        "    # Definir a loss function e o otimizador\n",
        "    criterion = nn.CrossEntropyLoss()\n",
        "    optimizer = optim.Adam(model.parameters(), lr=0.001)\n",
        "\n",
        "    # Treinamento\n",
        "    for epoch in range(num_epochs):\n",
        "        model.train()\n",
        "        running_loss = 0.0\n",
        "\n",
        "        # Usando tqdm para mostrar o progresso das batches\n",
        "        progress_bar = tqdm(train_loader, desc=f'Epoch {epoch + 1}/{num_epochs}', leave=False)\n",
        "        for inputs, labels in progress_bar:\n",
        "            # Mover os dados para a GPU\n",
        "            inputs, labels = inputs.to(device), labels.to(device)\n",
        "\n",
        "            optimizer.zero_grad()\n",
        "            outputs = model(inputs)\n",
        "            loss = criterion(outputs, labels)\n",
        "            loss.backward()\n",
        "            optimizer.step()\n",
        "            running_loss += loss.item()\n",
        "\n",
        "            # Atualizando a barra de progresso com a perda atual\n",
        "            progress_bar.set_postfix(loss=running_loss/len(train_loader))\n",
        "\n",
        "        print(f'Epoch [{epoch + 1}/{num_epochs}], Loss: {running_loss/len(train_loader):.4f}')\n",
        "\n",
        "    # Validação\n",
        "    model.eval()\n",
        "    val_loss = 0.0\n",
        "    correct = 0\n",
        "    total = 0\n",
        "    all_labels = []\n",
        "    all_predictions = []\n",
        "    all_probabilities = []\n",
        "\n",
        "    with torch.no_grad():\n",
        "        for inputs, labels in val_loader:\n",
        "            # Mover os dados para a GPU\n",
        "            inputs, labels = inputs.to(device), labels.to(device)\n",
        "\n",
        "            outputs = model(inputs)\n",
        "            loss = criterion(outputs, labels)\n",
        "            val_loss += loss.item()\n",
        "\n",
        "            _, predicted = torch.max(outputs, 1)\n",
        "            probabilities = torch.softmax(outputs, dim=1)[:, 1]  # Probabilidade da classe 1\n",
        "\n",
        "            all_labels.extend(labels.cpu().numpy())\n",
        "            all_predictions.extend(predicted.cpu().numpy())\n",
        "            all_probabilities.extend(probabilities.cpu().numpy())\n",
        "\n",
        "            total += labels.size(0)\n",
        "            correct += (predicted == labels).sum().item()\n",
        "\n",
        "    # Calcular as métricas\n",
        "    accuracy = 100 * correct / total\n",
        "    balanced_acc = balanced_accuracy_score(all_labels, all_predictions)\n",
        "    f1 = f1_score(all_labels, all_predictions, average='binary')\n",
        "    roc_auc = roc_auc_score(all_labels, all_probabilities)\n",
        "\n",
        "    # Armazenar as métricas\n",
        "    accuracies.append(accuracy)\n",
        "    balanced_accuracies.append(balanced_acc)\n",
        "    f1_scores.append(f1)\n",
        "    roc_aucs.append(roc_auc)\n",
        "\n",
        "    print(f'Validation Loss: {val_loss/len(val_loader):.4f}, Accuracy: {accuracy:.2f}%')\n",
        "    print(f'Balanced Accuracy: {balanced_acc:.4f}')\n",
        "    print(f'F1-Score: {f1:.4f}')\n",
        "    print(f'ROC-AUC: {roc_auc:.4f}')\n",
        "\n",
        "# Comparação das métricas para todos os folds\n",
        "print('\\nResultados dos folds:')\n",
        "print(f'Média e desvio padrão da Acurácia: {np.mean(accuracies):.2f}% ± {np.std(accuracies):.2f}')\n",
        "print(f'Média e desvio padrão da Acurácia Balanceada: {np.mean(balanced_accuracies):.4f} ± {np.std(balanced_accuracies):.4f}')\n",
        "print(f'Média e desvio padrão do F1-Score: {np.mean(f1_scores):.4f} ± {np.std(f1_scores):.4f}')\n",
        "print(f'Média e desvio padrão do ROC-AUC: {np.mean(roc_aucs):.4f} ± {np.std(roc_aucs):.4f}')"
      ]
    },
    {
      "cell_type": "code",
      "execution_count": null,
      "metadata": {
        "id": "zWKYBQC0gsce",
        "outputId": "2f11db2d-eb19-4ed8-b1ed-8f05f34d8268"
      },
      "outputs": [],
      "source": [
        "#EFFICIENT NET COM UNDERSAMPLING\n",
        "\n",
        "# Listas para armazenar as métricas de cada fold\n",
        "accuracies = []\n",
        "balanced_accuracies = []\n",
        "f1_scores = []\n",
        "roc_aucs = []\n",
        "\n",
        "for fold, (train_idx, val_idx) in enumerate(kf.split(individuals)):\n",
        "    print(f'\\nFold {fold + 1}/{k_folds}')\n",
        "\n",
        "    # Obter os índices dos grupos para treino e validação\n",
        "    train_indices = [idx for i in train_idx for idx in individuals[i]]\n",
        "    val_indices = [idx for i in val_idx for idx in individuals[i]]\n",
        "\n",
        "    # Obter os labels do conjunto de treino\n",
        "    train_labels = [dataset.targets[idx] for idx in train_indices]\n",
        "\n",
        "    # Dividir os índices em duas listas, uma para cada classe\n",
        "    class_0_indices = [train_indices[i] for i in range(len(train_indices)) if train_labels[i] == 0]\n",
        "    class_1_indices = [train_indices[i] for i in range(len(train_indices)) if train_labels[i] == 1]\n",
        "\n",
        "    # Determinar o número de amostras na classe minoritária\n",
        "    n_minority = min(len(class_0_indices), len(class_1_indices))\n",
        "\n",
        "    # Realizar undersampling na classe majoritária para balancear as classes\n",
        "    class_0_indices_resampled = resample(class_0_indices, replace=False, n_samples=n_minority, random_state=42)\n",
        "    class_1_indices_resampled = resample(class_1_indices, replace=False, n_samples=n_minority, random_state=42)\n",
        "\n",
        "    # Combinar as amostras resampled das duas classes\n",
        "    train_indices_balanced = class_0_indices_resampled + class_1_indices_resampled\n",
        "\n",
        "    # Agora, recalcular os labels após o undersampling\n",
        "    train_labels_balanced = [dataset.targets[idx] for idx in train_indices_balanced]\n",
        "\n",
        "    # Mostrar a nova distribuição das classes\n",
        "    train_class_counts_balanced = Counter(train_labels_balanced)\n",
        "    val_labels = [dataset.targets[idx] for idx in val_indices]\n",
        "    val_class_counts = Counter(val_labels)\n",
        "\n",
        "    print(f'Distribuição de classes no treinamento (balanceado): {train_class_counts_balanced}')\n",
        "    print(f'Distribuição de classes na validação: {val_class_counts}')\n",
        "\n",
        "    # Subconjuntos de treinamento e validação\n",
        "    train_subset = Subset(dataset, train_indices_balanced)\n",
        "    val_subset = Subset(dataset, val_indices)\n",
        "\n",
        "    # DataLoader para treinamento e validação\n",
        "    train_loader = DataLoader(train_subset, batch_size=batch_size, shuffle=True)\n",
        "    val_loader = DataLoader(val_subset, batch_size=batch_size, shuffle=False)\n",
        "\n",
        "    # Carregar a ResNet50 pré-treinada e ajustar a última camada\n",
        "    model = models.efficientnet_b0(weights=models.EfficientNet_B0_Weights.IMAGENET1K_V1)\n",
        "\n",
        "    # Congelar todas as camadas, exceto a última\n",
        "    for param in model.parameters():\n",
        "        param.requires_grad = False\n",
        "\n",
        "    # Substituir a última camada do classifier\n",
        "    num_ftrs = model.classifier[1].in_features  # Obter o número de entradas da camada Linear no classifier\n",
        "    model.classifier[1] = nn.Linear(num_ftrs, len(dataset.classes))  # Ajustar para o número de classes desejadas\n",
        "\n",
        "    # Descongelar a nova camada classifier\n",
        "    for param in model.classifier[1].parameters():\n",
        "        param.requires_grad = True\n",
        "\n",
        "    # Mover o modelo para a GPU\n",
        "    model = model.to(device)\n",
        "\n",
        "    # Definir a loss function e o otimizador\n",
        "    criterion = nn.CrossEntropyLoss()\n",
        "    optimizer = optim.Adam(model.parameters(), lr=0.001)\n",
        "\n",
        "    # Treinamento\n",
        "    for epoch in range(num_epochs):\n",
        "        model.train()\n",
        "        running_loss = 0.0\n",
        "\n",
        "        # Usando tqdm para mostrar o progresso das batches\n",
        "        progress_bar = tqdm(train_loader, desc=f'Epoch {epoch + 1}/{num_epochs}', leave=False)\n",
        "        for inputs, labels in progress_bar:\n",
        "            # Mover os dados para a GPU\n",
        "            inputs, labels = inputs.to(device), labels.to(device)\n",
        "\n",
        "            optimizer.zero_grad()\n",
        "            outputs = model(inputs)\n",
        "            loss = criterion(outputs, labels)\n",
        "            loss.backward()\n",
        "            optimizer.step()\n",
        "            running_loss += loss.item()\n",
        "\n",
        "            # Atualizando a barra de progresso com a perda atual\n",
        "            progress_bar.set_postfix(loss=running_loss/len(train_loader))\n",
        "\n",
        "        print(f'Epoch [{epoch + 1}/{num_epochs}], Loss: {running_loss/len(train_loader):.4f}')\n",
        "\n",
        "    # Validação\n",
        "    model.eval()\n",
        "    val_loss = 0.0\n",
        "    correct = 0\n",
        "    total = 0\n",
        "    all_labels = []\n",
        "    all_predictions = []\n",
        "    all_probabilities = []\n",
        "\n",
        "    with torch.no_grad():\n",
        "        for inputs, labels in val_loader:\n",
        "            # Mover os dados para a GPU\n",
        "            inputs, labels = inputs.to(device), labels.to(device)\n",
        "\n",
        "            outputs = model(inputs)\n",
        "            loss = criterion(outputs, labels)\n",
        "            val_loss += loss.item()\n",
        "\n",
        "            _, predicted = torch.max(outputs, 1)\n",
        "            probabilities = torch.softmax(outputs, dim=1)[:, 1]  # Probabilidade da classe 1\n",
        "\n",
        "            all_labels.extend(labels.cpu().numpy())\n",
        "            all_predictions.extend(predicted.cpu().numpy())\n",
        "            all_probabilities.extend(probabilities.cpu().numpy())\n",
        "\n",
        "            total += labels.size(0)\n",
        "            correct += (predicted == labels).sum().item()\n",
        "\n",
        "    # Calcular as métricas\n",
        "    accuracy = 100 * correct / total\n",
        "    balanced_acc = balanced_accuracy_score(all_labels, all_predictions)\n",
        "    f1 = f1_score(all_labels, all_predictions, average='binary')\n",
        "    roc_auc = roc_auc_score(all_labels, all_probabilities)\n",
        "\n",
        "    # Armazenar as métricas\n",
        "    accuracies.append(accuracy)\n",
        "    balanced_accuracies.append(balanced_acc)\n",
        "    f1_scores.append(f1)\n",
        "    roc_aucs.append(roc_auc)\n",
        "\n",
        "    print(f'Validation Loss: {val_loss/len(val_loader):.4f}, Accuracy: {accuracy:.2f}%')\n",
        "    print(f'Balanced Accuracy: {balanced_acc:.4f}')\n",
        "    print(f'F1-Score: {f1:.4f}')\n",
        "    print(f'ROC-AUC: {roc_auc:.4f}')\n",
        "\n",
        "# Comparação das métricas para todos os folds\n",
        "print('\\nResultados dos folds:')\n",
        "print(f'Média e desvio padrão da Acurácia: {np.mean(accuracies):.2f}% ± {np.std(accuracies):.2f}')\n",
        "print(f'Média e desvio padrão da Acurácia Balanceada: {np.mean(balanced_accuracies):.4f} ± {np.std(balanced_accuracies):.4f}')\n",
        "print(f'Média e desvio padrão do F1-Score: {np.mean(f1_scores):.4f} ± {np.std(f1_scores):.4f}')\n",
        "print(f'Média e desvio padrão do ROC-AUC: {np.mean(roc_aucs):.4f} ± {np.std(roc_aucs):.4f}')"
      ]
    },
    {
      "cell_type": "code",
      "execution_count": null,
      "metadata": {
        "id": "03fWIrELgscg",
        "outputId": "d9268499-b40f-4dcb-8e29-bab65a699820"
      },
      "outputs": [],
      "source": [
        "# RESNET50 COM UNDERSAMPLING 30 EPOCAS\n",
        "\n",
        "# Definir parâmetros\n",
        "num_epochs = 30\n",
        "\n",
        "#  Listas para armazenar as métricas de cada fold\n",
        "accuracies = []\n",
        "balanced_accuracies = []\n",
        "f1_scores = []\n",
        "roc_aucs = []\n",
        "\n",
        "epoch\n",
        "\n",
        "for fold, (train_idx, val_idx) in enumerate(kf.split(individuals)):\n",
        "    print(f'\\nFold {fold + 1}/{k_folds}')\n",
        "\n",
        "    # Obter os índices dos grupos para treino e validação\n",
        "    train_indices = [idx for i in train_idx for idx in individuals[i]]\n",
        "    val_indices = [idx for i in val_idx for idx in individuals[i]]\n",
        "\n",
        "    # Obter os labels do conjunto de treino\n",
        "    train_labels = [dataset.targets[idx] for idx in train_indices]\n",
        "\n",
        "    # Dividir os índices em duas listas, uma para cada classe\n",
        "    class_0_indices = [train_indices[i] for i in range(len(train_indices)) if train_labels[i] == 0]\n",
        "    class_1_indices = [train_indices[i] for i in range(len(train_indices)) if train_labels[i] == 1]\n",
        "\n",
        "    # Determinar o número de amostras na classe minoritária\n",
        "    n_minority = min(len(class_0_indices), len(class_1_indices))\n",
        "\n",
        "    # Realizar undersampling na classe majoritária para balancear as classes\n",
        "    class_0_indices_resampled = resample(class_0_indices, replace=False, n_samples=n_minority, random_state=42)\n",
        "    class_1_indices_resampled = resample(class_1_indices, replace=False, n_samples=n_minority, random_state=42)\n",
        "\n",
        "    # Combinar as amostras resampled das duas classes\n",
        "    train_indices_balanced = class_0_indices_resampled + class_1_indices_resampled\n",
        "\n",
        "    # Agora, recalcular os labels após o undersampling\n",
        "    train_labels_balanced = [dataset.targets[idx] for idx in train_indices_balanced]\n",
        "\n",
        "    # Mostrar a nova distribuição das classes\n",
        "    train_class_counts_balanced = Counter(train_labels_balanced)\n",
        "    val_labels = [dataset.targets[idx] for idx in val_indices]\n",
        "    val_class_counts = Counter(val_labels)\n",
        "\n",
        "    print(f'Distribuição de classes no treinamento (balanceado): {train_class_counts_balanced}')\n",
        "    print(f'Distribuição de classes na validação: {val_class_counts}')\n",
        "\n",
        "    # Subconjuntos de treinamento e validação\n",
        "    train_subset = Subset(dataset, train_indices_balanced)\n",
        "    val_subset = Subset(dataset, val_indices)\n",
        "\n",
        "    # DataLoader para treinamento e validação\n",
        "    train_loader = DataLoader(train_subset, batch_size=batch_size, shuffle=True)\n",
        "    val_loader = DataLoader(val_subset, batch_size=batch_size, shuffle=False)\n",
        "\n",
        "    # Carregar a ResNet50 pré-treinada e ajustar a última camada\n",
        "    model = models.resnet50(weights=models.ResNet50_Weights.IMAGENET1K_V2)\n",
        "    num_ftrs = model.fc.in_features\n",
        "    model.fc = nn.Linear(num_ftrs, len(dataset.classes))  # Ajustar para o número de classes\n",
        "\n",
        "    # Congelar todas as camadas, exceto a última\n",
        "    for param in model.parameters():\n",
        "        param.requires_grad = False\n",
        "\n",
        "    # A última camada permanece treinável\n",
        "    for param in model.fc.parameters():\n",
        "        param.requires_grad = True\n",
        "\n",
        "    # Mover o modelo para a GPU\n",
        "    model = model.to(device)\n",
        "\n",
        "    # Definir a loss function e o otimizador\n",
        "    criterion = nn.CrossEntropyLoss()\n",
        "    optimizer = optim.Adam(model.parameters(), lr=0.001)\n",
        "\n",
        "    # Treinamento\n",
        "    for epoch in range(num_epochs):\n",
        "        model.train()\n",
        "        running_loss = 0.0\n",
        "\n",
        "        # Usando tqdm para mostrar o progresso das batches\n",
        "        progress_bar = tqdm(train_loader, desc=f'Epoch {epoch + 1}/{num_epochs}', leave=False)\n",
        "        for inputs, labels in progress_bar:\n",
        "            # Mover os dados para a GPU\n",
        "            inputs, labels = inputs.to(device), labels.to(device)\n",
        "\n",
        "            optimizer.zero_grad()\n",
        "            outputs = model(inputs)\n",
        "            loss = criterion(outputs, labels)\n",
        "            loss.backward()\n",
        "            optimizer.step()\n",
        "            running_loss += loss.item()\n",
        "\n",
        "            # Atualizando a barra de progresso com a perda atual\n",
        "            progress_bar.set_postfix(loss=running_loss/len(train_loader))\n",
        "\n",
        "        print(f'Epoch [{epoch + 1}/{num_epochs}], Loss: {running_loss/len(train_loader):.4f}')\n",
        "\n",
        "    # Validação\n",
        "    model.eval()\n",
        "    val_loss = 0.0\n",
        "    correct = 0\n",
        "    total = 0\n",
        "    all_labels = []\n",
        "    all_predictions = []\n",
        "    all_probabilities = []\n",
        "\n",
        "    with torch.no_grad():\n",
        "        for inputs, labels in val_loader:\n",
        "            # Mover os dados para a GPU\n",
        "            inputs, labels = inputs.to(device), labels.to(device)\n",
        "\n",
        "            outputs = model(inputs)\n",
        "            loss = criterion(outputs, labels)\n",
        "            val_loss += loss.item()\n",
        "\n",
        "            _, predicted = torch.max(outputs, 1)\n",
        "            probabilities = torch.softmax(outputs, dim=1)[:, 1]  # Probabilidade da classe 1\n",
        "\n",
        "            all_labels.extend(labels.cpu().numpy())\n",
        "            all_predictions.extend(predicted.cpu().numpy())\n",
        "            all_probabilities.extend(probabilities.cpu().numpy())\n",
        "\n",
        "            total += labels.size(0)\n",
        "            correct += (predicted == labels).sum().item()\n",
        "\n",
        "    # Calcular as métricas\n",
        "    accuracy = 100 * correct / total\n",
        "    balanced_acc = balanced_accuracy_score(all_labels, all_predictions)\n",
        "    f1 = f1_score(all_labels, all_predictions, average='binary')\n",
        "    roc_auc = roc_auc_score(all_labels, all_probabilities)\n",
        "\n",
        "    # Armazenar as métricas\n",
        "    accuracies.append(accuracy)\n",
        "    balanced_accuracies.append(balanced_acc)\n",
        "    f1_scores.append(f1)\n",
        "    roc_aucs.append(roc_auc)\n",
        "\n",
        "    print(f'Validation Loss: {val_loss/len(val_loader):.4f}, Accuracy: {accuracy:.2f}%')\n",
        "    print(f'Balanced Accuracy: {balanced_acc:.4f}')\n",
        "    print(f'F1-Score: {f1:.4f}')\n",
        "    print(f'ROC-AUC: {roc_auc:.4f}')\n",
        "\n",
        "# Comparação das métricas para todos os folds\n",
        "print('\\nResultados dos folds:')\n",
        "print(f'Média e desvio padrão da Acurácia: {np.mean(accuracies):.2f}% ± {np.std(accuracies):.2f}')\n",
        "print(f'Média e desvio padrão da Acurácia Balanceada: {np.mean(balanced_accuracies):.4f} ± {np.std(balanced_accuracies):.4f}')\n",
        "print(f'Média e desvio padrão do F1-Score: {np.mean(f1_scores):.4f} ± {np.std(f1_scores):.4f}')\n",
        "print(f'Média e desvio padrão do ROC-AUC: {np.mean(roc_aucs):.4f} ± {np.std(roc_aucs):.4f}')"
      ]
    },
    {
      "cell_type": "markdown",
      "metadata": {
        "id": "sbnUZ75y3oif"
      },
      "source": [
        "# CNN - Imagens Individuais\n",
        "\n"
      ]
    },
    {
      "cell_type": "code",
      "execution_count": null,
      "metadata": {
        "id": "lV5URc8s3jPd"
      },
      "outputs": [],
      "source": [
        "import matplotlib.pyplot as plt\n",
        "%matplotlib inline\n",
        "import torch\n",
        "import torch.nn as nn\n",
        "import torch.optim as optim\n",
        "from torchvision import datasets, transforms, models\n",
        "from torchvision.models import ResNet50_Weights, EfficientNet_B0_Weights\n",
        "from torch.utils.data import DataLoader, Subset\n",
        "from sklearn.model_selection import KFold\n",
        "from sklearn.utils import resample\n",
        "from sklearn.metrics import f1_score, roc_auc_score, balanced_accuracy_score, confusion_matrix\n",
        "import numpy as np\n",
        "import os\n",
        "from collections import defaultdict, Counter\n",
        "from tqdm import tqdm"
      ]
    },
    {
      "cell_type": "code",
      "execution_count": null,
      "metadata": {
        "id": "VBhfISXX3jPy"
      },
      "outputs": [],
      "source": [
        "# Transformações a serem aplicadas nas imagens\n",
        "transform = transforms.Compose([\n",
        "    transforms.Resize((32, 32)),  # Redimensionar as imagens para 224x224\n",
        "    transforms.ToTensor(),  # Converter as imagens em tensores\n",
        "])\n",
        "\n",
        "# Carregar o dataset usando ImageFolder (assume que as pastas c1 e c2 estão dentro de data_dir)\n",
        "data_dir = r'E:\\dataset'\n",
        "dataset = datasets.ImageFolder(root=data_dir, transform=transform)\n",
        "\n",
        "# Definir parâmetros\n",
        "batch_size = 512\n",
        "num_epochs = 5\n",
        "k_folds = 5  # Número de folds para validação cruzada\n"
      ]
    },
    {
      "cell_type": "code",
      "execution_count": null,
      "metadata": {
        "id": "lY9sSBoa3jP0",
        "outputId": "4957cfd4-fc93-492d-db80-07b70b2e9e2d"
      },
      "outputs": [
        {
          "name": "stdout",
          "output_type": "stream",
          "text": [
            "Label: c2\n"
          ]
        },
        {
          "data": {
            "image/png": "[encoded data removed]",
            "text/plain": [
              "<Figure size 640x480 with 1 Axes>"
            ]
          },
          "metadata": {},
          "output_type": "display_data"
        },
        {
          "name": "stdout",
          "output_type": "stream",
          "text": [
            "Label: c2\n"
          ]
        },
        {
          "data": {
            "image/png": "[encoded data removed]",
            "text/plain": [
              "<Figure size 640x480 with 1 Axes>"
            ]
          },
          "metadata": {},
          "output_type": "display_data"
        },
        {
          "name": "stdout",
          "output_type": "stream",
          "text": [
            "Label: c2\n"
          ]
        },
        {
          "data": {
            "image/png": "[encoded data removed]",
            "text/plain": [
              "<Figure size 640x480 with 1 Axes>"
            ]
          },
          "metadata": {},
          "output_type": "display_data"
        },
        {
          "name": "stdout",
          "output_type": "stream",
          "text": [
            "Label: c1\n"
          ]
        },
        {
          "data": {
            "image/png": "[encoded data removed]",
            "text/plain": [
              "<Figure size 640x480 with 1 Axes>"
            ]
          },
          "metadata": {},
          "output_type": "display_data"
        },
        {
          "name": "stdout",
          "output_type": "stream",
          "text": [
            "Tamanho do dataset: 358596 imagens\n"
          ]
        }
      ],
      "source": [
        "# Carregar algumas amostras do DataLoader\n",
        "dataloader = DataLoader(dataset, batch_size=4, shuffle=True)\n",
        "\n",
        "# Obter um batch de imagens\n",
        "images, labels = next(iter(dataloader))\n",
        "\n",
        "# Função para exibir imagens\n",
        "def imshow(img):\n",
        "    img = img / 2 + 0.5  # Desnormalizar\n",
        "    np_img = img.numpy()\n",
        "    plt.imshow(np.transpose(np_img, (1, 2, 0)), interpolation='nearest')\n",
        "    plt.show()\n",
        "\n",
        "# Mostrar as imagens\n",
        "for i in range(len(images)):\n",
        "    print(f'Label: {dataset.classes[labels[i]]}')\n",
        "    imshow(images[i])\n",
        "\n",
        "# Verificar tamanho do dataset\n",
        "print(f'Tamanho do dataset: {len(dataset)} imagens')"
      ]
    },
    {
      "cell_type": "code",
      "execution_count": null,
      "metadata": {
        "id": "a7A6JsFh3jP4",
        "outputId": "b383f98a-b7e6-420a-f396-e1598c1b63b5"
      },
      "outputs": [],
      "source": [
        "# Verificar as classes atribuídas\n",
        "print(\"Classes:\", dataset.classes)\n",
        "\n",
        "# Verificar alguns exemplos de labels\n",
        "for idx, (path, label) in enumerate(dataset.imgs[50000:50100]):\n",
        "    print(f\"Path: {path}, Label: {label}\")"
      ]
    },
    {
      "cell_type": "code",
      "execution_count": null,
      "metadata": {
        "id": "ousAMOqz3jP5",
        "outputId": "4a20bd96-3650-4943-d906-e683ceca76b7"
      },
      "outputs": [
        {
          "name": "stdout",
          "output_type": "stream",
          "text": [
            "True\n",
            "1\n",
            "NVIDIA GeForce GTX 1060 6GB\n"
          ]
        }
      ],
      "source": [
        "print(torch.cuda.is_available())  # Deve retornar True se uma GPU com CUDA estiver disponível\n",
        "print(torch.cuda.device_count())  # Retorna o número de GPUs disponíveis\n",
        "print(torch.cuda.get_device_name(0))  # Retorna o nome da GPU (se disponível)\n"
      ]
    },
    {
      "cell_type": "code",
      "execution_count": null,
      "metadata": {
        "id": "QJcPkrXs3jP6",
        "outputId": "aea6ce02-a681-407a-e129-8b148f7b6bed"
      },
      "outputs": [],
      "source": [
        "# Agrupar imagens por indivíduo\n",
        "individual_groups = defaultdict(list)\n",
        "for idx, (path, _) in enumerate(dataset.imgs):\n",
        "    filename = os.path.basename(path)\n",
        "    print(filename)\n",
        "    individual_id = filename.split('_')[2]  # Extrair o número do indivíduo\n",
        "    individual_groups[individual_id].append(idx)\n",
        "\n",
        "# Converter grupos para listas\n",
        "individuals = list(individual_groups.values())\n",
        "print(individuals)"
      ]
    },
    {
      "cell_type": "code",
      "execution_count": null,
      "metadata": {
        "id": "3TdN0go13jP8",
        "outputId": "e47aed74-47a8-4edb-c9f5-358c4e1def57"
      },
      "outputs": [
        {
          "name": "stdout",
          "output_type": "stream",
          "text": [
            "Using device: cuda:0\n"
          ]
        }
      ],
      "source": [
        "# Definir o dispositivo (GPU se disponível)\n",
        "device = torch.device(\"cuda:0\" if torch.cuda.is_available() else \"cpu\")\n",
        "print(\"Using device:\", device)\n",
        "\n",
        "# Inicializar KFold\n",
        "kf = KFold(n_splits=k_folds, shuffle=True, random_state=42)"
      ]
    },
    {
      "cell_type": "code",
      "execution_count": null,
      "metadata": {
        "id": "APShZGpd3jP9",
        "outputId": "5d55365d-f9bd-4e4b-f1bb-7f8e2066838a"
      },
      "outputs": [
        {
          "name": "stdout",
          "output_type": "stream",
          "text": [
            "\n",
            "Fold 1/5\n",
            "Distribuição de classes no treinamento (balanceado): Counter({0: 89169, 1: 89169})\n",
            "Distribuição de classes na validação: Counter({1: 75377, 0: 20846})\n"
          ]
        },
        {
          "name": "stderr",
          "output_type": "stream",
          "text": [
            "                                                                          \r"
          ]
        },
        {
          "name": "stdout",
          "output_type": "stream",
          "text": [
            "Epoch [1/5], Training Loss: 0.1595\n",
            "Validation Loss: 0.7607, Accuracy: 70.63%\n",
            "Balanced Accuracy: 0.6111\n",
            "F1-Score: 0.8061\n",
            "ROC-AUC: 0.6567\n"
          ]
        },
        {
          "name": "stderr",
          "output_type": "stream",
          "text": [
            "                                                                         \r"
          ]
        },
        {
          "name": "stdout",
          "output_type": "stream",
          "text": [
            "Epoch [2/5], Training Loss: 0.0495\n",
            "Validation Loss: 0.9285, Accuracy: 69.11%\n",
            "Balanced Accuracy: 0.5808\n",
            "F1-Score: 0.7972\n",
            "ROC-AUC: 0.5915\n"
          ]
        },
        {
          "name": "stderr",
          "output_type": "stream",
          "text": [
            "                                                                          \r"
          ]
        },
        {
          "name": "stdout",
          "output_type": "stream",
          "text": [
            "Epoch [3/5], Training Loss: 0.0391\n",
            "Validation Loss: 1.1128, Accuracy: 59.19%\n",
            "Balanced Accuracy: 0.4643\n",
            "F1-Score: 0.7258\n",
            "ROC-AUC: 0.4935\n"
          ]
        },
        {
          "name": "stderr",
          "output_type": "stream",
          "text": [
            "                                                                          \r"
          ]
        },
        {
          "name": "stdout",
          "output_type": "stream",
          "text": [
            "Epoch [4/5], Training Loss: 0.0337\n",
            "Validation Loss: 0.8890, Accuracy: 73.06%\n",
            "Balanced Accuracy: 0.6600\n",
            "F1-Score: 0.8202\n",
            "ROC-AUC: 0.6984\n"
          ]
        },
        {
          "name": "stderr",
          "output_type": "stream",
          "text": [
            "                                                                          \r"
          ]
        },
        {
          "name": "stdout",
          "output_type": "stream",
          "text": [
            "Epoch [5/5], Training Loss: 0.0296\n",
            "Validation Loss: 1.1241, Accuracy: 68.82%\n",
            "Balanced Accuracy: 0.5637\n",
            "F1-Score: 0.7974\n",
            "ROC-AUC: 0.5755\n",
            "Matriz de Confusão do Fold 1:\n",
            "[[ 7172 13674]\n",
            " [16332 59045]]\n",
            "\n",
            "Fold 2/5\n",
            "Distribuição de classes no treinamento (balanceado): Counter({0: 73543, 1: 73543})\n",
            "Distribuição de classes na validação: Counter({0: 36472, 1: 28701})\n"
          ]
        },
        {
          "name": "stderr",
          "output_type": "stream",
          "text": [
            "                                                                        \r"
          ]
        },
        {
          "name": "stdout",
          "output_type": "stream",
          "text": [
            "Epoch [1/5], Training Loss: 0.1665\n",
            "Validation Loss: 1.7002, Accuracy: 45.93%\n",
            "Balanced Accuracy: 0.5104\n",
            "F1-Score: 0.6046\n",
            "ROC-AUC: 0.5078\n"
          ]
        },
        {
          "name": "stderr",
          "output_type": "stream",
          "text": [
            "                                                                         \r"
          ]
        },
        {
          "name": "stdout",
          "output_type": "stream",
          "text": [
            "Epoch [2/5], Training Loss: 0.0612\n",
            "Validation Loss: 1.6815, Accuracy: 43.70%\n",
            "Balanced Accuracy: 0.4456\n",
            "F1-Score: 0.4478\n",
            "ROC-AUC: 0.4073\n"
          ]
        },
        {
          "name": "stderr",
          "output_type": "stream",
          "text": [
            "                                                                         \r"
          ]
        },
        {
          "name": "stdout",
          "output_type": "stream",
          "text": [
            "Epoch [3/5], Training Loss: 0.0674\n",
            "Validation Loss: 3.0040, Accuracy: 39.56%\n",
            "Balanced Accuracy: 0.4405\n",
            "F1-Score: 0.5434\n",
            "ROC-AUC: 0.3377\n"
          ]
        },
        {
          "name": "stderr",
          "output_type": "stream",
          "text": [
            "                                                                         \r"
          ]
        },
        {
          "name": "stdout",
          "output_type": "stream",
          "text": [
            "Epoch [4/5], Training Loss: 0.0513\n",
            "Validation Loss: 2.2574, Accuracy: 41.21%\n",
            "Balanced Accuracy: 0.4436\n",
            "F1-Score: 0.5147\n",
            "ROC-AUC: 0.4079\n"
          ]
        },
        {
          "name": "stderr",
          "output_type": "stream",
          "text": [
            "                                                                         \r"
          ]
        },
        {
          "name": "stdout",
          "output_type": "stream",
          "text": [
            "Epoch [5/5], Training Loss: 0.0280\n",
            "Validation Loss: 2.9018, Accuracy: 41.04%\n",
            "Balanced Accuracy: 0.4539\n",
            "F1-Score: 0.5502\n",
            "ROC-AUC: 0.4129\n",
            "Matriz de Confusão do Fold 2:\n",
            "[[ 3242 33230]\n",
            " [ 5196 23505]]\n",
            "\n",
            "Fold 3/5\n",
            "Distribuição de classes no treinamento (balanceado): Counter({0: 94563, 1: 94563})\n",
            "Distribuição de classes na validação: Counter({1: 31227, 0: 15452})\n"
          ]
        },
        {
          "name": "stderr",
          "output_type": "stream",
          "text": [
            "                                                                         \r"
          ]
        },
        {
          "name": "stdout",
          "output_type": "stream",
          "text": [
            "Epoch [1/5], Training Loss: 0.1702\n",
            "Validation Loss: 1.1436, Accuracy: 51.97%\n",
            "Balanced Accuracy: 0.4688\n",
            "F1-Score: 0.6331\n",
            "ROC-AUC: 0.4727\n"
          ]
        },
        {
          "name": "stderr",
          "output_type": "stream",
          "text": [
            "                                                                         \r"
          ]
        },
        {
          "name": "stdout",
          "output_type": "stream",
          "text": [
            "Epoch [2/5], Training Loss: 0.0589\n",
            "Validation Loss: 1.4526, Accuracy: 50.84%\n",
            "Balanced Accuracy: 0.4803\n",
            "F1-Score: 0.6052\n",
            "ROC-AUC: 0.4608\n"
          ]
        },
        {
          "name": "stderr",
          "output_type": "stream",
          "text": [
            "                                                                         \r"
          ]
        },
        {
          "name": "stdout",
          "output_type": "stream",
          "text": [
            "Epoch [3/5], Training Loss: 0.0530\n",
            "Validation Loss: 1.3973, Accuracy: 56.11%\n",
            "Balanced Accuracy: 0.5101\n",
            "F1-Score: 0.6683\n",
            "ROC-AUC: 0.5143\n"
          ]
        },
        {
          "name": "stderr",
          "output_type": "stream",
          "text": [
            "                                                                         \r"
          ]
        },
        {
          "name": "stdout",
          "output_type": "stream",
          "text": [
            "Epoch [4/5], Training Loss: 0.0286\n",
            "Validation Loss: 1.5244, Accuracy: 57.17%\n",
            "Balanced Accuracy: 0.5288\n",
            "F1-Score: 0.6720\n",
            "ROC-AUC: 0.5338\n"
          ]
        },
        {
          "name": "stderr",
          "output_type": "stream",
          "text": [
            "                                                                          \r"
          ]
        },
        {
          "name": "stdout",
          "output_type": "stream",
          "text": [
            "Epoch [5/5], Training Loss: 0.0619\n",
            "Validation Loss: 1.9056, Accuracy: 53.51%\n",
            "Balanced Accuracy: 0.5148\n",
            "F1-Score: 0.6232\n",
            "ROC-AUC: 0.5149\n",
            "Matriz de Confusão do Fold 3:\n",
            "[[ 7029  8423]\n",
            " [13279 17948]]\n",
            "\n",
            "Fold 4/5\n",
            "Distribuição de classes no treinamento (balanceado): Counter({0: 106806, 1: 106806})\n",
            "Distribuição de classes na validação: Counter({1: 74597, 0: 3209})\n"
          ]
        },
        {
          "name": "stderr",
          "output_type": "stream",
          "text": [
            "                                                                         \r"
          ]
        },
        {
          "name": "stdout",
          "output_type": "stream",
          "text": [
            "Epoch [1/5], Training Loss: 0.0695\n",
            "Validation Loss: 1.1714, Accuracy: 60.22%\n",
            "Balanced Accuracy: 0.5094\n",
            "F1-Score: 0.7464\n",
            "ROC-AUC: 0.5488\n"
          ]
        },
        {
          "name": "stderr",
          "output_type": "stream",
          "text": [
            "                                                                          \r"
          ]
        },
        {
          "name": "stdout",
          "output_type": "stream",
          "text": [
            "Epoch [2/5], Training Loss: 0.0114\n",
            "Validation Loss: 1.6230, Accuracy: 51.42%\n",
            "Balanced Accuracy: 0.3631\n",
            "F1-Score: 0.6757\n",
            "ROC-AUC: 0.4077\n"
          ]
        },
        {
          "name": "stderr",
          "output_type": "stream",
          "text": [
            "                                                                          \r"
          ]
        },
        {
          "name": "stdout",
          "output_type": "stream",
          "text": [
            "Epoch [3/5], Training Loss: 0.0108\n",
            "Validation Loss: 1.7272, Accuracy: 51.39%\n",
            "Balanced Accuracy: 0.3221\n",
            "F1-Score: 0.6769\n",
            "ROC-AUC: 0.3430\n"
          ]
        },
        {
          "name": "stderr",
          "output_type": "stream",
          "text": [
            "                                                                          \r"
          ]
        },
        {
          "name": "stdout",
          "output_type": "stream",
          "text": [
            "Epoch [4/5], Training Loss: 0.0107\n",
            "Validation Loss: 1.7079, Accuracy: 59.79%\n",
            "Balanced Accuracy: 0.3509\n",
            "F1-Score: 0.7473\n",
            "ROC-AUC: 0.2474\n"
          ]
        },
        {
          "name": "stderr",
          "output_type": "stream",
          "text": [
            "                                                                          \r"
          ]
        },
        {
          "name": "stdout",
          "output_type": "stream",
          "text": [
            "Epoch [5/5], Training Loss: 0.0078\n",
            "Validation Loss: 1.4035, Accuracy: 62.47%\n",
            "Balanced Accuracy: 0.3805\n",
            "F1-Score: 0.7676\n",
            "ROC-AUC: 0.4153\n",
            "Matriz de Confusão do Fold 4:\n",
            "[[  367  2842]\n",
            " [26361 48236]]\n",
            "\n",
            "Fold 5/5\n",
            "Distribuição de classes no treinamento (balanceado): Counter({0: 75979, 1: 75979})\n",
            "Distribuição de classes na validação: Counter({1: 38679, 0: 34036})\n"
          ]
        },
        {
          "name": "stderr",
          "output_type": "stream",
          "text": [
            "                                                                         \r"
          ]
        },
        {
          "name": "stdout",
          "output_type": "stream",
          "text": [
            "Epoch [1/5], Training Loss: 0.1228\n",
            "Validation Loss: 1.4496, Accuracy: 53.20%\n",
            "Balanced Accuracy: 0.5177\n",
            "F1-Score: 0.6276\n",
            "ROC-AUC: 0.5634\n"
          ]
        },
        {
          "name": "stderr",
          "output_type": "stream",
          "text": [
            "                                                                         \r"
          ]
        },
        {
          "name": "stdout",
          "output_type": "stream",
          "text": [
            "Epoch [2/5], Training Loss: 0.0409\n",
            "Validation Loss: 1.8355, Accuracy: 52.63%\n",
            "Balanced Accuracy: 0.5084\n",
            "F1-Score: 0.6391\n",
            "ROC-AUC: 0.5457\n"
          ]
        },
        {
          "name": "stderr",
          "output_type": "stream",
          "text": [
            "                                                                          \r"
          ]
        },
        {
          "name": "stdout",
          "output_type": "stream",
          "text": [
            "Epoch [3/5], Training Loss: 0.0310\n",
            "Validation Loss: 1.7695, Accuracy: 54.33%\n",
            "Balanced Accuracy: 0.5245\n",
            "F1-Score: 0.6562\n",
            "ROC-AUC: 0.6156\n"
          ]
        },
        {
          "name": "stderr",
          "output_type": "stream",
          "text": [
            "                                                                          \r"
          ]
        },
        {
          "name": "stdout",
          "output_type": "stream",
          "text": [
            "Epoch [4/5], Training Loss: 0.0293\n",
            "Validation Loss: 2.0616, Accuracy: 62.28%\n",
            "Balanced Accuracy: 0.6028\n",
            "F1-Score: 0.7208\n",
            "ROC-AUC: 0.6619\n"
          ]
        },
        {
          "name": "stderr",
          "output_type": "stream",
          "text": [
            "                                                                          \r"
          ]
        },
        {
          "name": "stdout",
          "output_type": "stream",
          "text": [
            "Epoch [5/5], Training Loss: 0.0265\n",
            "Validation Loss: 2.1069, Accuracy: 53.56%\n",
            "Balanced Accuracy: 0.5177\n",
            "F1-Score: 0.6461\n",
            "ROC-AUC: 0.5773\n",
            "Matriz de Confusão do Fold 5:\n",
            "[[ 8112 25924]\n",
            " [ 7848 30831]]\n",
            "\n",
            "Resultados dos folds:\n",
            "Média e desvio padrão da Acurácia: 55.88% ± 9.40\n",
            "Média e desvio padrão da Acurácia Balanceada: 0.4861 ± 0.0633\n",
            "Média e desvio padrão do F1-Score: 0.6769 ± 0.0923\n",
            "Média e desvio padrão do ROC-AUC: 0.4992 ± 0.0730\n",
            "\n",
            "Matriz de Confusão Média:\n",
            "[[ 5184.4 16818.6]\n",
            " [13803.2 35913. ]]\n"
          ]
        }
      ],
      "source": [
        "# RESNET50 COM UNDERSAMPLING\n",
        "# Listas para armazenar as métricas de cada fold\n",
        "accuracies = []\n",
        "balanced_accuracies = []\n",
        "f1_scores = []\n",
        "roc_aucs = []\n",
        "confusion_matrices = []\n",
        "\n",
        "# Listas para armazenar as perdas (losses) de cada fold\n",
        "training_losses = []\n",
        "validation_losses = []\n",
        "\n",
        "for fold, (train_idx, val_idx) in enumerate(kf.split(individuals)):\n",
        "    print(f'\\nFold {fold + 1}/{k_folds}')\n",
        "\n",
        "    # Obter os índices dos grupos para treino e validação\n",
        "    train_indices = [idx for i in train_idx for idx in individuals[i]]\n",
        "    val_indices = [idx for i in val_idx for idx in individuals[i]]\n",
        "\n",
        "    # Obter os labels do conjunto de treino\n",
        "    train_labels = [dataset.targets[idx] for idx in train_indices]\n",
        "\n",
        "    # Dividir os índices em duas listas, uma para cada classe\n",
        "    class_0_indices = [train_indices[i] for i in range(len(train_indices)) if train_labels[i] == 0]\n",
        "    class_1_indices = [train_indices[i] for i in range(len(train_indices)) if train_labels[i] == 1]\n",
        "\n",
        "    # Determinar o número de amostras na classe minoritária\n",
        "    n_minority = min(len(class_0_indices), len(class_1_indices))\n",
        "\n",
        "    # Realizar undersampling na classe majoritária para balancear as classes\n",
        "    class_0_indices_resampled = resample(class_0_indices, replace=False, n_samples=n_minority, random_state=42)\n",
        "    class_1_indices_resampled = resample(class_1_indices, replace=False, n_samples=n_minority, random_state=42)\n",
        "\n",
        "    # Combinar as amostras resampled das duas classes\n",
        "    train_indices_balanced = class_0_indices_resampled + class_1_indices_resampled\n",
        "\n",
        "    # Agora, recalcular os labels após o undersampling\n",
        "    train_labels_balanced = [dataset.targets[idx] for idx in train_indices_balanced]\n",
        "\n",
        "    # Mostrar a nova distribuição das classes\n",
        "    train_class_counts_balanced = Counter(train_labels_balanced)\n",
        "    val_labels = [dataset.targets[idx] for idx in val_indices]\n",
        "    val_class_counts = Counter(val_labels)\n",
        "\n",
        "    print(f'Distribuição de classes no treinamento (balanceado): {train_class_counts_balanced}')\n",
        "    print(f'Distribuição de classes na validação: {val_class_counts}')\n",
        "\n",
        "    # Subconjuntos de treinamento e validação\n",
        "    train_subset = Subset(dataset, train_indices_balanced)\n",
        "    val_subset = Subset(dataset, val_indices)\n",
        "\n",
        "    # DataLoader para treinamento e validação\n",
        "    train_loader = DataLoader(train_subset, batch_size=batch_size, shuffle=True)\n",
        "    val_loader = DataLoader(val_subset, batch_size=batch_size, shuffle=False)\n",
        "\n",
        "    # Carregar a ResNet50 pré-treinada e ajustar a última camada\n",
        "    model = models.resnet50(weights=models.ResNet50_Weights.IMAGENET1K_V2)\n",
        "    # Modificar a primeira camada para aceitar imagens de 32x32\n",
        "    model.conv1 = nn.Conv2d(in_channels=3, out_channels=64, kernel_size=(3, 3), stride=(1, 1), padding=(1, 1), bias=False)\n",
        "\n",
        "    num_ftrs = model.fc.in_features\n",
        "    model.fc = nn.Linear(num_ftrs, len(dataset.classes))  # Ajustar para o número de classes\n",
        "\n",
        "    # Congelar todas as camadas, exceto a última\n",
        "    for param in model.parameters():\n",
        "        param.requires_grad = False\n",
        "\n",
        "    # Descongelar a primeira camada alterada e a camada fully connected\n",
        "    for param in model.conv1.parameters():\n",
        "        param.requires_grad = True\n",
        "\n",
        "    # A última camada permanece treinável\n",
        "    for param in model.fc.parameters():\n",
        "        param.requires_grad = True\n",
        "\n",
        "    # Mover o modelo para a GPU\n",
        "    model = model.to(device)\n",
        "\n",
        "    # Definir a loss function e o otimizador\n",
        "    criterion = nn.CrossEntropyLoss()\n",
        "    optimizer = optim.Adam(model.parameters(), lr=0.001)\n",
        "\n",
        "    # Listas para armazenar as perdas por época\n",
        "    fold_training_losses = []\n",
        "    fold_validation_losses = []\n",
        "\n",
        "    # Treinamento\n",
        "    for epoch in range(num_epochs):\n",
        "        model.train()\n",
        "        running_loss = 0.0\n",
        "\n",
        "        # Usando tqdm para mostrar o progresso das batches\n",
        "        progress_bar = tqdm(train_loader, desc=f'Epoch {epoch + 1}/{num_epochs}', leave=False)\n",
        "        for inputs, labels in progress_bar:\n",
        "            # Mover os dados para a GPU\n",
        "            inputs, labels = inputs.to(device), labels.to(device)\n",
        "\n",
        "            optimizer.zero_grad()\n",
        "            outputs = model(inputs)\n",
        "            loss = criterion(outputs, labels)\n",
        "            loss.backward()\n",
        "            optimizer.step()\n",
        "            running_loss += loss.item()\n",
        "\n",
        "            # Atualizando a barra de progresso com a perda atual\n",
        "            progress_bar.set_postfix(loss=running_loss/len(train_loader))\n",
        "\n",
        "        # Armazenar a perda de treinamento da época atual\n",
        "        fold_training_losses.append(running_loss/len(train_loader))\n",
        "\n",
        "        print(f'Epoch [{epoch + 1}/{num_epochs}], Training Loss: {running_loss/len(train_loader):.4f}')\n",
        "\n",
        "        # Validação após cada época\n",
        "        model.eval()\n",
        "        val_loss = 0.0\n",
        "        correct = 0\n",
        "        total = 0\n",
        "        all_labels = []\n",
        "        all_predictions = []\n",
        "        all_probabilities = []\n",
        "\n",
        "        with torch.no_grad():\n",
        "            for inputs, labels in val_loader:\n",
        "                # Mover os dados para a GPU\n",
        "                inputs, labels = inputs.to(device), labels.to(device)\n",
        "\n",
        "                outputs = model(inputs)\n",
        "                loss = criterion(outputs, labels)\n",
        "                val_loss += loss.item()\n",
        "\n",
        "                _, predicted = torch.max(outputs, 1)\n",
        "                probabilities = torch.softmax(outputs, dim=1)[:, 1]  # Probabilidade da classe 1\n",
        "\n",
        "                all_labels.extend(labels.cpu().numpy())\n",
        "                all_predictions.extend(predicted.cpu().numpy())\n",
        "                all_probabilities.extend(probabilities.cpu().numpy())\n",
        "\n",
        "                total += labels.size(0)\n",
        "                correct += (predicted == labels).sum().item()\n",
        "\n",
        "        # Armazenar a perda de validação da época atual\n",
        "        fold_validation_losses.append(val_loss/len(val_loader))\n",
        "\n",
        "        # Calcular as métricas\n",
        "        accuracy = 100 * correct / total\n",
        "        balanced_acc = balanced_accuracy_score(all_labels, all_predictions)\n",
        "        f1 = f1_score(all_labels, all_predictions, average='binary')\n",
        "        roc_auc = roc_auc_score(all_labels, all_probabilities)\n",
        "\n",
        "        print(f'Validation Loss: {val_loss/len(val_loader):.4f}, Accuracy: {accuracy:.2f}%')\n",
        "        print(f'Balanced Accuracy: {balanced_acc:.4f}')\n",
        "        print(f'F1-Score: {f1:.4f}')\n",
        "        print(f'ROC-AUC: {roc_auc:.4f}')\n",
        "\n",
        "    # Calcular a matriz de confusão após o último epoch do fold\n",
        "    conf_matrix = confusion_matrix(all_labels, all_predictions)\n",
        "    confusion_matrices.append(conf_matrix)\n",
        "\n",
        "    # Armazenar as métricas finais do fold\n",
        "    accuracies.append(accuracy)\n",
        "    balanced_accuracies.append(balanced_acc)\n",
        "    f1_scores.append(f1)\n",
        "    roc_aucs.append(roc_auc)\n",
        "\n",
        "    # Armazenar as perdas de treinamento e validação para o fold\n",
        "    training_losses.append(fold_training_losses)\n",
        "    validation_losses.append(fold_validation_losses)\n",
        "\n",
        "    print(f'Matriz de Confusão do Fold {fold + 1}:\\n{conf_matrix}')\n",
        "\n",
        "# Comparação das métricas para todos os folds\n",
        "print('\\nResultados dos folds:')\n",
        "print(f'Média e desvio padrão da Acurácia: {np.mean(accuracies):.2f}% ± {np.std(accuracies):.2f}')\n",
        "print(f'Média e desvio padrão da Acurácia Balanceada: {np.mean(balanced_accuracies):.4f} ± {np.std(balanced_accuracies):.4f}')\n",
        "print(f'Média e desvio padrão do F1-Score: {np.mean(f1_scores):.4f} ± {np.std(f1_scores):.4f}')\n",
        "print(f'Média e desvio padrão do ROC-AUC: {np.mean(roc_aucs):.4f} ± {np.std(roc_aucs):.4f}')\n",
        "\n",
        "# Calcular a matriz de confusão média\n",
        "mean_confusion_matrix = np.mean(confusion_matrices, axis=0)\n",
        "print(f'\\nMatriz de Confusão Média:\\n{mean_confusion_matrix}')\n"
      ]
    },
    {
      "cell_type": "markdown",
      "metadata": {},
      "source": [
        "# CNN - Imagens Individuais - 1000 arquivos por amostra"
      ]
    },
    {
      "cell_type": "code",
      "execution_count": null,
      "metadata": {},
      "outputs": [],
      "source": [
        "import matplotlib.pyplot as plt\n",
        "%matplotlib inline\n",
        "import torch\n",
        "import torch.nn as nn\n",
        "import torch.optim as optim\n",
        "from torchvision import datasets, transforms, models\n",
        "from torchvision.models import ResNet50_Weights, EfficientNet_B0_Weights\n",
        "from torch.utils.data import DataLoader, Subset\n",
        "from sklearn.model_selection import KFold\n",
        "from sklearn.utils import resample\n",
        "from sklearn.metrics import f1_score, roc_auc_score, balanced_accuracy_score, confusion_matrix\n",
        "import numpy as np\n",
        "import os\n",
        "from collections import defaultdict, Counter\n",
        "from tqdm import tqdm"
      ]
    },
    {
      "cell_type": "code",
      "execution_count": null,
      "metadata": {},
      "outputs": [],
      "source": [
        "from torch.utils.tensorboard import SummaryWriter\n",
        "import os\n",
        "\n",
        "# Diretório para salvar os logs do TensorBoard\n",
        "log_dir = \"logs/undersampling_resnet50_ajusted\"\n",
        "if not os.path.exists(log_dir):\n",
        "    os.makedirs(log_dir)\n",
        "\n",
        "# Inicializar o SummaryWriter\n",
        "writer = SummaryWriter(log_dir=log_dir)\n"
      ]
    },
    {
      "cell_type": "code",
      "execution_count": null,
      "metadata": {},
      "outputs": [],
      "source": [
        "# Transformações a serem aplicadas nas imagens\n",
        "transform = transforms.Compose([\n",
        "    transforms.Resize((32, 32)),  # Redimensionar as imagens para 224x224\n",
        "    transforms.ToTensor(),  # Converter as imagens em tensores\n",
        "])\n",
        "\n",
        "# Carregar o dataset usando ImageFolder (assume que as pastas c1 e c2 estão dentro de data_dir)\n",
        "data_dir = r'E:\\dataset2'\n",
        "dataset = datasets.ImageFolder(root=data_dir, transform=transform)\n",
        "\n",
        "# Definir parâmetros\n",
        "batch_size = 128\n",
        "num_epochs = 50\n",
        "k_folds = 5  # Número de folds para validação cruzada\n"
      ]
    },
    {
      "cell_type": "code",
      "execution_count": null,
      "metadata": {},
      "outputs": [
        {
          "name": "stdout",
          "output_type": "stream",
          "text": [
            "Label: c2\n"
          ]
        },
        {
          "data": {
            "image/png": "[encoded data removed]",
            "text/plain": [
              "<Figure size 640x480 with 1 Axes>"
            ]
          },
          "metadata": {},
          "output_type": "display_data"
        },
        {
          "name": "stdout",
          "output_type": "stream",
          "text": [
            "Label: c2\n"
          ]
        },
        {
          "data": {
            "image/png": "[encoded data removed]",
            "text/plain": [
              "<Figure size 640x480 with 1 Axes>"
            ]
          },
          "metadata": {},
          "output_type": "display_data"
        },
        {
          "name": "stdout",
          "output_type": "stream",
          "text": [
            "Label: c2\n"
          ]
        },
        {
          "data": {
            "image/png": "[encoded data removed]",
            "text/plain": [
              "<Figure size 640x480 with 1 Axes>"
            ]
          },
          "metadata": {},
          "output_type": "display_data"
        },
        {
          "name": "stdout",
          "output_type": "stream",
          "text": [
            "Label: c2\n"
          ]
        },
        {
          "data": {
            "image/png": "[encoded data removed]",
            "text/plain": [
              "<Figure size 640x480 with 1 Axes>"
            ]
          },
          "metadata": {},
          "output_type": "display_data"
        },
        {
          "name": "stdout",
          "output_type": "stream",
          "text": [
            "Tamanho do dataset: 140385 imagens\n"
          ]
        }
      ],
      "source": [
        "# Carregar algumas amostras do DataLoader\n",
        "dataloader = DataLoader(dataset, batch_size=4, shuffle=True)\n",
        "\n",
        "# Obter um batch de imagens\n",
        "images, labels = next(iter(dataloader))\n",
        "\n",
        "# Função para exibir imagens\n",
        "def imshow(img):\n",
        "    img = img / 2 + 0.5  # Desnormalizar\n",
        "    np_img = img.numpy()\n",
        "    plt.imshow(np.transpose(np_img, (1, 2, 0)), interpolation='nearest')\n",
        "    plt.show()\n",
        "\n",
        "# Mostrar as imagens\n",
        "for i in range(len(images)):\n",
        "    print(f'Label: {dataset.classes[labels[i]]}')\n",
        "    imshow(images[i])\n",
        "\n",
        "# Verificar tamanho do dataset\n",
        "print(f'Tamanho do dataset: {len(dataset)} imagens')"
      ]
    },
    {
      "cell_type": "code",
      "execution_count": null,
      "metadata": {},
      "outputs": [],
      "source": [
        "# Verificar as classes atribuídas\n",
        "print(\"Classes:\", dataset.classes)\n",
        "\n",
        "# Verificar alguns exemplos de labels\n",
        "for idx, (path, label) in enumerate(dataset.imgs[50000:50100]):\n",
        "    print(f\"Path: {path}, Label: {label}\")"
      ]
    },
    {
      "cell_type": "code",
      "execution_count": null,
      "metadata": {},
      "outputs": [
        {
          "name": "stdout",
          "output_type": "stream",
          "text": [
            "True\n",
            "1\n",
            "NVIDIA GeForce GTX 1060 6GB\n"
          ]
        }
      ],
      "source": [
        "print(torch.cuda.is_available())  # Deve retornar True se uma GPU com CUDA estiver disponível\n",
        "print(torch.cuda.device_count())  # Retorna o número de GPUs disponíveis\n",
        "print(torch.cuda.get_device_name(0))  # Retorna o nome da GPU (se disponível)\n"
      ]
    },
    {
      "cell_type": "code",
      "execution_count": null,
      "metadata": {},
      "outputs": [],
      "source": [
        "# Agrupar imagens por indivíduo\n",
        "individual_groups = defaultdict(list)\n",
        "for idx, (path, _) in enumerate(dataset.imgs):\n",
        "    filename = os.path.basename(path)\n",
        "    print(filename)\n",
        "    individual_id = filename.split('_')[2]  # Extrair o número do indivíduo\n",
        "    individual_groups[individual_id].append(idx)\n",
        "\n",
        "# Converter grupos para listas\n",
        "individuals = list(individual_groups.values())\n",
        "print(individuals)"
      ]
    },
    {
      "cell_type": "code",
      "execution_count": null,
      "metadata": {},
      "outputs": [
        {
          "name": "stdout",
          "output_type": "stream",
          "text": [
            "Using device: cuda:0\n"
          ]
        }
      ],
      "source": [
        "# Definir o dispositivo (GPU se disponível)\n",
        "device = torch.device(\"cuda:0\" if torch.cuda.is_available() else \"cpu\")\n",
        "print(\"Using device:\", device)\n",
        "\n",
        "# Inicializar KFold\n",
        "kf = KFold(n_splits=k_folds, shuffle=True, random_state=42)"
      ]
    },
    {
      "cell_type": "code",
      "execution_count": null,
      "metadata": {},
      "outputs": [],
      "source": [
        "# RESNET50 COM UNDERSAMPLING\n",
        "# Listas para armazenar as métricas de cada fold\n",
        "accuracies = []\n",
        "balanced_accuracies = []\n",
        "f1_scores = []\n",
        "roc_aucs = []\n",
        "confusion_matrices = []\n",
        "\n",
        "# Listas para armazenar as perdas (losses) de cada fold\n",
        "training_losses = []\n",
        "validation_losses = []\n",
        "\n",
        "for fold, (train_idx, val_idx) in enumerate(kf.split(individuals)):\n",
        "    print(f'\\nFold {fold + 1}/{k_folds}')\n",
        "\n",
        "    # Obter os índices dos grupos para treino e validação\n",
        "    train_indices = [idx for i in train_idx for idx in individuals[i]]\n",
        "    val_indices = [idx for i in val_idx for idx in individuals[i]]\n",
        "\n",
        "    # Obter os labels do conjunto de treino\n",
        "    train_labels = [dataset.targets[idx] for idx in train_indices]\n",
        "\n",
        "    # Dividir os índices em duas listas, uma para cada classe\n",
        "    class_0_indices = [train_indices[i] for i in range(len(train_indices)) if train_labels[i] == 0]\n",
        "    class_1_indices = [train_indices[i] for i in range(len(train_indices)) if train_labels[i] == 1]\n",
        "\n",
        "    # Determinar o número de amostras na classe minoritária\n",
        "    n_minority = min(len(class_0_indices), len(class_1_indices))\n",
        "\n",
        "    # Realizar undersampling na classe majoritária para balancear as classes\n",
        "    class_0_indices_resampled = resample(class_0_indices, replace=False, n_samples=n_minority, random_state=42)\n",
        "    class_1_indices_resampled = resample(class_1_indices, replace=False, n_samples=n_minority, random_state=42)\n",
        "\n",
        "    # Combinar as amostras resampled das duas classes\n",
        "    train_indices_balanced = class_0_indices_resampled + class_1_indices_resampled\n",
        "\n",
        "    # Agora, recalcular os labels após o undersampling\n",
        "    train_labels_balanced = [dataset.targets[idx] for idx in train_indices_balanced]\n",
        "\n",
        "    # Mostrar a nova distribuição das classes\n",
        "    train_class_counts_balanced = Counter(train_labels_balanced)\n",
        "    val_labels = [dataset.targets[idx] for idx in val_indices]\n",
        "    val_class_counts = Counter(val_labels)\n",
        "\n",
        "    print(f'Distribuição de classes no treinamento (balanceado): {train_class_counts_balanced}')\n",
        "    print(f'Distribuição de classes na validação: {val_class_counts}')\n",
        "\n",
        "    # Subconjuntos de treinamento e validação\n",
        "    train_subset = Subset(dataset, train_indices_balanced)\n",
        "    val_subset = Subset(dataset, val_indices)\n",
        "\n",
        "    # DataLoader para treinamento e validação\n",
        "    train_loader = DataLoader(train_subset, batch_size=batch_size, shuffle=True)\n",
        "    val_loader = DataLoader(val_subset, batch_size=batch_size, shuffle=False)\n",
        "\n",
        "    # Carregar a ResNet50 pré-treinada e ajustar a última camada\n",
        "    model = models.resnet50(weights=models.ResNet50_Weights.IMAGENET1K_V2)\n",
        "    # Modificar a primeira camada para aceitar imagens de 32x32\n",
        "    model.conv1 = nn.Conv2d(in_channels=3, out_channels=64, kernel_size=(3, 3), stride=(1, 1), padding=(1, 1), bias=False)\n",
        "\n",
        "    num_ftrs = model.fc.in_features\n",
        "    model.fc = nn.Linear(num_ftrs, len(dataset.classes))  # Ajustar para o número de classes\n",
        "\n",
        "    # Congelar todas as camadas, exceto a última\n",
        "    for param in model.parameters():\n",
        "        param.requires_grad = False\n",
        "\n",
        "    # Descongelar a primeira camada alterada e a camada fully connected\n",
        "    for param in model.conv1.parameters():\n",
        "        param.requires_grad = True\n",
        "\n",
        "    # A última camada permanece treinável\n",
        "    for param in model.fc.parameters():\n",
        "        param.requires_grad = True\n",
        "\n",
        "    # Mover o modelo para a GPU\n",
        "    model = model.to(device)\n",
        "\n",
        "    # Definir a loss function e o otimizador\n",
        "    criterion = nn.CrossEntropyLoss()\n",
        "    optimizer = optim.Adam(model.parameters(), lr=0.00001)\n",
        "\n",
        "    # Listas para armazenar as perdas por época\n",
        "    fold_training_losses = []\n",
        "    fold_validation_losses = []\n",
        "\n",
        "    for epoch in range(num_epochs):\n",
        "        model.train()\n",
        "        running_loss = 0.0\n",
        "\n",
        "        # Usando tqdm para mostrar o progresso das batches\n",
        "        progress_bar = tqdm(train_loader, desc=f'Epoch {epoch + 1}/{num_epochs}', leave=False)\n",
        "        for inputs, labels in progress_bar:\n",
        "            # Mover os dados para a GPU\n",
        "            inputs, labels = inputs.to(device), labels.to(device)\n",
        "\n",
        "            optimizer.zero_grad()\n",
        "            outputs = model(inputs)\n",
        "            loss = criterion(outputs, labels)\n",
        "            loss.backward()\n",
        "            optimizer.step()\n",
        "            running_loss += loss.item()\n",
        "\n",
        "            # Atualizando a barra de progresso com a perda atual\n",
        "            progress_bar.set_postfix(loss=running_loss/len(train_loader))\n",
        "\n",
        "        # Armazenar a perda de treinamento da época atual\n",
        "        fold_training_losses.append(running_loss/len(train_loader))\n",
        "\n",
        "        # Registrar a perda de treinamento no TensorBoard\n",
        "        writer.add_scalar(f'Fold_{fold+1}/Training_Loss', running_loss/len(train_loader), epoch)\n",
        "\n",
        "        print(f'Epoch [{epoch + 1}/{num_epochs}], Training Loss: {running_loss/len(train_loader):.4f}')\n",
        "\n",
        "        # Validação após cada época\n",
        "        model.eval()\n",
        "        val_loss = 0.0\n",
        "        correct = 0\n",
        "        total = 0\n",
        "        all_labels = []\n",
        "        all_predictions = []\n",
        "        all_probabilities = []\n",
        "\n",
        "        with torch.no_grad():\n",
        "            for inputs, labels in val_loader:\n",
        "                # Mover os dados para a GPU\n",
        "                inputs, labels = inputs.to(device), labels.to(device)\n",
        "\n",
        "                outputs = model(inputs)\n",
        "                loss = criterion(outputs, labels)\n",
        "                val_loss += loss.item()\n",
        "\n",
        "                _, predicted = torch.max(outputs, 1)\n",
        "                probabilities = torch.softmax(outputs, dim=1)[:, 1]  # Probabilidade da classe 1\n",
        "\n",
        "                all_labels.extend(labels.cpu().numpy())\n",
        "                all_predictions.extend(predicted.cpu().numpy())\n",
        "                all_probabilities.extend(probabilities.cpu().numpy())\n",
        "\n",
        "                total += labels.size(0)\n",
        "                correct += (predicted == labels).sum().item()\n",
        "\n",
        "        # Armazenar a perda de validação da época atual\n",
        "        fold_validation_losses.append(val_loss/len(val_loader))\n",
        "\n",
        "        # Calcular as métricas\n",
        "        accuracy = 100 * correct / total\n",
        "        balanced_acc = balanced_accuracy_score(all_labels, all_predictions)\n",
        "        f1 = f1_score(all_labels, all_predictions, average='binary')\n",
        "        roc_auc = roc_auc_score(all_labels, all_probabilities)\n",
        "\n",
        "        print(f'Validation Loss: {val_loss/len(val_loader):.4f}, Accuracy: {accuracy:.2f}%')\n",
        "        print(f'Balanced Accuracy: {balanced_acc:.4f}')\n",
        "        print(f'F1-Score: {f1:.4f}')\n",
        "        print(f'ROC-AUC: {roc_auc:.4f}')\n",
        "\n",
        "        # Registrar a perda e as métricas de validação no TensorBoard\n",
        "        writer.add_scalar(f'Fold_{fold+1}/Validation_Loss', val_loss/len(val_loader), epoch)\n",
        "        writer.add_scalar(f'Fold_{fold+1}/Accuracy', accuracy, epoch)\n",
        "        writer.add_scalar(f'Fold_{fold+1}/Balanced_Accuracy', balanced_acc, epoch)\n",
        "        writer.add_scalar(f'Fold_{fold+1}/F1_Score', f1, epoch)\n",
        "        writer.add_scalar(f'Fold_{fold+1}/ROC_AUC', roc_auc, epoch)\n",
        "\n",
        "\n",
        "    # Calcular a matriz de confusão após o último epoch do fold\n",
        "    conf_matrix = confusion_matrix(all_labels, all_predictions)\n",
        "    confusion_matrices.append(conf_matrix)\n",
        "\n",
        "    # Armazenar as métricas finais do fold\n",
        "    accuracies.append(accuracy)\n",
        "    balanced_accuracies.append(balanced_acc)\n",
        "    f1_scores.append(f1)\n",
        "    roc_aucs.append(roc_auc)\n",
        "\n",
        "    # Armazenar as perdas de treinamento e validação para o fold\n",
        "    training_losses.append(fold_training_losses)\n",
        "    validation_losses.append(fold_validation_losses)\n",
        "\n",
        "    print(f'Matriz de Confusão do Fold {fold + 1}:\\n{conf_matrix}')\n",
        "\n",
        "# Comparação das métricas para todos os folds\n",
        "print('\\nResultados dos folds:')\n",
        "print(f'Média e desvio padrão da Acurácia: {np.mean(accuracies):.2f}% ± {np.std(accuracies):.2f}')\n",
        "print(f'Média e desvio padrão da Acurácia Balanceada: {np.mean(balanced_accuracies):.4f} ± {np.std(balanced_accuracies):.4f}')\n",
        "print(f'Média e desvio padrão do F1-Score: {np.mean(f1_scores):.4f} ± {np.std(f1_scores):.4f}')\n",
        "print(f'Média e desvio padrão do ROC-AUC: {np.mean(roc_aucs):.4f} ± {np.std(roc_aucs):.4f}')\n",
        "\n",
        "# Calcular a matriz de confusão média\n",
        "mean_confusion_matrix = np.mean(confusion_matrices, axis=0)\n",
        "print(f'\\nMatriz de Confusão Média:\\n{mean_confusion_matrix}')\n"
      ]
    },
    {
      "cell_type": "code",
      "execution_count": null,
      "metadata": {},
      "outputs": [],
      "source": [
        "writer.close()\n"
      ]
    },
    {
      "cell_type": "markdown",
      "metadata": {},
      "source": [
        "# CNN - Imagens Individuais - 1000 arquivos por amostra - Fold promissor"
      ]
    },
    {
      "cell_type": "code",
      "execution_count": null,
      "metadata": {},
      "outputs": [],
      "source": [
        "import matplotlib.pyplot as plt\n",
        "%matplotlib inline\n",
        "import torch\n",
        "import torch.nn as nn\n",
        "import torch.optim as optim\n",
        "from torchvision import datasets, transforms, models\n",
        "from torchvision.models import ResNet50_Weights, EfficientNet_B0_Weights\n",
        "from torch.utils.data import DataLoader, Subset\n",
        "from sklearn.model_selection import KFold\n",
        "from sklearn.utils import resample\n",
        "from sklearn.metrics import f1_score, roc_auc_score, balanced_accuracy_score, confusion_matrix\n",
        "import numpy as np\n",
        "import os\n",
        "from collections import defaultdict, Counter\n",
        "from tqdm import tqdm"
      ]
    },
    {
      "cell_type": "code",
      "execution_count": null,
      "metadata": {},
      "outputs": [],
      "source": [
        "from torch.utils.tensorboard import SummaryWriter\n",
        "import os\n",
        "\n",
        "# Diretório para salvar os logs do TensorBoard\n",
        "log_dir = \"logs/undersampling_resnet50_ajusted_foldpromissor\"\n",
        "if not os.path.exists(log_dir):\n",
        "    os.makedirs(log_dir)\n",
        "\n",
        "# Inicializar o SummaryWriter\n",
        "writer = SummaryWriter(log_dir=log_dir)\n"
      ]
    },
    {
      "cell_type": "code",
      "execution_count": null,
      "metadata": {},
      "outputs": [],
      "source": [
        "# Transformações a serem aplicadas nas imagens\n",
        "transform = transforms.Compose([\n",
        "    transforms.Resize((32, 32)),  # Redimensionar as imagens para 224x224\n",
        "    transforms.ToTensor(),  # Converter as imagens em tensores\n",
        "])\n",
        "\n",
        "# Carregar o dataset usando ImageFolder (assume que as pastas c1 e c2 estão dentro de data_dir)\n",
        "data_dir = r'E:\\dataset2'\n",
        "dataset = datasets.ImageFolder(root=data_dir, transform=transform)\n",
        "\n",
        "# Definir parâmetros\n",
        "batch_size = 128\n",
        "num_epochs = 250\n",
        "k_folds = 5  # Número de folds para validação cruzada\n"
      ]
    },
    {
      "cell_type": "code",
      "execution_count": null,
      "metadata": {},
      "outputs": [
        {
          "name": "stdout",
          "output_type": "stream",
          "text": [
            "Label: c2\n"
          ]
        },
        {
          "data": {
            "image/png": "[encoded data removed]",
            "text/plain": [
              "<Figure size 640x480 with 1 Axes>"
            ]
          },
          "metadata": {},
          "output_type": "display_data"
        },
        {
          "name": "stdout",
          "output_type": "stream",
          "text": [
            "Label: c2\n"
          ]
        },
        {
          "data": {
            "image/png": "[encoded data removed]",
            "text/plain": [
              "<Figure size 640x480 with 1 Axes>"
            ]
          },
          "metadata": {},
          "output_type": "display_data"
        },
        {
          "name": "stdout",
          "output_type": "stream",
          "text": [
            "Label: c1\n"
          ]
        },
        {
          "data": {
            "image/png": "[encoded data removed]",
            "text/plain": [
              "<Figure size 640x480 with 1 Axes>"
            ]
          },
          "metadata": {},
          "output_type": "display_data"
        },
        {
          "name": "stdout",
          "output_type": "stream",
          "text": [
            "Label: c2\n"
          ]
        },
        {
          "data": {
            "image/png": "[encoded data removed]",
            "text/plain": [
              "<Figure size 640x480 with 1 Axes>"
            ]
          },
          "metadata": {},
          "output_type": "display_data"
        },
        {
          "name": "stdout",
          "output_type": "stream",
          "text": [
            "Tamanho do dataset: 140385 imagens\n"
          ]
        }
      ],
      "source": [
        "# Carregar algumas amostras do DataLoader\n",
        "dataloader = DataLoader(dataset, batch_size=4, shuffle=True)\n",
        "\n",
        "# Obter um batch de imagens\n",
        "images, labels = next(iter(dataloader))\n",
        "\n",
        "# Função para exibir imagens\n",
        "def imshow(img):\n",
        "    img = img / 2 + 0.5  # Desnormalizar\n",
        "    np_img = img.numpy()\n",
        "    plt.imshow(np.transpose(np_img, (1, 2, 0)), interpolation='nearest')\n",
        "    plt.show()\n",
        "\n",
        "# Mostrar as imagens\n",
        "for i in range(len(images)):\n",
        "    print(f'Label: {dataset.classes[labels[i]]}')\n",
        "    imshow(images[i])\n",
        "\n",
        "# Verificar tamanho do dataset\n",
        "print(f'Tamanho do dataset: {len(dataset)} imagens')"
      ]
    },
    {
      "cell_type": "code",
      "execution_count": null,
      "metadata": {},
      "outputs": [],
      "source": [
        "# Verificar as classes atribuídas\n",
        "print(\"Classes:\", dataset.classes)\n",
        "\n",
        "# Verificar alguns exemplos de labels\n",
        "for idx, (path, label) in enumerate(dataset.imgs[50000:50100]):\n",
        "    print(f\"Path: {path}, Label: {label}\")"
      ]
    },
    {
      "cell_type": "code",
      "execution_count": null,
      "metadata": {},
      "outputs": [
        {
          "name": "stdout",
          "output_type": "stream",
          "text": [
            "True\n",
            "1\n",
            "NVIDIA GeForce GTX 1060 6GB\n"
          ]
        }
      ],
      "source": [
        "print(torch.cuda.is_available())  # Deve retornar True se uma GPU com CUDA estiver disponível\n",
        "print(torch.cuda.device_count())  # Retorna o número de GPUs disponíveis\n",
        "print(torch.cuda.get_device_name(0))  # Retorna o nome da GPU (se disponível)\n"
      ]
    },
    {
      "cell_type": "code",
      "execution_count": null,
      "metadata": {},
      "outputs": [],
      "source": [
        "# Agrupar imagens por indivíduo\n",
        "individual_groups = defaultdict(list)\n",
        "for idx, (path, _) in enumerate(dataset.imgs):\n",
        "    filename = os.path.basename(path)\n",
        "    print(filename)\n",
        "    individual_id = filename.split('_')[2]  # Extrair o número do indivíduo\n",
        "    individual_groups[individual_id].append(idx)\n",
        "\n",
        "# Converter grupos para listas\n",
        "individuals = list(individual_groups.values())\n",
        "print(individuals)"
      ]
    },
    {
      "cell_type": "code",
      "execution_count": null,
      "metadata": {},
      "outputs": [
        {
          "name": "stdout",
          "output_type": "stream",
          "text": [
            "Using device: cuda:0\n"
          ]
        }
      ],
      "source": [
        "# Definir o dispositivo (GPU se disponível)\n",
        "device = torch.device(\"cuda:0\" if torch.cuda.is_available() else \"cpu\")\n",
        "print(\"Using device:\", device)\n",
        "\n",
        "# Inicializar KFold\n",
        "kf = KFold(n_splits=5, shuffle=True, random_state=42)"
      ]
    },
    {
      "cell_type": "code",
      "execution_count": null,
      "metadata": {},
      "outputs": [],
      "source": [
        "# RESNET50 COM UNDERSAMPLING\n",
        "# Listas para armazenar as métricas de cada fold\n",
        "accuracies = []\n",
        "balanced_accuracies = []\n",
        "f1_scores = []\n",
        "roc_aucs = []\n",
        "confusion_matrices = []\n",
        "\n",
        "# Listas para armazenar as perdas (losses) de cada fold\n",
        "training_losses = []\n",
        "validation_losses = []\n",
        "\n",
        "# Número do fold que você deseja utilizar (3 neste caso, que corresponde ao índice 2)\n",
        "fold_desejado = 2\n",
        "\n",
        "for fold, (train_idx, val_idx) in enumerate(kf.split(individuals)):\n",
        "    if fold != fold_desejado:\n",
        "        continue\n",
        "\n",
        "    print(f'\\nRodando apenas o Fold {fold + 1}/{k_folds}')\n",
        "\n",
        "    # Obter os índices dos grupos para treino e validação\n",
        "    train_indices = [idx for i in train_idx for idx in individuals[i]]\n",
        "    val_indices = [idx for i in val_idx for idx in individuals[i]]\n",
        "\n",
        "    # Obter os labels do conjunto de treino\n",
        "    train_labels = [dataset.targets[idx] for idx in train_indices]\n",
        "\n",
        "    # Dividir os índices em duas listas, uma para cada classe\n",
        "    class_0_indices = [train_indices[i] for i in range(len(train_indices)) if train_labels[i] == 0]\n",
        "    class_1_indices = [train_indices[i] for i in range(len(train_indices)) if train_labels[i] == 1]\n",
        "\n",
        "    # Determinar o número de amostras na classe minoritária\n",
        "    n_minority = min(len(class_0_indices), len(class_1_indices))\n",
        "\n",
        "    # Realizar undersampling na classe majoritária para balancear as classes\n",
        "    class_0_indices_resampled = resample(class_0_indices, replace=False, n_samples=n_minority, random_state=42)\n",
        "    class_1_indices_resampled = resample(class_1_indices, replace=False, n_samples=n_minority, random_state=42)\n",
        "\n",
        "    # Combinar as amostras resampled das duas classes\n",
        "    train_indices_balanced = class_0_indices_resampled + class_1_indices_resampled\n",
        "\n",
        "    # Agora, recalcular os labels após o undersampling\n",
        "    train_labels_balanced = [dataset.targets[idx] for idx in train_indices_balanced]\n",
        "\n",
        "    # Mostrar a nova distribuição das classes\n",
        "    train_class_counts_balanced = Counter(train_labels_balanced)\n",
        "    val_labels = [dataset.targets[idx] for idx in val_indices]\n",
        "    val_class_counts = Counter(val_labels)\n",
        "\n",
        "    print(f'Distribuição de classes no treinamento (balanceado): {train_class_counts_balanced}')\n",
        "    print(f'Distribuição de classes na validação: {val_class_counts}')\n",
        "\n",
        "    # Subconjuntos de treinamento e validação\n",
        "    train_subset = Subset(dataset, train_indices_balanced)\n",
        "    val_subset = Subset(dataset, val_indices)\n",
        "\n",
        "    # DataLoader para treinamento e validação\n",
        "    train_loader = DataLoader(train_subset, batch_size=batch_size, shuffle=True)\n",
        "    val_loader = DataLoader(val_subset, batch_size=batch_size, shuffle=False)\n",
        "\n",
        "    # Carregar a ResNet50 pré-treinada e ajustar a última camada\n",
        "    model = models.resnet50(weights=models.ResNet50_Weights.IMAGENET1K_V2)\n",
        "    # Modificar a primeira camada para aceitar imagens de 32x32\n",
        "    model.conv1 = nn.Conv2d(in_channels=3, out_channels=64, kernel_size=(3, 3), stride=(1, 1), padding=(1, 1), bias=False)\n",
        "\n",
        "    num_ftrs = model.fc.in_features\n",
        "    model.fc = nn.Linear(num_ftrs, len(dataset.classes))  # Ajustar para o número de classes\n",
        "\n",
        "    # Congelar todas as camadas, exceto a última\n",
        "    for param in model.parameters():\n",
        "        param.requires_grad = False\n",
        "\n",
        "    # Descongelar a primeira camada alterada e a camada fully connected\n",
        "    for param in model.conv1.parameters():\n",
        "        param.requires_grad = True\n",
        "\n",
        "    # A última camada permanece treinável\n",
        "    for param in model.fc.parameters():\n",
        "        param.requires_grad = True\n",
        "\n",
        "    # Mover o modelo para a GPU\n",
        "    model = model.to(device)\n",
        "\n",
        "    # Definir a loss function e o otimizador\n",
        "    criterion = nn.CrossEntropyLoss()\n",
        "    optimizer = optim.Adam(model.parameters(), lr=0.00001)\n",
        "\n",
        "    # Listas para armazenar as perdas por época\n",
        "    fold_training_losses = []\n",
        "    fold_validation_losses = []\n",
        "\n",
        "    for epoch in range(num_epochs):\n",
        "        model.train()\n",
        "        running_loss = 0.0\n",
        "\n",
        "        # Usando tqdm para mostrar o progresso das batches\n",
        "        progress_bar = tqdm(train_loader, desc=f'Epoch {epoch + 1}/{num_epochs}', leave=False)\n",
        "        for inputs, labels in progress_bar:\n",
        "            # Mover os dados para a GPU\n",
        "            inputs, labels = inputs.to(device), labels.to(device)\n",
        "\n",
        "            optimizer.zero_grad()\n",
        "            outputs = model(inputs)\n",
        "            loss = criterion(outputs, labels)\n",
        "            loss.backward()\n",
        "            optimizer.step()\n",
        "            running_loss += loss.item()\n",
        "\n",
        "            # Atualizando a barra de progresso com a perda atual\n",
        "            progress_bar.set_postfix(loss=running_loss/len(train_loader))\n",
        "\n",
        "        # Armazenar a perda de treinamento da época atual\n",
        "        fold_training_losses.append(running_loss/len(train_loader))\n",
        "\n",
        "        # Registrar a perda de treinamento no TensorBoard\n",
        "        writer.add_scalar(f'Fold_{fold+1}/Training_Loss', running_loss/len(train_loader), epoch)\n",
        "\n",
        "        print(f'Epoch [{epoch + 1}/{num_epochs}], Training Loss: {running_loss/len(train_loader):.4f}')\n",
        "\n",
        "        # Validação após cada época\n",
        "        model.eval()\n",
        "        val_loss = 0.0\n",
        "        correct = 0\n",
        "        total = 0\n",
        "        all_labels = []\n",
        "        all_predictions = []\n",
        "        all_probabilities = []\n",
        "\n",
        "        with torch.no_grad():\n",
        "            for inputs, labels in val_loader:\n",
        "                # Mover os dados para a GPU\n",
        "                inputs, labels = inputs.to(device), labels.to(device)\n",
        "\n",
        "                outputs = model(inputs)\n",
        "                loss = criterion(outputs, labels)\n",
        "                val_loss += loss.item()\n",
        "\n",
        "                _, predicted = torch.max(outputs, 1)\n",
        "                probabilities = torch.softmax(outputs, dim=1)[:, 1]  # Probabilidade da classe 1\n",
        "\n",
        "                all_labels.extend(labels.cpu().numpy())\n",
        "                all_predictions.extend(predicted.cpu().numpy())\n",
        "                all_probabilities.extend(probabilities.cpu().numpy())\n",
        "\n",
        "                total += labels.size(0)\n",
        "                correct += (predicted == labels).sum().item()\n",
        "\n",
        "        # Armazenar a perda de validação da época atual\n",
        "        fold_validation_losses.append(val_loss/len(val_loader))\n",
        "\n",
        "        # Calcular as métricas\n",
        "        accuracy = 100 * correct / total\n",
        "        balanced_acc = balanced_accuracy_score(all_labels, all_predictions)\n",
        "        f1 = f1_score(all_labels, all_predictions, average='binary')\n",
        "        roc_auc = roc_auc_score(all_labels, all_probabilities)\n",
        "\n",
        "        print(f'Validation Loss: {val_loss/len(val_loader):.4f}, Accuracy: {accuracy:.2f}%')\n",
        "        print(f'Balanced Accuracy: {balanced_acc:.4f}')\n",
        "        print(f'F1-Score: {f1:.4f}')\n",
        "        print(f'ROC-AUC: {roc_auc:.4f}')\n",
        "\n",
        "        # Registrar a perda e as métricas de validação no TensorBoard\n",
        "        writer.add_scalar(f'Fold_{fold+1}/Validation_Loss', val_loss/len(val_loader), epoch)\n",
        "        writer.add_scalar(f'Fold_{fold+1}/Accuracy', accuracy, epoch)\n",
        "        writer.add_scalar(f'Fold_{fold+1}/Balanced_Accuracy', balanced_acc, epoch)\n",
        "        writer.add_scalar(f'Fold_{fold+1}/F1_Score', f1, epoch)\n",
        "        writer.add_scalar(f'Fold_{fold+1}/ROC_AUC', roc_auc, epoch)\n",
        "\n",
        "\n",
        "    # Calcular a matriz de confusão após o último epoch do fold\n",
        "    conf_matrix = confusion_matrix(all_labels, all_predictions)\n",
        "    confusion_matrices.append(conf_matrix)\n",
        "\n",
        "    # Armazenar as métricas finais do fold\n",
        "    accuracies.append(accuracy)\n",
        "    balanced_accuracies.append(balanced_acc)\n",
        "    f1_scores.append(f1)\n",
        "    roc_aucs.append(roc_auc)\n",
        "\n",
        "    # Armazenar as perdas de treinamento e validação para o fold\n",
        "    training_losses.append(fold_training_losses)\n",
        "    validation_losses.append(fold_validation_losses)\n",
        "\n",
        "    print(f'Matriz de Confusão do Fold {fold + 1}:\\n{conf_matrix}')\n",
        "\n",
        "# Comparação das métricas para o fold 3\n",
        "print('\\nResultados do Fold 3:')\n",
        "print(f'Acurácia: {accuracies[-1]:.2f}%')\n",
        "print(f'Acurácia Balanceada: {balanced_accuracies[-1]:.4f}')\n",
        "print(f'F1-Score: {f1_scores[-1]:.4f}')\n",
        "print(f'ROC-AUC: {roc_aucs[-1]:.4f}')\n",
        "\n",
        "# Mostrar a matriz de confusão do fold 3\n",
        "print(f'\\nMatriz de Confusão do Fold 3:\\n{confusion_matrices[-1]}')\n"
      ]
    },
    {
      "cell_type": "code",
      "execution_count": null,
      "metadata": {},
      "outputs": [],
      "source": [
        "writer.close()\n"
      ]
    },
    {
      "cell_type": "markdown",
      "metadata": {},
      "source": []
    }
  ],
  "metadata": {
    "accelerator": "GPU",
    "colab": {
      "collapsed_sections": [
        "wAqaPsbR4AF7",
        "aJp4yHsUcNG4",
        "4eX4_yDybfsC",
        "YLiUP8jBb2zc",
        "ty0P-nbAlEgT",
        "Yb8LkJKuIIKX",
        "bE-YiyTq8ZJ1",
        "s7lLUXuggyFk",
        "sbnUZ75y3oif",
        "CoywLVhw4aWo",
        "QfcGKY9U5MNR"
      ],
      "gpuType": "T4",
      "provenance": []
    },
    "kernelspec": {
      "display_name": "Python 3",
      "name": "python3"
    },
    "language_info": {
      "codemirror_mode": {
        "name": "ipython",
        "version": 3
      },
      "file_extension": ".py",
      "mimetype": "text/x-python",
      "name": "python",
      "nbconvert_exporter": "python",
      "pygments_lexer": "ipython3",
      "version": "3.11.9"
    }
  },
  "nbformat": 4,
  "nbformat_minor": 0
}
